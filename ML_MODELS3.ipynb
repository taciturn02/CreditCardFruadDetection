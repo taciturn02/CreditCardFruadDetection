{
  "cells": [
    {
      "cell_type": "markdown",
      "metadata": {
        "id": "view-in-github",
        "colab_type": "text"
      },
      "source": [
        "<a href=\"https://colab.research.google.com/github/taciturn02/CreditCardFruadDetection/blob/main/ML_MODELS3.ipynb\" target=\"_parent\"><img src=\"https://colab.research.google.com/assets/colab-badge.svg\" alt=\"Open In Colab\"/></a>"
      ]
    },
    {
      "cell_type": "code",
      "execution_count": 94,
      "metadata": {
        "id": "af6ytPke5kNc"
      },
      "outputs": [],
      "source": [
        "from google.colab import drive"
      ]
    },
    {
      "cell_type": "code",
      "execution_count": 95,
      "metadata": {
        "colab": {
          "base_uri": "https://localhost:8080/"
        },
        "id": "CHLz3LRP5prS",
        "outputId": "cb366880-87ad-4d2d-8eac-a37bac7aa383"
      },
      "outputs": [
        {
          "output_type": "stream",
          "name": "stdout",
          "text": [
            "Drive already mounted at /content/drive; to attempt to forcibly remount, call drive.mount(\"/content/drive\", force_remount=True).\n"
          ]
        }
      ],
      "source": [
        "drive.mount('/content/drive')"
      ]
    },
    {
      "cell_type": "code",
      "execution_count": 96,
      "metadata": {
        "id": "g5ADbImS5rSZ"
      },
      "outputs": [],
      "source": [
        "import numpy as np\n",
        "import pandas as pd\n",
        "from sklearn.model_selection import train_test_split\n",
        "from sklearn.linear_model import LogisticRegression\n",
        "from sklearn import metrics\n",
        "from sklearn.metrics import accuracy_score, precision_score, recall_score,classification_report,confusion_matrix,f1_score,roc_auc_score\n",
        "from sklearn.model_selection import KFold,cross_val_score\n",
        "\n"
      ]
    },
    {
      "cell_type": "code",
      "execution_count": 97,
      "metadata": {
        "id": "IgjdfA3I51G0"
      },
      "outputs": [],
      "source": [
        "train_df = pd.read_csv(\"/content/drive/MyDrive/CreditCard_DataSet/Dataset_For_Smote.csv\")\n"
      ]
    },
    {
      "cell_type": "code",
      "execution_count": 98,
      "metadata": {
        "colab": {
          "base_uri": "https://localhost:8080/"
        },
        "id": "BOu74PO46VZI",
        "outputId": "a841daf1-f5a8-4dba-b6b5-760ef93c852a"
      },
      "outputs": [
        {
          "output_type": "stream",
          "name": "stdout",
          "text": [
            "<class 'pandas.core.frame.DataFrame'>\n",
            "RangeIndex: 555719 entries, 0 to 555718\n",
            "Data columns (total 16 columns):\n",
            " #   Column      Non-Null Count   Dtype  \n",
            "---  ------      --------------   -----  \n",
            " 0   merchant    555719 non-null  int64  \n",
            " 1   category    555719 non-null  int64  \n",
            " 2   amt         555719 non-null  float64\n",
            " 3   gender      555719 non-null  int64  \n",
            " 4   zip         555719 non-null  int64  \n",
            " 5   lat         555719 non-null  float64\n",
            " 6   long        555719 non-null  float64\n",
            " 7   city_pop    555719 non-null  int64  \n",
            " 8   job         555719 non-null  int64  \n",
            " 9   merch_lat   555719 non-null  float64\n",
            " 10  merch_long  555719 non-null  float64\n",
            " 11  is_fraud    555719 non-null  int64  \n",
            " 12  hour        555719 non-null  int64  \n",
            " 13  day         555719 non-null  int64  \n",
            " 14  month       555719 non-null  int64  \n",
            " 15  age_cust    555719 non-null  int64  \n",
            "dtypes: float64(5), int64(11)\n",
            "memory usage: 67.8 MB\n"
          ]
        }
      ],
      "source": [
        "train_df.info()\n",
        "\n"
      ]
    },
    {
      "cell_type": "markdown",
      "source": [
        "##Synthetic Minority Oversampling Technique (SMOTE)"
      ],
      "metadata": {
        "id": "IjhMKtG_MGkk"
      }
    },
    {
      "cell_type": "code",
      "source": [
        "from imblearn.over_sampling import SMOTE\n",
        "from sklearn.model_selection import train_test_split\n",
        "smote = SMOTE(random_state=42)\n",
        "XX = train_df.drop(columns='is_fraud', axis=1)\n",
        "YY = train_df['is_fraud']\n",
        "XS, YS = smote.fit_resample(XX, YY)"
      ],
      "metadata": {
        "id": "HQ109BBJMD3r"
      },
      "execution_count": 99,
      "outputs": []
    },
    {
      "cell_type": "code",
      "source": [
        "YY.value_counts()"
      ],
      "metadata": {
        "colab": {
          "base_uri": "https://localhost:8080/"
        },
        "id": "-f1dnenNMMiF",
        "outputId": "4d4622f9-865a-4c5a-f300-9b4d635b0b08"
      },
      "execution_count": 100,
      "outputs": [
        {
          "output_type": "execute_result",
          "data": {
            "text/plain": [
              "is_fraud\n",
              "0    553574\n",
              "1      2145\n",
              "Name: count, dtype: int64"
            ]
          },
          "metadata": {},
          "execution_count": 100
        }
      ]
    },
    {
      "cell_type": "code",
      "source": [
        "YS.value_counts()"
      ],
      "metadata": {
        "colab": {
          "base_uri": "https://localhost:8080/"
        },
        "id": "BPxaN0hWMOsD",
        "outputId": "c9908a16-cced-4191-b505-72f72f246188"
      },
      "execution_count": 101,
      "outputs": [
        {
          "output_type": "execute_result",
          "data": {
            "text/plain": [
              "is_fraud\n",
              "0    553574\n",
              "1    553574\n",
              "Name: count, dtype: int64"
            ]
          },
          "metadata": {},
          "execution_count": 101
        }
      ]
    },
    {
      "cell_type": "code",
      "source": [
        "YS\n"
      ],
      "metadata": {
        "colab": {
          "base_uri": "https://localhost:8080/"
        },
        "id": "dcuPTOhtPxXB",
        "outputId": "9ae2361e-5f4a-43c7-e3ef-f5f2da5370e9"
      },
      "execution_count": 102,
      "outputs": [
        {
          "output_type": "execute_result",
          "data": {
            "text/plain": [
              "0          0\n",
              "1          0\n",
              "2          0\n",
              "3          0\n",
              "4          0\n",
              "          ..\n",
              "1107143    1\n",
              "1107144    1\n",
              "1107145    1\n",
              "1107146    1\n",
              "1107147    1\n",
              "Name: is_fraud, Length: 1107148, dtype: int64"
            ]
          },
          "metadata": {},
          "execution_count": 102
        }
      ]
    },
    {
      "cell_type": "code",
      "source": [
        "XS"
      ],
      "metadata": {
        "colab": {
          "base_uri": "https://localhost:8080/",
          "height": 444
        },
        "id": "G_D6lN_oPjoW",
        "outputId": "843f7da7-9f11-4dca-ee13-fd4b1884013a"
      },
      "execution_count": 103,
      "outputs": [
        {
          "output_type": "execute_result",
          "data": {
            "text/plain": [
              "         merchant  category         amt  gender    zip        lat        long  \\\n",
              "0             319        10    2.860000       1  29209  33.965900  -80.935500   \n",
              "1             591        10   29.840000       0  84002  40.320700 -110.436000   \n",
              "2             611         5   41.280000       0  11710  40.672900  -73.536500   \n",
              "3             222         9   60.050000       1  32780  28.569700  -80.819100   \n",
              "4             292        13    3.190000       1  49632  44.252900  -85.017000   \n",
              "...           ...       ...         ...     ...    ...        ...         ...   \n",
              "1107143       550         6  207.777889       1  24433  38.420700  -79.462900   \n",
              "1107144       273         6  706.413468       1  59542  48.832800 -108.396100   \n",
              "1107145       293         2   14.100830       1  13413  42.944843  -75.465709   \n",
              "1107146       240         3  165.910696       1  48034  42.496900  -83.291100   \n",
              "1107147       297         8  823.477927       1  30756  34.929800  -84.988500   \n",
              "\n",
              "         city_pop  job  merch_lat  merch_long  hour  day  month  age_cust  \n",
              "0          333497  275  33.986391  -81.200714    12    3      6        52  \n",
              "1             302  392  39.450498 -109.960431    12    3      6        30  \n",
              "2           34496  259  40.495810  -74.196111    12    3      6        50  \n",
              "3           54767  407  28.812398  -80.883061    12    3      6        33  \n",
              "4            1126  196  44.959148  -85.884734    12    3      6        65  \n",
              "...           ...  ...        ...         ...   ...  ...    ...       ...  \n",
              "1107143        99  110  38.998909  -79.778687     9    1      7        34  \n",
              "1107144       192  197  48.109967 -107.960137    23    1     10        56  \n",
              "1107145      1976  352  42.721610  -75.756950     1    5     10        70  \n",
              "1107146     75830  148  42.860469  -83.114075     2    4      9        46  \n",
              "1107147        74  320  35.090244  -84.704826    22    0     10        76  \n",
              "\n",
              "[1107148 rows x 15 columns]"
            ],
            "text/html": [
              "\n",
              "  <div id=\"df-c84f0525-9cdf-457c-8997-899a751642c0\" class=\"colab-df-container\">\n",
              "    <div>\n",
              "<style scoped>\n",
              "    .dataframe tbody tr th:only-of-type {\n",
              "        vertical-align: middle;\n",
              "    }\n",
              "\n",
              "    .dataframe tbody tr th {\n",
              "        vertical-align: top;\n",
              "    }\n",
              "\n",
              "    .dataframe thead th {\n",
              "        text-align: right;\n",
              "    }\n",
              "</style>\n",
              "<table border=\"1\" class=\"dataframe\">\n",
              "  <thead>\n",
              "    <tr style=\"text-align: right;\">\n",
              "      <th></th>\n",
              "      <th>merchant</th>\n",
              "      <th>category</th>\n",
              "      <th>amt</th>\n",
              "      <th>gender</th>\n",
              "      <th>zip</th>\n",
              "      <th>lat</th>\n",
              "      <th>long</th>\n",
              "      <th>city_pop</th>\n",
              "      <th>job</th>\n",
              "      <th>merch_lat</th>\n",
              "      <th>merch_long</th>\n",
              "      <th>hour</th>\n",
              "      <th>day</th>\n",
              "      <th>month</th>\n",
              "      <th>age_cust</th>\n",
              "    </tr>\n",
              "  </thead>\n",
              "  <tbody>\n",
              "    <tr>\n",
              "      <th>0</th>\n",
              "      <td>319</td>\n",
              "      <td>10</td>\n",
              "      <td>2.860000</td>\n",
              "      <td>1</td>\n",
              "      <td>29209</td>\n",
              "      <td>33.965900</td>\n",
              "      <td>-80.935500</td>\n",
              "      <td>333497</td>\n",
              "      <td>275</td>\n",
              "      <td>33.986391</td>\n",
              "      <td>-81.200714</td>\n",
              "      <td>12</td>\n",
              "      <td>3</td>\n",
              "      <td>6</td>\n",
              "      <td>52</td>\n",
              "    </tr>\n",
              "    <tr>\n",
              "      <th>1</th>\n",
              "      <td>591</td>\n",
              "      <td>10</td>\n",
              "      <td>29.840000</td>\n",
              "      <td>0</td>\n",
              "      <td>84002</td>\n",
              "      <td>40.320700</td>\n",
              "      <td>-110.436000</td>\n",
              "      <td>302</td>\n",
              "      <td>392</td>\n",
              "      <td>39.450498</td>\n",
              "      <td>-109.960431</td>\n",
              "      <td>12</td>\n",
              "      <td>3</td>\n",
              "      <td>6</td>\n",
              "      <td>30</td>\n",
              "    </tr>\n",
              "    <tr>\n",
              "      <th>2</th>\n",
              "      <td>611</td>\n",
              "      <td>5</td>\n",
              "      <td>41.280000</td>\n",
              "      <td>0</td>\n",
              "      <td>11710</td>\n",
              "      <td>40.672900</td>\n",
              "      <td>-73.536500</td>\n",
              "      <td>34496</td>\n",
              "      <td>259</td>\n",
              "      <td>40.495810</td>\n",
              "      <td>-74.196111</td>\n",
              "      <td>12</td>\n",
              "      <td>3</td>\n",
              "      <td>6</td>\n",
              "      <td>50</td>\n",
              "    </tr>\n",
              "    <tr>\n",
              "      <th>3</th>\n",
              "      <td>222</td>\n",
              "      <td>9</td>\n",
              "      <td>60.050000</td>\n",
              "      <td>1</td>\n",
              "      <td>32780</td>\n",
              "      <td>28.569700</td>\n",
              "      <td>-80.819100</td>\n",
              "      <td>54767</td>\n",
              "      <td>407</td>\n",
              "      <td>28.812398</td>\n",
              "      <td>-80.883061</td>\n",
              "      <td>12</td>\n",
              "      <td>3</td>\n",
              "      <td>6</td>\n",
              "      <td>33</td>\n",
              "    </tr>\n",
              "    <tr>\n",
              "      <th>4</th>\n",
              "      <td>292</td>\n",
              "      <td>13</td>\n",
              "      <td>3.190000</td>\n",
              "      <td>1</td>\n",
              "      <td>49632</td>\n",
              "      <td>44.252900</td>\n",
              "      <td>-85.017000</td>\n",
              "      <td>1126</td>\n",
              "      <td>196</td>\n",
              "      <td>44.959148</td>\n",
              "      <td>-85.884734</td>\n",
              "      <td>12</td>\n",
              "      <td>3</td>\n",
              "      <td>6</td>\n",
              "      <td>65</td>\n",
              "    </tr>\n",
              "    <tr>\n",
              "      <th>...</th>\n",
              "      <td>...</td>\n",
              "      <td>...</td>\n",
              "      <td>...</td>\n",
              "      <td>...</td>\n",
              "      <td>...</td>\n",
              "      <td>...</td>\n",
              "      <td>...</td>\n",
              "      <td>...</td>\n",
              "      <td>...</td>\n",
              "      <td>...</td>\n",
              "      <td>...</td>\n",
              "      <td>...</td>\n",
              "      <td>...</td>\n",
              "      <td>...</td>\n",
              "      <td>...</td>\n",
              "    </tr>\n",
              "    <tr>\n",
              "      <th>1107143</th>\n",
              "      <td>550</td>\n",
              "      <td>6</td>\n",
              "      <td>207.777889</td>\n",
              "      <td>1</td>\n",
              "      <td>24433</td>\n",
              "      <td>38.420700</td>\n",
              "      <td>-79.462900</td>\n",
              "      <td>99</td>\n",
              "      <td>110</td>\n",
              "      <td>38.998909</td>\n",
              "      <td>-79.778687</td>\n",
              "      <td>9</td>\n",
              "      <td>1</td>\n",
              "      <td>7</td>\n",
              "      <td>34</td>\n",
              "    </tr>\n",
              "    <tr>\n",
              "      <th>1107144</th>\n",
              "      <td>273</td>\n",
              "      <td>6</td>\n",
              "      <td>706.413468</td>\n",
              "      <td>1</td>\n",
              "      <td>59542</td>\n",
              "      <td>48.832800</td>\n",
              "      <td>-108.396100</td>\n",
              "      <td>192</td>\n",
              "      <td>197</td>\n",
              "      <td>48.109967</td>\n",
              "      <td>-107.960137</td>\n",
              "      <td>23</td>\n",
              "      <td>1</td>\n",
              "      <td>10</td>\n",
              "      <td>56</td>\n",
              "    </tr>\n",
              "    <tr>\n",
              "      <th>1107145</th>\n",
              "      <td>293</td>\n",
              "      <td>2</td>\n",
              "      <td>14.100830</td>\n",
              "      <td>1</td>\n",
              "      <td>13413</td>\n",
              "      <td>42.944843</td>\n",
              "      <td>-75.465709</td>\n",
              "      <td>1976</td>\n",
              "      <td>352</td>\n",
              "      <td>42.721610</td>\n",
              "      <td>-75.756950</td>\n",
              "      <td>1</td>\n",
              "      <td>5</td>\n",
              "      <td>10</td>\n",
              "      <td>70</td>\n",
              "    </tr>\n",
              "    <tr>\n",
              "      <th>1107146</th>\n",
              "      <td>240</td>\n",
              "      <td>3</td>\n",
              "      <td>165.910696</td>\n",
              "      <td>1</td>\n",
              "      <td>48034</td>\n",
              "      <td>42.496900</td>\n",
              "      <td>-83.291100</td>\n",
              "      <td>75830</td>\n",
              "      <td>148</td>\n",
              "      <td>42.860469</td>\n",
              "      <td>-83.114075</td>\n",
              "      <td>2</td>\n",
              "      <td>4</td>\n",
              "      <td>9</td>\n",
              "      <td>46</td>\n",
              "    </tr>\n",
              "    <tr>\n",
              "      <th>1107147</th>\n",
              "      <td>297</td>\n",
              "      <td>8</td>\n",
              "      <td>823.477927</td>\n",
              "      <td>1</td>\n",
              "      <td>30756</td>\n",
              "      <td>34.929800</td>\n",
              "      <td>-84.988500</td>\n",
              "      <td>74</td>\n",
              "      <td>320</td>\n",
              "      <td>35.090244</td>\n",
              "      <td>-84.704826</td>\n",
              "      <td>22</td>\n",
              "      <td>0</td>\n",
              "      <td>10</td>\n",
              "      <td>76</td>\n",
              "    </tr>\n",
              "  </tbody>\n",
              "</table>\n",
              "<p>1107148 rows × 15 columns</p>\n",
              "</div>\n",
              "    <div class=\"colab-df-buttons\">\n",
              "\n",
              "  <div class=\"colab-df-container\">\n",
              "    <button class=\"colab-df-convert\" onclick=\"convertToInteractive('df-c84f0525-9cdf-457c-8997-899a751642c0')\"\n",
              "            title=\"Convert this dataframe to an interactive table.\"\n",
              "            style=\"display:none;\">\n",
              "\n",
              "  <svg xmlns=\"http://www.w3.org/2000/svg\" height=\"24px\" viewBox=\"0 -960 960 960\">\n",
              "    <path d=\"M120-120v-720h720v720H120Zm60-500h600v-160H180v160Zm220 220h160v-160H400v160Zm0 220h160v-160H400v160ZM180-400h160v-160H180v160Zm440 0h160v-160H620v160ZM180-180h160v-160H180v160Zm440 0h160v-160H620v160Z\"/>\n",
              "  </svg>\n",
              "    </button>\n",
              "\n",
              "  <style>\n",
              "    .colab-df-container {\n",
              "      display:flex;\n",
              "      gap: 12px;\n",
              "    }\n",
              "\n",
              "    .colab-df-convert {\n",
              "      background-color: #E8F0FE;\n",
              "      border: none;\n",
              "      border-radius: 50%;\n",
              "      cursor: pointer;\n",
              "      display: none;\n",
              "      fill: #1967D2;\n",
              "      height: 32px;\n",
              "      padding: 0 0 0 0;\n",
              "      width: 32px;\n",
              "    }\n",
              "\n",
              "    .colab-df-convert:hover {\n",
              "      background-color: #E2EBFA;\n",
              "      box-shadow: 0px 1px 2px rgba(60, 64, 67, 0.3), 0px 1px 3px 1px rgba(60, 64, 67, 0.15);\n",
              "      fill: #174EA6;\n",
              "    }\n",
              "\n",
              "    .colab-df-buttons div {\n",
              "      margin-bottom: 4px;\n",
              "    }\n",
              "\n",
              "    [theme=dark] .colab-df-convert {\n",
              "      background-color: #3B4455;\n",
              "      fill: #D2E3FC;\n",
              "    }\n",
              "\n",
              "    [theme=dark] .colab-df-convert:hover {\n",
              "      background-color: #434B5C;\n",
              "      box-shadow: 0px 1px 3px 1px rgba(0, 0, 0, 0.15);\n",
              "      filter: drop-shadow(0px 1px 2px rgba(0, 0, 0, 0.3));\n",
              "      fill: #FFFFFF;\n",
              "    }\n",
              "  </style>\n",
              "\n",
              "    <script>\n",
              "      const buttonEl =\n",
              "        document.querySelector('#df-c84f0525-9cdf-457c-8997-899a751642c0 button.colab-df-convert');\n",
              "      buttonEl.style.display =\n",
              "        google.colab.kernel.accessAllowed ? 'block' : 'none';\n",
              "\n",
              "      async function convertToInteractive(key) {\n",
              "        const element = document.querySelector('#df-c84f0525-9cdf-457c-8997-899a751642c0');\n",
              "        const dataTable =\n",
              "          await google.colab.kernel.invokeFunction('convertToInteractive',\n",
              "                                                    [key], {});\n",
              "        if (!dataTable) return;\n",
              "\n",
              "        const docLinkHtml = 'Like what you see? Visit the ' +\n",
              "          '<a target=\"_blank\" href=https://colab.research.google.com/notebooks/data_table.ipynb>data table notebook</a>'\n",
              "          + ' to learn more about interactive tables.';\n",
              "        element.innerHTML = '';\n",
              "        dataTable['output_type'] = 'display_data';\n",
              "        await google.colab.output.renderOutput(dataTable, element);\n",
              "        const docLink = document.createElement('div');\n",
              "        docLink.innerHTML = docLinkHtml;\n",
              "        element.appendChild(docLink);\n",
              "      }\n",
              "    </script>\n",
              "  </div>\n",
              "\n",
              "\n",
              "<div id=\"df-141d9a1e-ed1e-44d7-9e4e-bfd5c9dff104\">\n",
              "  <button class=\"colab-df-quickchart\" onclick=\"quickchart('df-141d9a1e-ed1e-44d7-9e4e-bfd5c9dff104')\"\n",
              "            title=\"Suggest charts\"\n",
              "            style=\"display:none;\">\n",
              "\n",
              "<svg xmlns=\"http://www.w3.org/2000/svg\" height=\"24px\"viewBox=\"0 0 24 24\"\n",
              "     width=\"24px\">\n",
              "    <g>\n",
              "        <path d=\"M19 3H5c-1.1 0-2 .9-2 2v14c0 1.1.9 2 2 2h14c1.1 0 2-.9 2-2V5c0-1.1-.9-2-2-2zM9 17H7v-7h2v7zm4 0h-2V7h2v10zm4 0h-2v-4h2v4z\"/>\n",
              "    </g>\n",
              "</svg>\n",
              "  </button>\n",
              "\n",
              "<style>\n",
              "  .colab-df-quickchart {\n",
              "      --bg-color: #E8F0FE;\n",
              "      --fill-color: #1967D2;\n",
              "      --hover-bg-color: #E2EBFA;\n",
              "      --hover-fill-color: #174EA6;\n",
              "      --disabled-fill-color: #AAA;\n",
              "      --disabled-bg-color: #DDD;\n",
              "  }\n",
              "\n",
              "  [theme=dark] .colab-df-quickchart {\n",
              "      --bg-color: #3B4455;\n",
              "      --fill-color: #D2E3FC;\n",
              "      --hover-bg-color: #434B5C;\n",
              "      --hover-fill-color: #FFFFFF;\n",
              "      --disabled-bg-color: #3B4455;\n",
              "      --disabled-fill-color: #666;\n",
              "  }\n",
              "\n",
              "  .colab-df-quickchart {\n",
              "    background-color: var(--bg-color);\n",
              "    border: none;\n",
              "    border-radius: 50%;\n",
              "    cursor: pointer;\n",
              "    display: none;\n",
              "    fill: var(--fill-color);\n",
              "    height: 32px;\n",
              "    padding: 0;\n",
              "    width: 32px;\n",
              "  }\n",
              "\n",
              "  .colab-df-quickchart:hover {\n",
              "    background-color: var(--hover-bg-color);\n",
              "    box-shadow: 0 1px 2px rgba(60, 64, 67, 0.3), 0 1px 3px 1px rgba(60, 64, 67, 0.15);\n",
              "    fill: var(--button-hover-fill-color);\n",
              "  }\n",
              "\n",
              "  .colab-df-quickchart-complete:disabled,\n",
              "  .colab-df-quickchart-complete:disabled:hover {\n",
              "    background-color: var(--disabled-bg-color);\n",
              "    fill: var(--disabled-fill-color);\n",
              "    box-shadow: none;\n",
              "  }\n",
              "\n",
              "  .colab-df-spinner {\n",
              "    border: 2px solid var(--fill-color);\n",
              "    border-color: transparent;\n",
              "    border-bottom-color: var(--fill-color);\n",
              "    animation:\n",
              "      spin 1s steps(1) infinite;\n",
              "  }\n",
              "\n",
              "  @keyframes spin {\n",
              "    0% {\n",
              "      border-color: transparent;\n",
              "      border-bottom-color: var(--fill-color);\n",
              "      border-left-color: var(--fill-color);\n",
              "    }\n",
              "    20% {\n",
              "      border-color: transparent;\n",
              "      border-left-color: var(--fill-color);\n",
              "      border-top-color: var(--fill-color);\n",
              "    }\n",
              "    30% {\n",
              "      border-color: transparent;\n",
              "      border-left-color: var(--fill-color);\n",
              "      border-top-color: var(--fill-color);\n",
              "      border-right-color: var(--fill-color);\n",
              "    }\n",
              "    40% {\n",
              "      border-color: transparent;\n",
              "      border-right-color: var(--fill-color);\n",
              "      border-top-color: var(--fill-color);\n",
              "    }\n",
              "    60% {\n",
              "      border-color: transparent;\n",
              "      border-right-color: var(--fill-color);\n",
              "    }\n",
              "    80% {\n",
              "      border-color: transparent;\n",
              "      border-right-color: var(--fill-color);\n",
              "      border-bottom-color: var(--fill-color);\n",
              "    }\n",
              "    90% {\n",
              "      border-color: transparent;\n",
              "      border-bottom-color: var(--fill-color);\n",
              "    }\n",
              "  }\n",
              "</style>\n",
              "\n",
              "  <script>\n",
              "    async function quickchart(key) {\n",
              "      const quickchartButtonEl =\n",
              "        document.querySelector('#' + key + ' button');\n",
              "      quickchartButtonEl.disabled = true;  // To prevent multiple clicks.\n",
              "      quickchartButtonEl.classList.add('colab-df-spinner');\n",
              "      try {\n",
              "        const charts = await google.colab.kernel.invokeFunction(\n",
              "            'suggestCharts', [key], {});\n",
              "      } catch (error) {\n",
              "        console.error('Error during call to suggestCharts:', error);\n",
              "      }\n",
              "      quickchartButtonEl.classList.remove('colab-df-spinner');\n",
              "      quickchartButtonEl.classList.add('colab-df-quickchart-complete');\n",
              "    }\n",
              "    (() => {\n",
              "      let quickchartButtonEl =\n",
              "        document.querySelector('#df-141d9a1e-ed1e-44d7-9e4e-bfd5c9dff104 button');\n",
              "      quickchartButtonEl.style.display =\n",
              "        google.colab.kernel.accessAllowed ? 'block' : 'none';\n",
              "    })();\n",
              "  </script>\n",
              "</div>\n",
              "\n",
              "  <div id=\"id_f11f5834-2521-44bf-943b-64af0539f07b\">\n",
              "    <style>\n",
              "      .colab-df-generate {\n",
              "        background-color: #E8F0FE;\n",
              "        border: none;\n",
              "        border-radius: 50%;\n",
              "        cursor: pointer;\n",
              "        display: none;\n",
              "        fill: #1967D2;\n",
              "        height: 32px;\n",
              "        padding: 0 0 0 0;\n",
              "        width: 32px;\n",
              "      }\n",
              "\n",
              "      .colab-df-generate:hover {\n",
              "        background-color: #E2EBFA;\n",
              "        box-shadow: 0px 1px 2px rgba(60, 64, 67, 0.3), 0px 1px 3px 1px rgba(60, 64, 67, 0.15);\n",
              "        fill: #174EA6;\n",
              "      }\n",
              "\n",
              "      [theme=dark] .colab-df-generate {\n",
              "        background-color: #3B4455;\n",
              "        fill: #D2E3FC;\n",
              "      }\n",
              "\n",
              "      [theme=dark] .colab-df-generate:hover {\n",
              "        background-color: #434B5C;\n",
              "        box-shadow: 0px 1px 3px 1px rgba(0, 0, 0, 0.15);\n",
              "        filter: drop-shadow(0px 1px 2px rgba(0, 0, 0, 0.3));\n",
              "        fill: #FFFFFF;\n",
              "      }\n",
              "    </style>\n",
              "    <button class=\"colab-df-generate\" onclick=\"generateWithVariable('XS')\"\n",
              "            title=\"Generate code using this dataframe.\"\n",
              "            style=\"display:none;\">\n",
              "\n",
              "  <svg xmlns=\"http://www.w3.org/2000/svg\" height=\"24px\"viewBox=\"0 0 24 24\"\n",
              "       width=\"24px\">\n",
              "    <path d=\"M7,19H8.4L18.45,9,17,7.55,7,17.6ZM5,21V16.75L18.45,3.32a2,2,0,0,1,2.83,0l1.4,1.43a1.91,1.91,0,0,1,.58,1.4,1.91,1.91,0,0,1-.58,1.4L9.25,21ZM18.45,9,17,7.55Zm-12,3A5.31,5.31,0,0,0,4.9,8.1,5.31,5.31,0,0,0,1,6.5,5.31,5.31,0,0,0,4.9,4.9,5.31,5.31,0,0,0,6.5,1,5.31,5.31,0,0,0,8.1,4.9,5.31,5.31,0,0,0,12,6.5,5.46,5.46,0,0,0,6.5,12Z\"/>\n",
              "  </svg>\n",
              "    </button>\n",
              "    <script>\n",
              "      (() => {\n",
              "      const buttonEl =\n",
              "        document.querySelector('#id_f11f5834-2521-44bf-943b-64af0539f07b button.colab-df-generate');\n",
              "      buttonEl.style.display =\n",
              "        google.colab.kernel.accessAllowed ? 'block' : 'none';\n",
              "\n",
              "      buttonEl.onclick = () => {\n",
              "        google.colab.notebook.generateWithVariable('XS');\n",
              "      }\n",
              "      })();\n",
              "    </script>\n",
              "  </div>\n",
              "\n",
              "    </div>\n",
              "  </div>\n"
            ],
            "application/vnd.google.colaboratory.intrinsic+json": {
              "type": "dataframe",
              "variable_name": "XS"
            }
          },
          "metadata": {},
          "execution_count": 103
        }
      ]
    },
    {
      "cell_type": "markdown",
      "metadata": {
        "id": "dfQBiDZCBgAo"
      },
      "source": [
        "Split data into target and features"
      ]
    },
    {
      "cell_type": "code",
      "source": [
        "from sklearn.preprocessing import MinMaxScaler\n"
      ],
      "metadata": {
        "id": "ZEWM_o_8Heq6"
      },
      "execution_count": 104,
      "outputs": []
    },
    {
      "cell_type": "code",
      "source": [
        "scaler = MinMaxScaler()\n",
        "X_scaled = scaler.fit_transform(XS)\n"
      ],
      "metadata": {
        "id": "-0nweu3YHSbz"
      },
      "execution_count": 105,
      "outputs": []
    },
    {
      "cell_type": "code",
      "source": [
        "X_scaled.mean(axis=0)"
      ],
      "metadata": {
        "id": "pgkrUYMZIiuc",
        "colab": {
          "base_uri": "https://localhost:8080/"
        },
        "outputId": "9b7dac62-2447-49a3-8e7d-1dd369ce9b92"
      },
      "execution_count": 106,
      "outputs": [
        {
          "output_type": "execute_result",
          "data": {
            "text/plain": [
              "array([0.49573065, 0.50565368, 0.01303775, 0.44866359, 0.47741569,\n",
              "       0.41064774, 0.77087183, 0.02635378, 0.49597148, 0.41448097,\n",
              "       0.7653611 , 0.57904069, 0.47378926, 0.55207931, 0.40318325])"
            ]
          },
          "metadata": {},
          "execution_count": 106
        }
      ]
    },
    {
      "cell_type": "code",
      "execution_count": 107,
      "metadata": {
        "id": "bz21EdyVByuz",
        "colab": {
          "base_uri": "https://localhost:8080/"
        },
        "outputId": "d89c701a-128d-4c50-b7b5-07c2a175edfa"
      },
      "outputs": [
        {
          "output_type": "execute_result",
          "data": {
            "text/plain": [
              "array([[4.60982659e-01, 7.69230769e-01, 8.16967986e-05, ...,\n",
              "        5.00000000e-01, 0.00000000e+00, 4.56790123e-01],\n",
              "       [8.54046243e-01, 7.69230769e-01, 1.26673961e-03, ...,\n",
              "        5.00000000e-01, 0.00000000e+00, 1.85185185e-01],\n",
              "       [8.82947977e-01, 3.84615385e-01, 1.76921884e-03, ...,\n",
              "        5.00000000e-01, 0.00000000e+00, 4.32098765e-01],\n",
              "       ...,\n",
              "       [4.23410405e-01, 1.53846154e-01, 5.75427880e-04, ...,\n",
              "        8.33333333e-01, 6.66666667e-01, 6.79012346e-01],\n",
              "       [3.46820809e-01, 2.30769231e-01, 7.24337414e-03, ...,\n",
              "        6.66666667e-01, 5.00000000e-01, 3.82716049e-01],\n",
              "       [4.29190751e-01, 6.15384615e-01, 3.61257062e-02, ...,\n",
              "        0.00000000e+00, 6.66666667e-01, 7.53086420e-01]])"
            ]
          },
          "metadata": {},
          "execution_count": 107
        }
      ],
      "source": [
        "X_scaled"
      ]
    },
    {
      "cell_type": "code",
      "source": [
        "X_df= pd.DataFrame(X_scaled, columns=XS.columns)\n"
      ],
      "metadata": {
        "id": "Kg-LlmSlegZg"
      },
      "execution_count": 108,
      "outputs": []
    },
    {
      "cell_type": "code",
      "source": [
        "norm_data =  pd.concat([X_df,YS], axis=1)"
      ],
      "metadata": {
        "id": "AVv2Ni1ue59j"
      },
      "execution_count": 109,
      "outputs": []
    },
    {
      "cell_type": "code",
      "source": [
        "norm_data.info()"
      ],
      "metadata": {
        "colab": {
          "base_uri": "https://localhost:8080/"
        },
        "id": "OhJTjUoNfJyB",
        "outputId": "850b1ae0-172f-47a7-b530-74650ce3e9bc"
      },
      "execution_count": 110,
      "outputs": [
        {
          "output_type": "stream",
          "name": "stdout",
          "text": [
            "<class 'pandas.core.frame.DataFrame'>\n",
            "RangeIndex: 1107148 entries, 0 to 1107147\n",
            "Data columns (total 16 columns):\n",
            " #   Column      Non-Null Count    Dtype  \n",
            "---  ------      --------------    -----  \n",
            " 0   merchant    1107148 non-null  float64\n",
            " 1   category    1107148 non-null  float64\n",
            " 2   amt         1107148 non-null  float64\n",
            " 3   gender      1107148 non-null  float64\n",
            " 4   zip         1107148 non-null  float64\n",
            " 5   lat         1107148 non-null  float64\n",
            " 6   long        1107148 non-null  float64\n",
            " 7   city_pop    1107148 non-null  float64\n",
            " 8   job         1107148 non-null  float64\n",
            " 9   merch_lat   1107148 non-null  float64\n",
            " 10  merch_long  1107148 non-null  float64\n",
            " 11  hour        1107148 non-null  float64\n",
            " 12  day         1107148 non-null  float64\n",
            " 13  month       1107148 non-null  float64\n",
            " 14  age_cust    1107148 non-null  float64\n",
            " 15  is_fraud    1107148 non-null  int64  \n",
            "dtypes: float64(15), int64(1)\n",
            "memory usage: 135.2 MB\n"
          ]
        }
      ]
    },
    {
      "cell_type": "code",
      "source": [
        "legit = norm_data[norm_data.is_fraud == 0]\n",
        "fraud = norm_data[norm_data.is_fraud == 1]"
      ],
      "metadata": {
        "id": "vHba8IsqfTbd"
      },
      "execution_count": 111,
      "outputs": []
    },
    {
      "cell_type": "code",
      "source": [
        "legit_undersample =  legit.sample(n=100000)\n",
        "fraud_undersample = fraud.sample(n=100000)"
      ],
      "metadata": {
        "id": "j6eZCh4sfesx"
      },
      "execution_count": 112,
      "outputs": []
    },
    {
      "cell_type": "code",
      "source": [
        "randomUndersampled_data = pd.concat([legit_undersample,fraud_undersample],axis = 0)"
      ],
      "metadata": {
        "id": "iFbYUe0JfpzN"
      },
      "execution_count": 113,
      "outputs": []
    },
    {
      "cell_type": "code",
      "source": [
        "randomUndersampled_data[\"is_fraud\"].value_counts()"
      ],
      "metadata": {
        "colab": {
          "base_uri": "https://localhost:8080/"
        },
        "id": "IjI12ZuIfx0c",
        "outputId": "9fa03073-f35c-41bd-b127-0902d5305d1e"
      },
      "execution_count": 114,
      "outputs": [
        {
          "output_type": "execute_result",
          "data": {
            "text/plain": [
              "is_fraud\n",
              "0    100000\n",
              "1    100000\n",
              "Name: count, dtype: int64"
            ]
          },
          "metadata": {},
          "execution_count": 114
        }
      ]
    },
    {
      "cell_type": "code",
      "source": [
        "X = randomUndersampled_data.drop(columns='is_fraud', axis=1)\n",
        "Y = randomUndersampled_data['is_fraud']"
      ],
      "metadata": {
        "id": "f9L41P9Vf59i"
      },
      "execution_count": 115,
      "outputs": []
    },
    {
      "cell_type": "markdown",
      "source": [
        "Initalize K-Fold Cross Validation"
      ],
      "metadata": {
        "id": "f8hL3QBO01hA"
      }
    },
    {
      "cell_type": "code",
      "source": [
        "kfold = KFold(n_splits=5, shuffle=True, random_state=42)\n"
      ],
      "metadata": {
        "id": "_INbm4g9001_"
      },
      "execution_count": 116,
      "outputs": []
    },
    {
      "cell_type": "code",
      "source": [
        "metrics = {\n",
        "    'accuracy': accuracy_score,\n",
        "    'precision': precision_score,\n",
        "    'f1_macro' : f1_score,\n",
        "    'recall': recall_score,\n",
        "    'roc_auc': roc_auc_score,\n",
        "\n",
        "}"
      ],
      "metadata": {
        "id": "dcv5QLt83err"
      },
      "execution_count": 117,
      "outputs": []
    },
    {
      "cell_type": "code",
      "source": [
        "def model_testing1(estimator):\n",
        "    ## Prediction on data\n",
        "    y_preds = estimator.predict(X_test)\n",
        "\n",
        "    ##Print accuracy score\n",
        "    print(\"Accuracy Score on UnderSampled Test Data: \",accuracy_score(Y_test,y_preds))\n",
        "\n",
        "    ## Print classification report\n",
        "    print(\"\\nConfussion Matrix  of UnderSampled Test Data:\\n \" ,confusion_matrix(Y_test ,y_preds),\"\\n\")\n",
        "\n",
        "    ## Check confusion matrix\n",
        "    print(\"classification_report of UnderSampled Test Data: \\n\\n\",classification_report(Y_test ,y_preds))\n"
      ],
      "metadata": {
        "id": "zNoEcJVO4qX7"
      },
      "execution_count": 118,
      "outputs": []
    },
    {
      "cell_type": "code",
      "source": [
        "def model_testing11(estimator):\n",
        "    ## Prediction on data\n",
        "    y_preds = estimator.predict(X_train)\n",
        "\n",
        "    ##Print accuracy score\n",
        "    print(\"Accuracy Score on UnderSampled Train Data: \",accuracy_score(Y_train,y_preds))\n",
        "\n",
        "    ## Print classification report\n",
        "    print(\"\\nConfussion Matrix  of UnderSampled Train Data:\\n \" ,confusion_matrix(Y_train ,y_preds),\"\\n\")\n",
        "\n",
        "    ## Check confusion matrix\n",
        "    print(\"classification_report of UnderSampled Train Data: \\n\\n\",classification_report(Y_train ,y_preds))"
      ],
      "metadata": {
        "id": "jkME1m1k4q_v"
      },
      "execution_count": 119,
      "outputs": []
    },
    {
      "cell_type": "code",
      "source": [
        "accuracy = {}\n",
        "precision = {}\n",
        "recal = {}\n",
        "f1_score = {}\n"
      ],
      "metadata": {
        "id": "uCbozN9ZibM8"
      },
      "execution_count": 164,
      "outputs": []
    },
    {
      "cell_type": "markdown",
      "metadata": {
        "id": "GoSDeVjrQ6fn"
      },
      "source": [
        "##LOGISTIC REGRESSION"
      ]
    },
    {
      "cell_type": "code",
      "source": [
        "model = LogisticRegression(max_iter=1000)\n"
      ],
      "metadata": {
        "id": "eDBacxF_1ai6"
      },
      "execution_count": 226,
      "outputs": []
    },
    {
      "cell_type": "code",
      "source": [
        "evaluation_results = {}\n",
        "for metric_name, metric_func in metrics.items():\n",
        "    scores = cross_val_score(model, X, Y, cv=kfold, scoring=metric_name)\n",
        "    evaluation_results[metric_name] = scores.mean()"
      ],
      "metadata": {
        "id": "6iVSug713jPp"
      },
      "execution_count": 227,
      "outputs": []
    },
    {
      "cell_type": "markdown",
      "metadata": {
        "id": "1_hXv-H6SNfu"
      },
      "source": [
        "MODEL EVALUATION"
      ]
    },
    {
      "cell_type": "code",
      "source": [
        "for metric_name, score in evaluation_results.items():\n",
        "    print(f\"Mean_{metric_name.capitalize()}: {score}\\n\")\n",
        ""
      ],
      "metadata": {
        "id": "ZT2C_g3R3yrJ",
        "colab": {
          "base_uri": "https://localhost:8080/"
        },
        "outputId": "6357e2a1-b862-4838-84f9-30f781f2fa1f"
      },
      "execution_count": 228,
      "outputs": [
        {
          "output_type": "stream",
          "name": "stdout",
          "text": [
            "Mean_Accuracy: 0.8502449999999999\n",
            "\n",
            "Mean_Precision: 0.929245997328521\n",
            "\n",
            "Mean_F1_macro: 0.848957957918682\n",
            "\n",
            "Mean_Recall: 0.7581966727447125\n",
            "\n",
            "Mean_Roc_auc: 0.9031002934394025\n",
            "\n"
          ]
        }
      ]
    },
    {
      "cell_type": "code",
      "source": [
        "accuracy['Logistic Regression'] = evaluation_results['accuracy']\n",
        "precision['Logistic Regression'] = evaluation_results['precision']\n",
        "recal['Logistic Regression'] = evaluation_results['recall']\n",
        "f1_score['Logistic Regression'] = evaluation_results['f1_macro']\n"
      ],
      "metadata": {
        "id": "w0wNucBbli7H"
      },
      "execution_count": 229,
      "outputs": []
    },
    {
      "cell_type": "markdown",
      "source": [
        "Printing Metrics for the best Fold\n",
        "\n",
        "\n"
      ],
      "metadata": {
        "id": "YFnh9DCf34At"
      }
    },
    {
      "cell_type": "code",
      "source": [
        "accuracy_scores = cross_val_score(model, X, Y, cv=kfold, scoring='accuracy')\n",
        "best_fold_index = np.argmax(accuracy_scores)\n"
      ],
      "metadata": {
        "id": "PjlNmccD37J0"
      },
      "execution_count": 230,
      "outputs": []
    },
    {
      "cell_type": "markdown",
      "source": [
        " Get the train and test indices for the best fold"
      ],
      "metadata": {
        "id": "WJ5XXTYO4Few"
      }
    },
    {
      "cell_type": "code",
      "source": [
        "train_index, test_index = list(kfold.split(X))[best_fold_index]\n"
      ],
      "metadata": {
        "id": "YWXDH5io4C_L"
      },
      "execution_count": 231,
      "outputs": []
    },
    {
      "cell_type": "markdown",
      "source": [
        " Split the data into train and test sets for the best fold\n"
      ],
      "metadata": {
        "id": "USTux1Zx4I5E"
      }
    },
    {
      "cell_type": "code",
      "source": [
        "X_train, X_test = X.iloc[train_index], X.iloc[test_index]\n",
        "Y_train, Y_test = Y.iloc[train_index], Y.iloc[test_index]"
      ],
      "metadata": {
        "id": "-SO30OCG4G5Y"
      },
      "execution_count": 232,
      "outputs": []
    },
    {
      "cell_type": "code",
      "source": [
        "model.fit(X_train, Y_train)"
      ],
      "metadata": {
        "id": "HQoRMptu4Dhg",
        "colab": {
          "base_uri": "https://localhost:8080/",
          "height": 75
        },
        "outputId": "c0777945-7a39-4bd4-ce03-d9eb5c1c2845"
      },
      "execution_count": 233,
      "outputs": [
        {
          "output_type": "execute_result",
          "data": {
            "text/plain": [
              "LogisticRegression(max_iter=1000)"
            ],
            "text/html": [
              "<style>#sk-container-id-7 {color: black;background-color: white;}#sk-container-id-7 pre{padding: 0;}#sk-container-id-7 div.sk-toggleable {background-color: white;}#sk-container-id-7 label.sk-toggleable__label {cursor: pointer;display: block;width: 100%;margin-bottom: 0;padding: 0.3em;box-sizing: border-box;text-align: center;}#sk-container-id-7 label.sk-toggleable__label-arrow:before {content: \"▸\";float: left;margin-right: 0.25em;color: #696969;}#sk-container-id-7 label.sk-toggleable__label-arrow:hover:before {color: black;}#sk-container-id-7 div.sk-estimator:hover label.sk-toggleable__label-arrow:before {color: black;}#sk-container-id-7 div.sk-toggleable__content {max-height: 0;max-width: 0;overflow: hidden;text-align: left;background-color: #f0f8ff;}#sk-container-id-7 div.sk-toggleable__content pre {margin: 0.2em;color: black;border-radius: 0.25em;background-color: #f0f8ff;}#sk-container-id-7 input.sk-toggleable__control:checked~div.sk-toggleable__content {max-height: 200px;max-width: 100%;overflow: auto;}#sk-container-id-7 input.sk-toggleable__control:checked~label.sk-toggleable__label-arrow:before {content: \"▾\";}#sk-container-id-7 div.sk-estimator input.sk-toggleable__control:checked~label.sk-toggleable__label {background-color: #d4ebff;}#sk-container-id-7 div.sk-label input.sk-toggleable__control:checked~label.sk-toggleable__label {background-color: #d4ebff;}#sk-container-id-7 input.sk-hidden--visually {border: 0;clip: rect(1px 1px 1px 1px);clip: rect(1px, 1px, 1px, 1px);height: 1px;margin: -1px;overflow: hidden;padding: 0;position: absolute;width: 1px;}#sk-container-id-7 div.sk-estimator {font-family: monospace;background-color: #f0f8ff;border: 1px dotted black;border-radius: 0.25em;box-sizing: border-box;margin-bottom: 0.5em;}#sk-container-id-7 div.sk-estimator:hover {background-color: #d4ebff;}#sk-container-id-7 div.sk-parallel-item::after {content: \"\";width: 100%;border-bottom: 1px solid gray;flex-grow: 1;}#sk-container-id-7 div.sk-label:hover label.sk-toggleable__label {background-color: #d4ebff;}#sk-container-id-7 div.sk-serial::before {content: \"\";position: absolute;border-left: 1px solid gray;box-sizing: border-box;top: 0;bottom: 0;left: 50%;z-index: 0;}#sk-container-id-7 div.sk-serial {display: flex;flex-direction: column;align-items: center;background-color: white;padding-right: 0.2em;padding-left: 0.2em;position: relative;}#sk-container-id-7 div.sk-item {position: relative;z-index: 1;}#sk-container-id-7 div.sk-parallel {display: flex;align-items: stretch;justify-content: center;background-color: white;position: relative;}#sk-container-id-7 div.sk-item::before, #sk-container-id-7 div.sk-parallel-item::before {content: \"\";position: absolute;border-left: 1px solid gray;box-sizing: border-box;top: 0;bottom: 0;left: 50%;z-index: -1;}#sk-container-id-7 div.sk-parallel-item {display: flex;flex-direction: column;z-index: 1;position: relative;background-color: white;}#sk-container-id-7 div.sk-parallel-item:first-child::after {align-self: flex-end;width: 50%;}#sk-container-id-7 div.sk-parallel-item:last-child::after {align-self: flex-start;width: 50%;}#sk-container-id-7 div.sk-parallel-item:only-child::after {width: 0;}#sk-container-id-7 div.sk-dashed-wrapped {border: 1px dashed gray;margin: 0 0.4em 0.5em 0.4em;box-sizing: border-box;padding-bottom: 0.4em;background-color: white;}#sk-container-id-7 div.sk-label label {font-family: monospace;font-weight: bold;display: inline-block;line-height: 1.2em;}#sk-container-id-7 div.sk-label-container {text-align: center;}#sk-container-id-7 div.sk-container {/* jupyter's `normalize.less` sets `[hidden] { display: none; }` but bootstrap.min.css set `[hidden] { display: none !important; }` so we also need the `!important` here to be able to override the default hidden behavior on the sphinx rendered scikit-learn.org. See: https://github.com/scikit-learn/scikit-learn/issues/21755 */display: inline-block !important;position: relative;}#sk-container-id-7 div.sk-text-repr-fallback {display: none;}</style><div id=\"sk-container-id-7\" class=\"sk-top-container\"><div class=\"sk-text-repr-fallback\"><pre>LogisticRegression(max_iter=1000)</pre><b>In a Jupyter environment, please rerun this cell to show the HTML representation or trust the notebook. <br />On GitHub, the HTML representation is unable to render, please try loading this page with nbviewer.org.</b></div><div class=\"sk-container\" hidden><div class=\"sk-item\"><div class=\"sk-estimator sk-toggleable\"><input class=\"sk-toggleable__control sk-hidden--visually\" id=\"sk-estimator-id-7\" type=\"checkbox\" checked><label for=\"sk-estimator-id-7\" class=\"sk-toggleable__label sk-toggleable__label-arrow\">LogisticRegression</label><div class=\"sk-toggleable__content\"><pre>LogisticRegression(max_iter=1000)</pre></div></div></div></div></div>"
            ]
          },
          "metadata": {},
          "execution_count": 233
        }
      ]
    },
    {
      "cell_type": "code",
      "source": [
        "model_testing1(model)\n"
      ],
      "metadata": {
        "id": "be-3yg3s33LO",
        "colab": {
          "base_uri": "https://localhost:8080/"
        },
        "outputId": "5f0f5bda-56c0-405f-fea5-ed467da065d2"
      },
      "execution_count": 234,
      "outputs": [
        {
          "output_type": "stream",
          "name": "stdout",
          "text": [
            "Accuracy Score on UnderSampled Test Data:  0.852525\n",
            "\n",
            "Confussion Matrix  of UnderSampled Test Data:\n",
            "  [[18797  1196]\n",
            " [ 4703 15304]] \n",
            "\n",
            "classification_report of UnderSampled Test Data: \n",
            "\n",
            "               precision    recall  f1-score   support\n",
            "\n",
            "           0       0.80      0.94      0.86     19993\n",
            "           1       0.93      0.76      0.84     20007\n",
            "\n",
            "    accuracy                           0.85     40000\n",
            "   macro avg       0.86      0.85      0.85     40000\n",
            "weighted avg       0.86      0.85      0.85     40000\n",
            "\n"
          ]
        }
      ]
    },
    {
      "cell_type": "code",
      "source": [
        "model_testing11(model)"
      ],
      "metadata": {
        "id": "lJRkgtlk5PXh",
        "colab": {
          "base_uri": "https://localhost:8080/"
        },
        "outputId": "70945cc5-d0fa-4cee-c4ae-45acbd9faaa0"
      },
      "execution_count": 235,
      "outputs": [
        {
          "output_type": "stream",
          "name": "stdout",
          "text": [
            "Accuracy Score on UnderSampled Train Data:  0.8492375\n",
            "\n",
            "Confussion Matrix  of UnderSampled Train Data:\n",
            "  [[75335  4672]\n",
            " [19450 60543]] \n",
            "\n",
            "classification_report of UnderSampled Train Data: \n",
            "\n",
            "               precision    recall  f1-score   support\n",
            "\n",
            "           0       0.79      0.94      0.86     80007\n",
            "           1       0.93      0.76      0.83     79993\n",
            "\n",
            "    accuracy                           0.85    160000\n",
            "   macro avg       0.86      0.85      0.85    160000\n",
            "weighted avg       0.86      0.85      0.85    160000\n",
            "\n"
          ]
        }
      ]
    },
    {
      "cell_type": "markdown",
      "metadata": {
        "id": "EvMLDjWT6YZr"
      },
      "source": [
        "##DECISION TREE MODEL"
      ]
    },
    {
      "cell_type": "code",
      "execution_count": 132,
      "metadata": {
        "id": "nwjRtmDFkFl3"
      },
      "outputs": [],
      "source": [
        "from sklearn.tree import DecisionTreeClassifier\n"
      ]
    },
    {
      "cell_type": "code",
      "source": [
        "\n",
        "model = DecisionTreeClassifier(criterion = 'entropy',max_depth = 10,random_state=42)"
      ],
      "metadata": {
        "id": "9zdMA8qo8xTR"
      },
      "execution_count": 133,
      "outputs": []
    },
    {
      "cell_type": "code",
      "source": [
        "evaluation_results = {}\n",
        "for metric_name, metric_func in metrics.items():\n",
        "    scores = cross_val_score(model, X, Y, cv=kfold, scoring=metric_name)\n",
        "    evaluation_results[metric_name] = scores.mean()"
      ],
      "metadata": {
        "id": "QUQb7Y_q826Y"
      },
      "execution_count": 134,
      "outputs": []
    },
    {
      "cell_type": "code",
      "source": [
        "accuracy['Decision Tree'] = evaluation_results['accuracy']\n",
        "precision['Decision Tree'] = evaluation_results['precision']\n",
        "recal['Decision Tree'] = evaluation_results['recall']\n",
        "f1_score['Decision Tree'] = evaluation_results['f1_macro']"
      ],
      "metadata": {
        "id": "M5HjVohwnexu"
      },
      "execution_count": 172,
      "outputs": []
    },
    {
      "cell_type": "markdown",
      "source": [
        "Model Evaluation"
      ],
      "metadata": {
        "id": "-fn9UinX9Ady"
      }
    },
    {
      "cell_type": "code",
      "source": [
        "for metric_name, score in evaluation_results.items():\n",
        "    print(f\"Mean_{metric_name.capitalize()}: {score}\\n\")"
      ],
      "metadata": {
        "id": "VRW4pg3S80Iw",
        "colab": {
          "base_uri": "https://localhost:8080/"
        },
        "outputId": "00ad7a4a-a351-4898-bef8-da1f4b34d32e"
      },
      "execution_count": 135,
      "outputs": [
        {
          "output_type": "stream",
          "name": "stdout",
          "text": [
            "Mean_Accuracy: 0.92642\n",
            "\n",
            "Mean_Precision: 0.9567139037829128\n",
            "\n",
            "Mean_F1_macro: 0.9263358536504878\n",
            "\n",
            "Mean_Recall: 0.8932937784888809\n",
            "\n",
            "Mean_Roc_auc: 0.9748787560663666\n",
            "\n"
          ]
        }
      ]
    },
    {
      "cell_type": "markdown",
      "metadata": {
        "id": "vI4m_n09Wg8R"
      },
      "source": [
        "Printing metrices for the best fold"
      ]
    },
    {
      "cell_type": "code",
      "source": [
        "accuracy_scores = cross_val_score(model, X, Y, cv=kfold, scoring='accuracy')\n",
        "best_fold_index = np.argmax(accuracy_scores)"
      ],
      "metadata": {
        "id": "KxNv97IW9KAu"
      },
      "execution_count": 136,
      "outputs": []
    },
    {
      "cell_type": "markdown",
      "source": [
        "Get the train and test indices for the best fold"
      ],
      "metadata": {
        "id": "O1dmaSoT9o8n"
      }
    },
    {
      "cell_type": "code",
      "source": [
        "train_index, test_index = list(kfold.split(X))[best_fold_index]"
      ],
      "metadata": {
        "id": "lJlhDssL9NTH"
      },
      "execution_count": 140,
      "outputs": []
    },
    {
      "cell_type": "markdown",
      "source": [
        "Split the data into train and test sets for the best fold"
      ],
      "metadata": {
        "id": "Uf_yZYAO9mmH"
      }
    },
    {
      "cell_type": "code",
      "source": [
        "X_train, X_test = X.iloc[train_index], X.iloc[test_index]\n",
        "Y_train, Y_test = Y.iloc[train_index], Y.iloc[test_index]"
      ],
      "metadata": {
        "id": "7xEZ8qSo9QOp"
      },
      "execution_count": 141,
      "outputs": []
    },
    {
      "cell_type": "code",
      "source": [
        "model.fit(X_train, Y_train)"
      ],
      "metadata": {
        "id": "0LUMeJVn9SUv",
        "colab": {
          "base_uri": "https://localhost:8080/",
          "height": 75
        },
        "outputId": "efa0d3c6-2da2-4140-94de-b7e9c13cef23"
      },
      "execution_count": 142,
      "outputs": [
        {
          "output_type": "execute_result",
          "data": {
            "text/plain": [
              "DecisionTreeClassifier(criterion='entropy', max_depth=10, random_state=42)"
            ],
            "text/html": [
              "<style>#sk-container-id-3 {color: black;background-color: white;}#sk-container-id-3 pre{padding: 0;}#sk-container-id-3 div.sk-toggleable {background-color: white;}#sk-container-id-3 label.sk-toggleable__label {cursor: pointer;display: block;width: 100%;margin-bottom: 0;padding: 0.3em;box-sizing: border-box;text-align: center;}#sk-container-id-3 label.sk-toggleable__label-arrow:before {content: \"▸\";float: left;margin-right: 0.25em;color: #696969;}#sk-container-id-3 label.sk-toggleable__label-arrow:hover:before {color: black;}#sk-container-id-3 div.sk-estimator:hover label.sk-toggleable__label-arrow:before {color: black;}#sk-container-id-3 div.sk-toggleable__content {max-height: 0;max-width: 0;overflow: hidden;text-align: left;background-color: #f0f8ff;}#sk-container-id-3 div.sk-toggleable__content pre {margin: 0.2em;color: black;border-radius: 0.25em;background-color: #f0f8ff;}#sk-container-id-3 input.sk-toggleable__control:checked~div.sk-toggleable__content {max-height: 200px;max-width: 100%;overflow: auto;}#sk-container-id-3 input.sk-toggleable__control:checked~label.sk-toggleable__label-arrow:before {content: \"▾\";}#sk-container-id-3 div.sk-estimator input.sk-toggleable__control:checked~label.sk-toggleable__label {background-color: #d4ebff;}#sk-container-id-3 div.sk-label input.sk-toggleable__control:checked~label.sk-toggleable__label {background-color: #d4ebff;}#sk-container-id-3 input.sk-hidden--visually {border: 0;clip: rect(1px 1px 1px 1px);clip: rect(1px, 1px, 1px, 1px);height: 1px;margin: -1px;overflow: hidden;padding: 0;position: absolute;width: 1px;}#sk-container-id-3 div.sk-estimator {font-family: monospace;background-color: #f0f8ff;border: 1px dotted black;border-radius: 0.25em;box-sizing: border-box;margin-bottom: 0.5em;}#sk-container-id-3 div.sk-estimator:hover {background-color: #d4ebff;}#sk-container-id-3 div.sk-parallel-item::after {content: \"\";width: 100%;border-bottom: 1px solid gray;flex-grow: 1;}#sk-container-id-3 div.sk-label:hover label.sk-toggleable__label {background-color: #d4ebff;}#sk-container-id-3 div.sk-serial::before {content: \"\";position: absolute;border-left: 1px solid gray;box-sizing: border-box;top: 0;bottom: 0;left: 50%;z-index: 0;}#sk-container-id-3 div.sk-serial {display: flex;flex-direction: column;align-items: center;background-color: white;padding-right: 0.2em;padding-left: 0.2em;position: relative;}#sk-container-id-3 div.sk-item {position: relative;z-index: 1;}#sk-container-id-3 div.sk-parallel {display: flex;align-items: stretch;justify-content: center;background-color: white;position: relative;}#sk-container-id-3 div.sk-item::before, #sk-container-id-3 div.sk-parallel-item::before {content: \"\";position: absolute;border-left: 1px solid gray;box-sizing: border-box;top: 0;bottom: 0;left: 50%;z-index: -1;}#sk-container-id-3 div.sk-parallel-item {display: flex;flex-direction: column;z-index: 1;position: relative;background-color: white;}#sk-container-id-3 div.sk-parallel-item:first-child::after {align-self: flex-end;width: 50%;}#sk-container-id-3 div.sk-parallel-item:last-child::after {align-self: flex-start;width: 50%;}#sk-container-id-3 div.sk-parallel-item:only-child::after {width: 0;}#sk-container-id-3 div.sk-dashed-wrapped {border: 1px dashed gray;margin: 0 0.4em 0.5em 0.4em;box-sizing: border-box;padding-bottom: 0.4em;background-color: white;}#sk-container-id-3 div.sk-label label {font-family: monospace;font-weight: bold;display: inline-block;line-height: 1.2em;}#sk-container-id-3 div.sk-label-container {text-align: center;}#sk-container-id-3 div.sk-container {/* jupyter's `normalize.less` sets `[hidden] { display: none; }` but bootstrap.min.css set `[hidden] { display: none !important; }` so we also need the `!important` here to be able to override the default hidden behavior on the sphinx rendered scikit-learn.org. See: https://github.com/scikit-learn/scikit-learn/issues/21755 */display: inline-block !important;position: relative;}#sk-container-id-3 div.sk-text-repr-fallback {display: none;}</style><div id=\"sk-container-id-3\" class=\"sk-top-container\"><div class=\"sk-text-repr-fallback\"><pre>DecisionTreeClassifier(criterion=&#x27;entropy&#x27;, max_depth=10, random_state=42)</pre><b>In a Jupyter environment, please rerun this cell to show the HTML representation or trust the notebook. <br />On GitHub, the HTML representation is unable to render, please try loading this page with nbviewer.org.</b></div><div class=\"sk-container\" hidden><div class=\"sk-item\"><div class=\"sk-estimator sk-toggleable\"><input class=\"sk-toggleable__control sk-hidden--visually\" id=\"sk-estimator-id-3\" type=\"checkbox\" checked><label for=\"sk-estimator-id-3\" class=\"sk-toggleable__label sk-toggleable__label-arrow\">DecisionTreeClassifier</label><div class=\"sk-toggleable__content\"><pre>DecisionTreeClassifier(criterion=&#x27;entropy&#x27;, max_depth=10, random_state=42)</pre></div></div></div></div></div>"
            ]
          },
          "metadata": {},
          "execution_count": 142
        }
      ]
    },
    {
      "cell_type": "code",
      "source": [
        "model_testing1(model)"
      ],
      "metadata": {
        "id": "W9rbCLSn9Why",
        "colab": {
          "base_uri": "https://localhost:8080/"
        },
        "outputId": "8ec7d72b-8d2e-4038-f05b-96a8c375b9ca"
      },
      "execution_count": 143,
      "outputs": [
        {
          "output_type": "stream",
          "name": "stdout",
          "text": [
            "Accuracy Score on UnderSampled Test Data:  0.9276\n",
            "\n",
            "Confussion Matrix  of UnderSampled Test Data:\n",
            "  [[19333   660]\n",
            " [ 2236 17771]] \n",
            "\n",
            "classification_report of UnderSampled Test Data: \n",
            "\n",
            "               precision    recall  f1-score   support\n",
            "\n",
            "           0       0.90      0.97      0.93     19993\n",
            "           1       0.96      0.89      0.92     20007\n",
            "\n",
            "    accuracy                           0.93     40000\n",
            "   macro avg       0.93      0.93      0.93     40000\n",
            "weighted avg       0.93      0.93      0.93     40000\n",
            "\n"
          ]
        }
      ]
    },
    {
      "cell_type": "code",
      "source": [
        "model_testing11(model)"
      ],
      "metadata": {
        "id": "YQQjbYmg9YTu",
        "colab": {
          "base_uri": "https://localhost:8080/"
        },
        "outputId": "93d2b5d0-d57c-4e93-c95d-6f796b9b939b"
      },
      "execution_count": 144,
      "outputs": [
        {
          "output_type": "stream",
          "name": "stdout",
          "text": [
            "Accuracy Score on UnderSampled Train Data:  0.9299375\n",
            "\n",
            "Confussion Matrix  of UnderSampled Train Data:\n",
            "  [[77720  2287]\n",
            " [ 8923 71070]] \n",
            "\n",
            "classification_report of UnderSampled Train Data: \n",
            "\n",
            "               precision    recall  f1-score   support\n",
            "\n",
            "           0       0.90      0.97      0.93     80007\n",
            "           1       0.97      0.89      0.93     79993\n",
            "\n",
            "    accuracy                           0.93    160000\n",
            "   macro avg       0.93      0.93      0.93    160000\n",
            "weighted avg       0.93      0.93      0.93    160000\n",
            "\n"
          ]
        }
      ]
    },
    {
      "cell_type": "markdown",
      "metadata": {
        "id": "FCAHJoTR8QI7"
      },
      "source": [
        "##RANDOM FOREST MODEL"
      ]
    },
    {
      "cell_type": "code",
      "source": [
        "from sklearn.ensemble import RandomForestClassifier"
      ],
      "metadata": {
        "id": "0msl-WI7-dKc"
      },
      "execution_count": 145,
      "outputs": []
    },
    {
      "cell_type": "code",
      "source": [
        "model = RandomForestClassifier(criterion = 'entropy',max_depth=14,random_state=42)\n"
      ],
      "metadata": {
        "id": "QKceQ-VB-tQV"
      },
      "execution_count": 146,
      "outputs": []
    },
    {
      "cell_type": "code",
      "source": [
        "evaluation_results = {}\n",
        "for metric_name, metric_func in metrics.items():\n",
        "    scores = cross_val_score(model, X, Y, cv=kfold, scoring=metric_name)\n",
        "    evaluation_results[metric_name] = scores.mean()"
      ],
      "metadata": {
        "id": "9RNROzzveavs"
      },
      "execution_count": 147,
      "outputs": []
    },
    {
      "cell_type": "code",
      "source": [
        "for metric_name, score in evaluation_results.items():\n",
        "    print(f\"Mean_{metric_name.capitalize()}: {score}\\n\")"
      ],
      "metadata": {
        "id": "KmyHpoPQ-zCX",
        "colab": {
          "base_uri": "https://localhost:8080/"
        },
        "outputId": "3bbb48b7-44e8-4be6-90d3-c1ef4e38a4ba"
      },
      "execution_count": 148,
      "outputs": [
        {
          "output_type": "stream",
          "name": "stdout",
          "text": [
            "Mean_Accuracy: 0.91652\n",
            "\n",
            "Mean_Precision: 0.9744922763470136\n",
            "\n",
            "Mean_F1_macro: 0.9162025540493307\n",
            "\n",
            "Mean_Recall: 0.8554134445378698\n",
            "\n",
            "Mean_Roc_auc: 0.9877414432816416\n",
            "\n"
          ]
        }
      ]
    },
    {
      "cell_type": "markdown",
      "source": [
        "Printing metrices for the best fold"
      ],
      "metadata": {
        "id": "x6EPnqGd-4FD"
      }
    },
    {
      "cell_type": "code",
      "source": [
        "accuracy_scores = cross_val_score(model, X, Y, cv=kfold, scoring='accuracy')\n",
        "best_fold_index = np.argmax(accuracy_scores)"
      ],
      "metadata": {
        "id": "YZMCtFRR-1j1"
      },
      "execution_count": 149,
      "outputs": []
    },
    {
      "cell_type": "code",
      "source": [
        "accuracy['Random Forest'] = evaluation_results['accuracy']\n",
        "precision['Random Forest'] = evaluation_results['precision']\n",
        "recal['Random Forest'] = evaluation_results['recall']\n",
        "f1_score['Random Forest'] = evaluation_results['f1_macro']"
      ],
      "metadata": {
        "id": "9yEiOEu1o5s8"
      },
      "execution_count": 171,
      "outputs": []
    },
    {
      "cell_type": "markdown",
      "source": [
        "Get the train and test indices for the best fold"
      ],
      "metadata": {
        "id": "Ra3eoEIr-9nA"
      }
    },
    {
      "cell_type": "code",
      "source": [
        "train_index, test_index = list(kfold.split(X))[best_fold_index]"
      ],
      "metadata": {
        "id": "N1Qen8OP-7Ra"
      },
      "execution_count": 150,
      "outputs": []
    },
    {
      "cell_type": "markdown",
      "source": [
        "Split the data into train and test sets for the best fold"
      ],
      "metadata": {
        "id": "zI6FSbiZ_BMm"
      }
    },
    {
      "cell_type": "code",
      "source": [
        "X_train, X_test = X.iloc[train_index], X.iloc[test_index]\n",
        "Y_train, Y_test = Y.iloc[train_index], Y.iloc[test_index]"
      ],
      "metadata": {
        "id": "vpZ5e3Oh_Eyw"
      },
      "execution_count": 152,
      "outputs": []
    },
    {
      "cell_type": "code",
      "source": [
        "model.fit(X_train, Y_train)"
      ],
      "metadata": {
        "id": "KW3UjgL9_G9E",
        "colab": {
          "base_uri": "https://localhost:8080/",
          "height": 75
        },
        "outputId": "e0709ca7-6f19-4ad7-8b4a-fe3f5a8c0168"
      },
      "execution_count": 153,
      "outputs": [
        {
          "output_type": "execute_result",
          "data": {
            "text/plain": [
              "RandomForestClassifier(criterion='entropy', max_depth=10, random_state=42)"
            ],
            "text/html": [
              "<style>#sk-container-id-4 {color: black;background-color: white;}#sk-container-id-4 pre{padding: 0;}#sk-container-id-4 div.sk-toggleable {background-color: white;}#sk-container-id-4 label.sk-toggleable__label {cursor: pointer;display: block;width: 100%;margin-bottom: 0;padding: 0.3em;box-sizing: border-box;text-align: center;}#sk-container-id-4 label.sk-toggleable__label-arrow:before {content: \"▸\";float: left;margin-right: 0.25em;color: #696969;}#sk-container-id-4 label.sk-toggleable__label-arrow:hover:before {color: black;}#sk-container-id-4 div.sk-estimator:hover label.sk-toggleable__label-arrow:before {color: black;}#sk-container-id-4 div.sk-toggleable__content {max-height: 0;max-width: 0;overflow: hidden;text-align: left;background-color: #f0f8ff;}#sk-container-id-4 div.sk-toggleable__content pre {margin: 0.2em;color: black;border-radius: 0.25em;background-color: #f0f8ff;}#sk-container-id-4 input.sk-toggleable__control:checked~div.sk-toggleable__content {max-height: 200px;max-width: 100%;overflow: auto;}#sk-container-id-4 input.sk-toggleable__control:checked~label.sk-toggleable__label-arrow:before {content: \"▾\";}#sk-container-id-4 div.sk-estimator input.sk-toggleable__control:checked~label.sk-toggleable__label {background-color: #d4ebff;}#sk-container-id-4 div.sk-label input.sk-toggleable__control:checked~label.sk-toggleable__label {background-color: #d4ebff;}#sk-container-id-4 input.sk-hidden--visually {border: 0;clip: rect(1px 1px 1px 1px);clip: rect(1px, 1px, 1px, 1px);height: 1px;margin: -1px;overflow: hidden;padding: 0;position: absolute;width: 1px;}#sk-container-id-4 div.sk-estimator {font-family: monospace;background-color: #f0f8ff;border: 1px dotted black;border-radius: 0.25em;box-sizing: border-box;margin-bottom: 0.5em;}#sk-container-id-4 div.sk-estimator:hover {background-color: #d4ebff;}#sk-container-id-4 div.sk-parallel-item::after {content: \"\";width: 100%;border-bottom: 1px solid gray;flex-grow: 1;}#sk-container-id-4 div.sk-label:hover label.sk-toggleable__label {background-color: #d4ebff;}#sk-container-id-4 div.sk-serial::before {content: \"\";position: absolute;border-left: 1px solid gray;box-sizing: border-box;top: 0;bottom: 0;left: 50%;z-index: 0;}#sk-container-id-4 div.sk-serial {display: flex;flex-direction: column;align-items: center;background-color: white;padding-right: 0.2em;padding-left: 0.2em;position: relative;}#sk-container-id-4 div.sk-item {position: relative;z-index: 1;}#sk-container-id-4 div.sk-parallel {display: flex;align-items: stretch;justify-content: center;background-color: white;position: relative;}#sk-container-id-4 div.sk-item::before, #sk-container-id-4 div.sk-parallel-item::before {content: \"\";position: absolute;border-left: 1px solid gray;box-sizing: border-box;top: 0;bottom: 0;left: 50%;z-index: -1;}#sk-container-id-4 div.sk-parallel-item {display: flex;flex-direction: column;z-index: 1;position: relative;background-color: white;}#sk-container-id-4 div.sk-parallel-item:first-child::after {align-self: flex-end;width: 50%;}#sk-container-id-4 div.sk-parallel-item:last-child::after {align-self: flex-start;width: 50%;}#sk-container-id-4 div.sk-parallel-item:only-child::after {width: 0;}#sk-container-id-4 div.sk-dashed-wrapped {border: 1px dashed gray;margin: 0 0.4em 0.5em 0.4em;box-sizing: border-box;padding-bottom: 0.4em;background-color: white;}#sk-container-id-4 div.sk-label label {font-family: monospace;font-weight: bold;display: inline-block;line-height: 1.2em;}#sk-container-id-4 div.sk-label-container {text-align: center;}#sk-container-id-4 div.sk-container {/* jupyter's `normalize.less` sets `[hidden] { display: none; }` but bootstrap.min.css set `[hidden] { display: none !important; }` so we also need the `!important` here to be able to override the default hidden behavior on the sphinx rendered scikit-learn.org. See: https://github.com/scikit-learn/scikit-learn/issues/21755 */display: inline-block !important;position: relative;}#sk-container-id-4 div.sk-text-repr-fallback {display: none;}</style><div id=\"sk-container-id-4\" class=\"sk-top-container\"><div class=\"sk-text-repr-fallback\"><pre>RandomForestClassifier(criterion=&#x27;entropy&#x27;, max_depth=10, random_state=42)</pre><b>In a Jupyter environment, please rerun this cell to show the HTML representation or trust the notebook. <br />On GitHub, the HTML representation is unable to render, please try loading this page with nbviewer.org.</b></div><div class=\"sk-container\" hidden><div class=\"sk-item\"><div class=\"sk-estimator sk-toggleable\"><input class=\"sk-toggleable__control sk-hidden--visually\" id=\"sk-estimator-id-4\" type=\"checkbox\" checked><label for=\"sk-estimator-id-4\" class=\"sk-toggleable__label sk-toggleable__label-arrow\">RandomForestClassifier</label><div class=\"sk-toggleable__content\"><pre>RandomForestClassifier(criterion=&#x27;entropy&#x27;, max_depth=10, random_state=42)</pre></div></div></div></div></div>"
            ]
          },
          "metadata": {},
          "execution_count": 153
        }
      ]
    },
    {
      "cell_type": "code",
      "source": [
        "model_testing1(model)"
      ],
      "metadata": {
        "id": "zj27QWoh_ImD",
        "colab": {
          "base_uri": "https://localhost:8080/"
        },
        "outputId": "dc073d96-9981-4961-a2fd-d6cff05c2d4d"
      },
      "execution_count": 154,
      "outputs": [
        {
          "output_type": "stream",
          "name": "stdout",
          "text": [
            "Accuracy Score on UnderSampled Test Data:  0.920875\n",
            "\n",
            "Confussion Matrix  of UnderSampled Test Data:\n",
            "  [[19574   419]\n",
            " [ 2746 17261]] \n",
            "\n",
            "classification_report of UnderSampled Test Data: \n",
            "\n",
            "               precision    recall  f1-score   support\n",
            "\n",
            "           0       0.88      0.98      0.93     19993\n",
            "           1       0.98      0.86      0.92     20007\n",
            "\n",
            "    accuracy                           0.92     40000\n",
            "   macro avg       0.93      0.92      0.92     40000\n",
            "weighted avg       0.93      0.92      0.92     40000\n",
            "\n"
          ]
        }
      ]
    },
    {
      "cell_type": "code",
      "source": [
        "model_testing11(model)"
      ],
      "metadata": {
        "id": "Ro5dDD-G_KKR",
        "colab": {
          "base_uri": "https://localhost:8080/"
        },
        "outputId": "df6942ac-326b-4b60-bd2d-39e76bef80de"
      },
      "execution_count": 155,
      "outputs": [
        {
          "output_type": "stream",
          "name": "stdout",
          "text": [
            "Accuracy Score on UnderSampled Train Data:  0.92020625\n",
            "\n",
            "Confussion Matrix  of UnderSampled Train Data:\n",
            "  [[78429  1578]\n",
            " [11189 68804]] \n",
            "\n",
            "classification_report of UnderSampled Train Data: \n",
            "\n",
            "               precision    recall  f1-score   support\n",
            "\n",
            "           0       0.88      0.98      0.92     80007\n",
            "           1       0.98      0.86      0.92     79993\n",
            "\n",
            "    accuracy                           0.92    160000\n",
            "   macro avg       0.93      0.92      0.92    160000\n",
            "weighted avg       0.93      0.92      0.92    160000\n",
            "\n"
          ]
        }
      ]
    },
    {
      "cell_type": "markdown",
      "source": [
        "##XGBOOST CLASSIFIER MODEL"
      ],
      "metadata": {
        "id": "PefqkjEpCQmo"
      }
    },
    {
      "cell_type": "markdown",
      "source": [
        "Initializie XGBoost Classifier\n",
        "\n"
      ],
      "metadata": {
        "id": "ChlO0nKYBSID"
      }
    },
    {
      "cell_type": "code",
      "source": [
        "import xgboost as xgb\n"
      ],
      "metadata": {
        "id": "4c8Idq3PGG75"
      },
      "execution_count": 253,
      "outputs": []
    },
    {
      "cell_type": "code",
      "source": [
        "model = xgb.XGBClassifier()\n"
      ],
      "metadata": {
        "id": "3yHDyu1BBQlZ"
      },
      "execution_count": 254,
      "outputs": []
    },
    {
      "cell_type": "code",
      "source": [
        "evaluation_results = {}\n",
        "for metric_name, metric_func in metrics.items():\n",
        "    scores = cross_val_score(model, X, Y, cv=kfold, scoring=metric_name)\n",
        "    evaluation_results[metric_name] = scores.mean()"
      ],
      "metadata": {
        "id": "ChTlXVpTBVdp"
      },
      "execution_count": 255,
      "outputs": []
    },
    {
      "cell_type": "code",
      "source": [
        "for metric_name, score in evaluation_results.items():\n",
        "    print(f\"Mean_{metric_name.capitalize()}: {score}\\n\")"
      ],
      "metadata": {
        "id": "iZUPP83eBZDS",
        "colab": {
          "base_uri": "https://localhost:8080/"
        },
        "outputId": "0d74658f-513e-45b6-ce42-f5a1102beed1"
      },
      "execution_count": 256,
      "outputs": [
        {
          "output_type": "stream",
          "name": "stdout",
          "text": [
            "Mean_Accuracy: 0.9915050000000001\n",
            "\n",
            "Mean_Precision: 0.9897257969570765\n",
            "\n",
            "Mean_F1_macro: 0.9915046356479935\n",
            "\n",
            "Mean_Recall: 0.9933182624463572\n",
            "\n",
            "Mean_Roc_auc: 0.9995702413341003\n",
            "\n"
          ]
        }
      ]
    },
    {
      "cell_type": "code",
      "source": [
        "accuracy['XGBoost'] = evaluation_results['accuracy']\n",
        "precision['XGBoost'] = evaluation_results['precision']\n",
        "recal['XGBoost'] = evaluation_results['recall']\n",
        "f1_score['XGBoost'] = evaluation_results['f1_macro']"
      ],
      "metadata": {
        "id": "glaZz6fwtBaE"
      },
      "execution_count": 257,
      "outputs": []
    },
    {
      "cell_type": "code",
      "source": [
        "accuracy_scores = cross_val_score(model, X, Y, cv=kfold, scoring='accuracy')\n",
        "best_fold_index = np.argmax(accuracy_scores)"
      ],
      "metadata": {
        "id": "yMqnT-IYBkur"
      },
      "execution_count": 258,
      "outputs": []
    },
    {
      "cell_type": "code",
      "source": [
        "train_index, test_index = list(kfold.split(X))[best_fold_index]"
      ],
      "metadata": {
        "id": "Kd3mb6CZBlG3"
      },
      "execution_count": 259,
      "outputs": []
    },
    {
      "cell_type": "code",
      "source": [
        "X_train, X_test = X.iloc[train_index], X.iloc[test_index]\n",
        "Y_train, Y_test = Y.iloc[train_index], Y.iloc[test_index]"
      ],
      "metadata": {
        "id": "V6nCIFQbBnKH"
      },
      "execution_count": 260,
      "outputs": []
    },
    {
      "cell_type": "code",
      "source": [
        "model.fit(X_train, Y_train)"
      ],
      "metadata": {
        "id": "uZ9CWAWXBuhw",
        "colab": {
          "base_uri": "https://localhost:8080/",
          "height": 248
        },
        "outputId": "be105a9b-a519-45b6-bdcb-4192973f9ae9"
      },
      "execution_count": 261,
      "outputs": [
        {
          "output_type": "execute_result",
          "data": {
            "text/plain": [
              "XGBClassifier(base_score=None, booster=None, callbacks=None,\n",
              "              colsample_bylevel=None, colsample_bynode=None,\n",
              "              colsample_bytree=None, device=None, early_stopping_rounds=None,\n",
              "              enable_categorical=False, eval_metric=None, feature_types=None,\n",
              "              gamma=None, grow_policy=None, importance_type=None,\n",
              "              interaction_constraints=None, learning_rate=None, max_bin=None,\n",
              "              max_cat_threshold=None, max_cat_to_onehot=None,\n",
              "              max_delta_step=None, max_depth=None, max_leaves=None,\n",
              "              min_child_weight=None, missing=nan, monotone_constraints=None,\n",
              "              multi_strategy=None, n_estimators=None, n_jobs=None,\n",
              "              num_parallel_tree=None, random_state=None, ...)"
            ],
            "text/html": [
              "<style>#sk-container-id-8 {color: black;background-color: white;}#sk-container-id-8 pre{padding: 0;}#sk-container-id-8 div.sk-toggleable {background-color: white;}#sk-container-id-8 label.sk-toggleable__label {cursor: pointer;display: block;width: 100%;margin-bottom: 0;padding: 0.3em;box-sizing: border-box;text-align: center;}#sk-container-id-8 label.sk-toggleable__label-arrow:before {content: \"▸\";float: left;margin-right: 0.25em;color: #696969;}#sk-container-id-8 label.sk-toggleable__label-arrow:hover:before {color: black;}#sk-container-id-8 div.sk-estimator:hover label.sk-toggleable__label-arrow:before {color: black;}#sk-container-id-8 div.sk-toggleable__content {max-height: 0;max-width: 0;overflow: hidden;text-align: left;background-color: #f0f8ff;}#sk-container-id-8 div.sk-toggleable__content pre {margin: 0.2em;color: black;border-radius: 0.25em;background-color: #f0f8ff;}#sk-container-id-8 input.sk-toggleable__control:checked~div.sk-toggleable__content {max-height: 200px;max-width: 100%;overflow: auto;}#sk-container-id-8 input.sk-toggleable__control:checked~label.sk-toggleable__label-arrow:before {content: \"▾\";}#sk-container-id-8 div.sk-estimator input.sk-toggleable__control:checked~label.sk-toggleable__label {background-color: #d4ebff;}#sk-container-id-8 div.sk-label input.sk-toggleable__control:checked~label.sk-toggleable__label {background-color: #d4ebff;}#sk-container-id-8 input.sk-hidden--visually {border: 0;clip: rect(1px 1px 1px 1px);clip: rect(1px, 1px, 1px, 1px);height: 1px;margin: -1px;overflow: hidden;padding: 0;position: absolute;width: 1px;}#sk-container-id-8 div.sk-estimator {font-family: monospace;background-color: #f0f8ff;border: 1px dotted black;border-radius: 0.25em;box-sizing: border-box;margin-bottom: 0.5em;}#sk-container-id-8 div.sk-estimator:hover {background-color: #d4ebff;}#sk-container-id-8 div.sk-parallel-item::after {content: \"\";width: 100%;border-bottom: 1px solid gray;flex-grow: 1;}#sk-container-id-8 div.sk-label:hover label.sk-toggleable__label {background-color: #d4ebff;}#sk-container-id-8 div.sk-serial::before {content: \"\";position: absolute;border-left: 1px solid gray;box-sizing: border-box;top: 0;bottom: 0;left: 50%;z-index: 0;}#sk-container-id-8 div.sk-serial {display: flex;flex-direction: column;align-items: center;background-color: white;padding-right: 0.2em;padding-left: 0.2em;position: relative;}#sk-container-id-8 div.sk-item {position: relative;z-index: 1;}#sk-container-id-8 div.sk-parallel {display: flex;align-items: stretch;justify-content: center;background-color: white;position: relative;}#sk-container-id-8 div.sk-item::before, #sk-container-id-8 div.sk-parallel-item::before {content: \"\";position: absolute;border-left: 1px solid gray;box-sizing: border-box;top: 0;bottom: 0;left: 50%;z-index: -1;}#sk-container-id-8 div.sk-parallel-item {display: flex;flex-direction: column;z-index: 1;position: relative;background-color: white;}#sk-container-id-8 div.sk-parallel-item:first-child::after {align-self: flex-end;width: 50%;}#sk-container-id-8 div.sk-parallel-item:last-child::after {align-self: flex-start;width: 50%;}#sk-container-id-8 div.sk-parallel-item:only-child::after {width: 0;}#sk-container-id-8 div.sk-dashed-wrapped {border: 1px dashed gray;margin: 0 0.4em 0.5em 0.4em;box-sizing: border-box;padding-bottom: 0.4em;background-color: white;}#sk-container-id-8 div.sk-label label {font-family: monospace;font-weight: bold;display: inline-block;line-height: 1.2em;}#sk-container-id-8 div.sk-label-container {text-align: center;}#sk-container-id-8 div.sk-container {/* jupyter's `normalize.less` sets `[hidden] { display: none; }` but bootstrap.min.css set `[hidden] { display: none !important; }` so we also need the `!important` here to be able to override the default hidden behavior on the sphinx rendered scikit-learn.org. See: https://github.com/scikit-learn/scikit-learn/issues/21755 */display: inline-block !important;position: relative;}#sk-container-id-8 div.sk-text-repr-fallback {display: none;}</style><div id=\"sk-container-id-8\" class=\"sk-top-container\"><div class=\"sk-text-repr-fallback\"><pre>XGBClassifier(base_score=None, booster=None, callbacks=None,\n",
              "              colsample_bylevel=None, colsample_bynode=None,\n",
              "              colsample_bytree=None, device=None, early_stopping_rounds=None,\n",
              "              enable_categorical=False, eval_metric=None, feature_types=None,\n",
              "              gamma=None, grow_policy=None, importance_type=None,\n",
              "              interaction_constraints=None, learning_rate=None, max_bin=None,\n",
              "              max_cat_threshold=None, max_cat_to_onehot=None,\n",
              "              max_delta_step=None, max_depth=None, max_leaves=None,\n",
              "              min_child_weight=None, missing=nan, monotone_constraints=None,\n",
              "              multi_strategy=None, n_estimators=None, n_jobs=None,\n",
              "              num_parallel_tree=None, random_state=None, ...)</pre><b>In a Jupyter environment, please rerun this cell to show the HTML representation or trust the notebook. <br />On GitHub, the HTML representation is unable to render, please try loading this page with nbviewer.org.</b></div><div class=\"sk-container\" hidden><div class=\"sk-item\"><div class=\"sk-estimator sk-toggleable\"><input class=\"sk-toggleable__control sk-hidden--visually\" id=\"sk-estimator-id-8\" type=\"checkbox\" checked><label for=\"sk-estimator-id-8\" class=\"sk-toggleable__label sk-toggleable__label-arrow\">XGBClassifier</label><div class=\"sk-toggleable__content\"><pre>XGBClassifier(base_score=None, booster=None, callbacks=None,\n",
              "              colsample_bylevel=None, colsample_bynode=None,\n",
              "              colsample_bytree=None, device=None, early_stopping_rounds=None,\n",
              "              enable_categorical=False, eval_metric=None, feature_types=None,\n",
              "              gamma=None, grow_policy=None, importance_type=None,\n",
              "              interaction_constraints=None, learning_rate=None, max_bin=None,\n",
              "              max_cat_threshold=None, max_cat_to_onehot=None,\n",
              "              max_delta_step=None, max_depth=None, max_leaves=None,\n",
              "              min_child_weight=None, missing=nan, monotone_constraints=None,\n",
              "              multi_strategy=None, n_estimators=None, n_jobs=None,\n",
              "              num_parallel_tree=None, random_state=None, ...)</pre></div></div></div></div></div>"
            ]
          },
          "metadata": {},
          "execution_count": 261
        }
      ]
    },
    {
      "cell_type": "code",
      "source": [
        "model_testing1(model)"
      ],
      "metadata": {
        "id": "ENdvUdADBwU0",
        "colab": {
          "base_uri": "https://localhost:8080/"
        },
        "outputId": "6694c7e9-6ad8-43e9-9943-9322a9e16811"
      },
      "execution_count": 262,
      "outputs": [
        {
          "output_type": "stream",
          "name": "stdout",
          "text": [
            "Accuracy Score on UnderSampled Test Data:  0.99215\n",
            "\n",
            "Confussion Matrix  of UnderSampled Test Data:\n",
            "  [[19560   198]\n",
            " [  116 20126]] \n",
            "\n",
            "classification_report of UnderSampled Test Data: \n",
            "\n",
            "               precision    recall  f1-score   support\n",
            "\n",
            "           0       0.99      0.99      0.99     19758\n",
            "           1       0.99      0.99      0.99     20242\n",
            "\n",
            "    accuracy                           0.99     40000\n",
            "   macro avg       0.99      0.99      0.99     40000\n",
            "weighted avg       0.99      0.99      0.99     40000\n",
            "\n"
          ]
        }
      ]
    },
    {
      "cell_type": "code",
      "source": [
        "model_testing11(model)"
      ],
      "metadata": {
        "id": "LUySFUu4B0S_",
        "colab": {
          "base_uri": "https://localhost:8080/"
        },
        "outputId": "827370af-365f-4772-88d7-bec84827c3d9"
      },
      "execution_count": 263,
      "outputs": [
        {
          "output_type": "stream",
          "name": "stdout",
          "text": [
            "Accuracy Score on UnderSampled Train Data:  0.9936125\n",
            "\n",
            "Confussion Matrix  of UnderSampled Train Data:\n",
            "  [[79663   579]\n",
            " [  443 79315]] \n",
            "\n",
            "classification_report of UnderSampled Train Data: \n",
            "\n",
            "               precision    recall  f1-score   support\n",
            "\n",
            "           0       0.99      0.99      0.99     80242\n",
            "           1       0.99      0.99      0.99     79758\n",
            "\n",
            "    accuracy                           0.99    160000\n",
            "   macro avg       0.99      0.99      0.99    160000\n",
            "weighted avg       0.99      0.99      0.99    160000\n",
            "\n"
          ]
        }
      ]
    },
    {
      "cell_type": "markdown",
      "source": [
        "##LIGHT GBM CLASSIFIER MODEL"
      ],
      "metadata": {
        "id": "PPDExHBGCllj"
      }
    },
    {
      "cell_type": "code",
      "source": [
        "import lightgbm as lgb"
      ],
      "metadata": {
        "id": "GVhVhf_gCuwy"
      },
      "execution_count": 193,
      "outputs": []
    },
    {
      "cell_type": "code",
      "source": [
        "model = lgb.LGBMClassifier()"
      ],
      "metadata": {
        "id": "YzgXQfvBCvoO"
      },
      "execution_count": 194,
      "outputs": []
    },
    {
      "cell_type": "code",
      "source": [
        "evaluation_results = {}\n",
        "for metric_name, metric_func in metrics.items():\n",
        "    scores = cross_val_score(model, X, Y, cv=kfold, scoring=metric_name)\n",
        "    evaluation_results[metric_name] = scores.mean()"
      ],
      "metadata": {
        "id": "_kbxlJgFCrGq",
        "colab": {
          "base_uri": "https://localhost:8080/"
        },
        "outputId": "0c0e2bf1-c043-484f-d8ed-b2de817d7b5c"
      },
      "execution_count": 195,
      "outputs": [
        {
          "output_type": "stream",
          "name": "stdout",
          "text": [
            "[LightGBM] [Info] Number of positive: 79993, number of negative: 80007\n",
            "[LightGBM] [Info] Auto-choosing row-wise multi-threading, the overhead of testing was 0.010328 seconds.\n",
            "You can set `force_row_wise=true` to remove the overhead.\n",
            "And if memory is not enough, you can set `force_col_wise=true`.\n",
            "[LightGBM] [Info] Total Bins 2400\n",
            "[LightGBM] [Info] Number of data points in the train set: 160000, number of used features: 15\n",
            "[LightGBM] [Info] [binary:BoostFromScore]: pavg=0.499956 -> initscore=-0.000175\n",
            "[LightGBM] [Info] Start training from score -0.000175\n",
            "[LightGBM] [Info] Number of positive: 79758, number of negative: 80242\n",
            "[LightGBM] [Info] Auto-choosing row-wise multi-threading, the overhead of testing was 0.009096 seconds.\n",
            "You can set `force_row_wise=true` to remove the overhead.\n",
            "And if memory is not enough, you can set `force_col_wise=true`.\n",
            "[LightGBM] [Info] Total Bins 2399\n",
            "[LightGBM] [Info] Number of data points in the train set: 160000, number of used features: 15\n",
            "[LightGBM] [Info] [binary:BoostFromScore]: pavg=0.498487 -> initscore=-0.006050\n",
            "[LightGBM] [Info] Start training from score -0.006050\n",
            "[LightGBM] [Info] Number of positive: 80118, number of negative: 79882\n",
            "[LightGBM] [Info] Auto-choosing row-wise multi-threading, the overhead of testing was 0.007570 seconds.\n",
            "You can set `force_row_wise=true` to remove the overhead.\n",
            "And if memory is not enough, you can set `force_col_wise=true`.\n",
            "[LightGBM] [Info] Total Bins 2402\n",
            "[LightGBM] [Info] Number of data points in the train set: 160000, number of used features: 15\n",
            "[LightGBM] [Info] [binary:BoostFromScore]: pavg=0.500737 -> initscore=0.002950\n",
            "[LightGBM] [Info] Start training from score 0.002950\n",
            "[LightGBM] [Info] Number of positive: 80105, number of negative: 79895\n",
            "[LightGBM] [Info] Auto-choosing row-wise multi-threading, the overhead of testing was 0.014545 seconds.\n",
            "You can set `force_row_wise=true` to remove the overhead.\n",
            "And if memory is not enough, you can set `force_col_wise=true`.\n",
            "[LightGBM] [Info] Total Bins 2403\n",
            "[LightGBM] [Info] Number of data points in the train set: 160000, number of used features: 15\n",
            "[LightGBM] [Info] [binary:BoostFromScore]: pavg=0.500656 -> initscore=0.002625\n",
            "[LightGBM] [Info] Start training from score 0.002625\n",
            "[LightGBM] [Info] Number of positive: 80026, number of negative: 79974\n",
            "[LightGBM] [Info] Auto-choosing row-wise multi-threading, the overhead of testing was 0.007627 seconds.\n",
            "You can set `force_row_wise=true` to remove the overhead.\n",
            "And if memory is not enough, you can set `force_col_wise=true`.\n",
            "[LightGBM] [Info] Total Bins 2402\n",
            "[LightGBM] [Info] Number of data points in the train set: 160000, number of used features: 15\n",
            "[LightGBM] [Info] [binary:BoostFromScore]: pavg=0.500162 -> initscore=0.000650\n",
            "[LightGBM] [Info] Start training from score 0.000650\n",
            "[LightGBM] [Info] Number of positive: 79993, number of negative: 80007\n",
            "[LightGBM] [Info] Auto-choosing row-wise multi-threading, the overhead of testing was 0.007376 seconds.\n",
            "You can set `force_row_wise=true` to remove the overhead.\n",
            "And if memory is not enough, you can set `force_col_wise=true`.\n",
            "[LightGBM] [Info] Total Bins 2400\n",
            "[LightGBM] [Info] Number of data points in the train set: 160000, number of used features: 15\n",
            "[LightGBM] [Info] [binary:BoostFromScore]: pavg=0.499956 -> initscore=-0.000175\n",
            "[LightGBM] [Info] Start training from score -0.000175\n",
            "[LightGBM] [Info] Number of positive: 79758, number of negative: 80242\n",
            "[LightGBM] [Info] Auto-choosing row-wise multi-threading, the overhead of testing was 0.010058 seconds.\n",
            "You can set `force_row_wise=true` to remove the overhead.\n",
            "And if memory is not enough, you can set `force_col_wise=true`.\n",
            "[LightGBM] [Info] Total Bins 2399\n",
            "[LightGBM] [Info] Number of data points in the train set: 160000, number of used features: 15\n",
            "[LightGBM] [Info] [binary:BoostFromScore]: pavg=0.498487 -> initscore=-0.006050\n",
            "[LightGBM] [Info] Start training from score -0.006050\n",
            "[LightGBM] [Info] Number of positive: 80118, number of negative: 79882\n",
            "[LightGBM] [Info] Auto-choosing row-wise multi-threading, the overhead of testing was 0.007532 seconds.\n",
            "You can set `force_row_wise=true` to remove the overhead.\n",
            "And if memory is not enough, you can set `force_col_wise=true`.\n",
            "[LightGBM] [Info] Total Bins 2402\n",
            "[LightGBM] [Info] Number of data points in the train set: 160000, number of used features: 15\n",
            "[LightGBM] [Info] [binary:BoostFromScore]: pavg=0.500737 -> initscore=0.002950\n",
            "[LightGBM] [Info] Start training from score 0.002950\n",
            "[LightGBM] [Info] Number of positive: 80105, number of negative: 79895\n",
            "[LightGBM] [Info] Auto-choosing row-wise multi-threading, the overhead of testing was 0.014284 seconds.\n",
            "You can set `force_row_wise=true` to remove the overhead.\n",
            "And if memory is not enough, you can set `force_col_wise=true`.\n",
            "[LightGBM] [Info] Total Bins 2403\n",
            "[LightGBM] [Info] Number of data points in the train set: 160000, number of used features: 15\n",
            "[LightGBM] [Info] [binary:BoostFromScore]: pavg=0.500656 -> initscore=0.002625\n",
            "[LightGBM] [Info] Start training from score 0.002625\n",
            "[LightGBM] [Info] Number of positive: 80026, number of negative: 79974\n",
            "[LightGBM] [Info] Auto-choosing row-wise multi-threading, the overhead of testing was 0.007570 seconds.\n",
            "You can set `force_row_wise=true` to remove the overhead.\n",
            "And if memory is not enough, you can set `force_col_wise=true`.\n",
            "[LightGBM] [Info] Total Bins 2402\n",
            "[LightGBM] [Info] Number of data points in the train set: 160000, number of used features: 15\n",
            "[LightGBM] [Info] [binary:BoostFromScore]: pavg=0.500162 -> initscore=0.000650\n",
            "[LightGBM] [Info] Start training from score 0.000650\n",
            "[LightGBM] [Info] Number of positive: 79993, number of negative: 80007\n",
            "[LightGBM] [Info] Auto-choosing row-wise multi-threading, the overhead of testing was 0.007929 seconds.\n",
            "You can set `force_row_wise=true` to remove the overhead.\n",
            "And if memory is not enough, you can set `force_col_wise=true`.\n",
            "[LightGBM] [Info] Total Bins 2400\n",
            "[LightGBM] [Info] Number of data points in the train set: 160000, number of used features: 15\n",
            "[LightGBM] [Info] [binary:BoostFromScore]: pavg=0.499956 -> initscore=-0.000175\n",
            "[LightGBM] [Info] Start training from score -0.000175\n",
            "[LightGBM] [Info] Number of positive: 79758, number of negative: 80242\n",
            "[LightGBM] [Info] Auto-choosing row-wise multi-threading, the overhead of testing was 0.007646 seconds.\n",
            "You can set `force_row_wise=true` to remove the overhead.\n",
            "And if memory is not enough, you can set `force_col_wise=true`.\n",
            "[LightGBM] [Info] Total Bins 2399\n",
            "[LightGBM] [Info] Number of data points in the train set: 160000, number of used features: 15\n",
            "[LightGBM] [Info] [binary:BoostFromScore]: pavg=0.498487 -> initscore=-0.006050\n",
            "[LightGBM] [Info] Start training from score -0.006050\n",
            "[LightGBM] [Info] Number of positive: 80118, number of negative: 79882\n",
            "[LightGBM] [Info] Auto-choosing row-wise multi-threading, the overhead of testing was 0.007786 seconds.\n",
            "You can set `force_row_wise=true` to remove the overhead.\n",
            "And if memory is not enough, you can set `force_col_wise=true`.\n",
            "[LightGBM] [Info] Total Bins 2402\n",
            "[LightGBM] [Info] Number of data points in the train set: 160000, number of used features: 15\n",
            "[LightGBM] [Info] [binary:BoostFromScore]: pavg=0.500737 -> initscore=0.002950\n",
            "[LightGBM] [Info] Start training from score 0.002950\n",
            "[LightGBM] [Info] Number of positive: 80105, number of negative: 79895\n",
            "[LightGBM] [Info] Auto-choosing row-wise multi-threading, the overhead of testing was 0.013633 seconds.\n",
            "You can set `force_row_wise=true` to remove the overhead.\n",
            "And if memory is not enough, you can set `force_col_wise=true`.\n",
            "[LightGBM] [Info] Total Bins 2403\n",
            "[LightGBM] [Info] Number of data points in the train set: 160000, number of used features: 15\n",
            "[LightGBM] [Info] [binary:BoostFromScore]: pavg=0.500656 -> initscore=0.002625\n",
            "[LightGBM] [Info] Start training from score 0.002625\n",
            "[LightGBM] [Info] Number of positive: 80026, number of negative: 79974\n",
            "[LightGBM] [Info] Auto-choosing row-wise multi-threading, the overhead of testing was 0.007823 seconds.\n",
            "You can set `force_row_wise=true` to remove the overhead.\n",
            "And if memory is not enough, you can set `force_col_wise=true`.\n",
            "[LightGBM] [Info] Total Bins 2402\n",
            "[LightGBM] [Info] Number of data points in the train set: 160000, number of used features: 15\n",
            "[LightGBM] [Info] [binary:BoostFromScore]: pavg=0.500162 -> initscore=0.000650\n",
            "[LightGBM] [Info] Start training from score 0.000650\n",
            "[LightGBM] [Info] Number of positive: 79993, number of negative: 80007\n",
            "[LightGBM] [Info] Auto-choosing row-wise multi-threading, the overhead of testing was 0.007485 seconds.\n",
            "You can set `force_row_wise=true` to remove the overhead.\n",
            "And if memory is not enough, you can set `force_col_wise=true`.\n",
            "[LightGBM] [Info] Total Bins 2400\n",
            "[LightGBM] [Info] Number of data points in the train set: 160000, number of used features: 15\n",
            "[LightGBM] [Info] [binary:BoostFromScore]: pavg=0.499956 -> initscore=-0.000175\n",
            "[LightGBM] [Info] Start training from score -0.000175\n",
            "[LightGBM] [Info] Number of positive: 79758, number of negative: 80242\n",
            "[LightGBM] [Info] Auto-choosing row-wise multi-threading, the overhead of testing was 0.010590 seconds.\n",
            "You can set `force_row_wise=true` to remove the overhead.\n",
            "And if memory is not enough, you can set `force_col_wise=true`.\n",
            "[LightGBM] [Info] Total Bins 2399\n",
            "[LightGBM] [Info] Number of data points in the train set: 160000, number of used features: 15\n",
            "[LightGBM] [Info] [binary:BoostFromScore]: pavg=0.498487 -> initscore=-0.006050\n",
            "[LightGBM] [Info] Start training from score -0.006050\n",
            "[LightGBM] [Info] Number of positive: 80118, number of negative: 79882\n",
            "[LightGBM] [Info] Auto-choosing row-wise multi-threading, the overhead of testing was 0.007939 seconds.\n",
            "You can set `force_row_wise=true` to remove the overhead.\n",
            "And if memory is not enough, you can set `force_col_wise=true`.\n",
            "[LightGBM] [Info] Total Bins 2402\n",
            "[LightGBM] [Info] Number of data points in the train set: 160000, number of used features: 15\n",
            "[LightGBM] [Info] [binary:BoostFromScore]: pavg=0.500737 -> initscore=0.002950\n",
            "[LightGBM] [Info] Start training from score 0.002950\n",
            "[LightGBM] [Info] Number of positive: 80105, number of negative: 79895\n",
            "[LightGBM] [Info] Auto-choosing row-wise multi-threading, the overhead of testing was 0.013336 seconds.\n",
            "You can set `force_row_wise=true` to remove the overhead.\n",
            "And if memory is not enough, you can set `force_col_wise=true`.\n",
            "[LightGBM] [Info] Total Bins 2403\n",
            "[LightGBM] [Info] Number of data points in the train set: 160000, number of used features: 15\n",
            "[LightGBM] [Info] [binary:BoostFromScore]: pavg=0.500656 -> initscore=0.002625\n",
            "[LightGBM] [Info] Start training from score 0.002625\n",
            "[LightGBM] [Info] Number of positive: 80026, number of negative: 79974\n",
            "[LightGBM] [Info] Auto-choosing row-wise multi-threading, the overhead of testing was 0.008132 seconds.\n",
            "You can set `force_row_wise=true` to remove the overhead.\n",
            "And if memory is not enough, you can set `force_col_wise=true`.\n",
            "[LightGBM] [Info] Total Bins 2402\n",
            "[LightGBM] [Info] Number of data points in the train set: 160000, number of used features: 15\n",
            "[LightGBM] [Info] [binary:BoostFromScore]: pavg=0.500162 -> initscore=0.000650\n",
            "[LightGBM] [Info] Start training from score 0.000650\n",
            "[LightGBM] [Info] Number of positive: 79993, number of negative: 80007\n",
            "[LightGBM] [Info] Auto-choosing row-wise multi-threading, the overhead of testing was 0.007716 seconds.\n",
            "You can set `force_row_wise=true` to remove the overhead.\n",
            "And if memory is not enough, you can set `force_col_wise=true`.\n",
            "[LightGBM] [Info] Total Bins 2400\n",
            "[LightGBM] [Info] Number of data points in the train set: 160000, number of used features: 15\n",
            "[LightGBM] [Info] [binary:BoostFromScore]: pavg=0.499956 -> initscore=-0.000175\n",
            "[LightGBM] [Info] Start training from score -0.000175\n",
            "[LightGBM] [Info] Number of positive: 79758, number of negative: 80242\n",
            "[LightGBM] [Info] Auto-choosing row-wise multi-threading, the overhead of testing was 0.008263 seconds.\n",
            "You can set `force_row_wise=true` to remove the overhead.\n",
            "And if memory is not enough, you can set `force_col_wise=true`.\n",
            "[LightGBM] [Info] Total Bins 2399\n",
            "[LightGBM] [Info] Number of data points in the train set: 160000, number of used features: 15\n",
            "[LightGBM] [Info] [binary:BoostFromScore]: pavg=0.498487 -> initscore=-0.006050\n",
            "[LightGBM] [Info] Start training from score -0.006050\n",
            "[LightGBM] [Info] Number of positive: 80118, number of negative: 79882\n",
            "[LightGBM] [Info] Auto-choosing row-wise multi-threading, the overhead of testing was 0.007499 seconds.\n",
            "You can set `force_row_wise=true` to remove the overhead.\n",
            "And if memory is not enough, you can set `force_col_wise=true`.\n",
            "[LightGBM] [Info] Total Bins 2402\n",
            "[LightGBM] [Info] Number of data points in the train set: 160000, number of used features: 15\n",
            "[LightGBM] [Info] [binary:BoostFromScore]: pavg=0.500737 -> initscore=0.002950\n",
            "[LightGBM] [Info] Start training from score 0.002950\n",
            "[LightGBM] [Info] Number of positive: 80105, number of negative: 79895\n",
            "[LightGBM] [Info] Auto-choosing col-wise multi-threading, the overhead of testing was 0.042825 seconds.\n",
            "You can set `force_col_wise=true` to remove the overhead.\n",
            "[LightGBM] [Info] Total Bins 2403\n",
            "[LightGBM] [Info] Number of data points in the train set: 160000, number of used features: 15\n",
            "[LightGBM] [Info] [binary:BoostFromScore]: pavg=0.500656 -> initscore=0.002625\n",
            "[LightGBM] [Info] Start training from score 0.002625\n",
            "[LightGBM] [Info] Number of positive: 80026, number of negative: 79974\n",
            "[LightGBM] [Info] Auto-choosing row-wise multi-threading, the overhead of testing was 0.007971 seconds.\n",
            "You can set `force_row_wise=true` to remove the overhead.\n",
            "And if memory is not enough, you can set `force_col_wise=true`.\n",
            "[LightGBM] [Info] Total Bins 2402\n",
            "[LightGBM] [Info] Number of data points in the train set: 160000, number of used features: 15\n",
            "[LightGBM] [Info] [binary:BoostFromScore]: pavg=0.500162 -> initscore=0.000650\n",
            "[LightGBM] [Info] Start training from score 0.000650\n"
          ]
        }
      ]
    },
    {
      "cell_type": "code",
      "source": [
        "for metric_name, score in evaluation_results.items():\n",
        "    print(f\"Mean_{metric_name.capitalize()}: {score}\\n\")"
      ],
      "metadata": {
        "id": "bAZV8ZMYCyxS",
        "colab": {
          "base_uri": "https://localhost:8080/"
        },
        "outputId": "84fe432f-1ca6-4410-c6e7-4bfc038d6afe"
      },
      "execution_count": 196,
      "outputs": [
        {
          "output_type": "stream",
          "name": "stdout",
          "text": [
            "Mean_Accuracy: 0.9752699999999999\n",
            "\n",
            "Mean_Precision: 0.981476578509346\n",
            "\n",
            "Mean_F1_macro: 0.975268009525476\n",
            "\n",
            "Mean_Recall: 0.9688182675763526\n",
            "\n",
            "Mean_Roc_auc: 0.9975507648534847\n",
            "\n"
          ]
        }
      ]
    },
    {
      "cell_type": "code",
      "source": [
        "accuracy['LightGBM'] = evaluation_results['accuracy']\n",
        "precision['LightGBM'] = evaluation_results['precision']\n",
        "recal['LightGBM'] = evaluation_results['recall']\n",
        "f1_score['LightGBM'] = evaluation_results['f1_macro']"
      ],
      "metadata": {
        "id": "VuyI_Jq_tMxG"
      },
      "execution_count": 220,
      "outputs": []
    },
    {
      "cell_type": "code",
      "source": [
        "accuracy_scores = cross_val_score(model, X, Y, cv=kfold, scoring='accuracy')\n",
        "best_fold_index = np.argmax(accuracy_scores)"
      ],
      "metadata": {
        "id": "DP-jbolSC_rz",
        "colab": {
          "base_uri": "https://localhost:8080/"
        },
        "outputId": "bfdc06ad-680d-417d-bf88-db8422bc37e6"
      },
      "execution_count": 197,
      "outputs": [
        {
          "output_type": "stream",
          "name": "stdout",
          "text": [
            "[LightGBM] [Info] Number of positive: 79993, number of negative: 80007\n",
            "[LightGBM] [Info] Auto-choosing row-wise multi-threading, the overhead of testing was 0.009422 seconds.\n",
            "You can set `force_row_wise=true` to remove the overhead.\n",
            "And if memory is not enough, you can set `force_col_wise=true`.\n",
            "[LightGBM] [Info] Total Bins 2400\n",
            "[LightGBM] [Info] Number of data points in the train set: 160000, number of used features: 15\n",
            "[LightGBM] [Info] [binary:BoostFromScore]: pavg=0.499956 -> initscore=-0.000175\n",
            "[LightGBM] [Info] Start training from score -0.000175\n",
            "[LightGBM] [Info] Number of positive: 79758, number of negative: 80242\n",
            "[LightGBM] [Info] Auto-choosing row-wise multi-threading, the overhead of testing was 0.007800 seconds.\n",
            "You can set `force_row_wise=true` to remove the overhead.\n",
            "And if memory is not enough, you can set `force_col_wise=true`.\n",
            "[LightGBM] [Info] Total Bins 2399\n",
            "[LightGBM] [Info] Number of data points in the train set: 160000, number of used features: 15\n",
            "[LightGBM] [Info] [binary:BoostFromScore]: pavg=0.498487 -> initscore=-0.006050\n",
            "[LightGBM] [Info] Start training from score -0.006050\n",
            "[LightGBM] [Info] Number of positive: 80118, number of negative: 79882\n",
            "[LightGBM] [Info] Auto-choosing row-wise multi-threading, the overhead of testing was 0.014715 seconds.\n",
            "You can set `force_row_wise=true` to remove the overhead.\n",
            "And if memory is not enough, you can set `force_col_wise=true`.\n",
            "[LightGBM] [Info] Total Bins 2402\n",
            "[LightGBM] [Info] Number of data points in the train set: 160000, number of used features: 15\n",
            "[LightGBM] [Info] [binary:BoostFromScore]: pavg=0.500737 -> initscore=0.002950\n",
            "[LightGBM] [Info] Start training from score 0.002950\n",
            "[LightGBM] [Info] Number of positive: 80105, number of negative: 79895\n",
            "[LightGBM] [Info] Auto-choosing row-wise multi-threading, the overhead of testing was 0.007736 seconds.\n",
            "You can set `force_row_wise=true` to remove the overhead.\n",
            "And if memory is not enough, you can set `force_col_wise=true`.\n",
            "[LightGBM] [Info] Total Bins 2403\n",
            "[LightGBM] [Info] Number of data points in the train set: 160000, number of used features: 15\n",
            "[LightGBM] [Info] [binary:BoostFromScore]: pavg=0.500656 -> initscore=0.002625\n",
            "[LightGBM] [Info] Start training from score 0.002625\n",
            "[LightGBM] [Info] Number of positive: 80026, number of negative: 79974\n",
            "[LightGBM] [Info] Auto-choosing col-wise multi-threading, the overhead of testing was 0.028859 seconds.\n",
            "You can set `force_col_wise=true` to remove the overhead.\n",
            "[LightGBM] [Info] Total Bins 2402\n",
            "[LightGBM] [Info] Number of data points in the train set: 160000, number of used features: 15\n",
            "[LightGBM] [Info] [binary:BoostFromScore]: pavg=0.500162 -> initscore=0.000650\n",
            "[LightGBM] [Info] Start training from score 0.000650\n"
          ]
        }
      ]
    },
    {
      "cell_type": "code",
      "source": [
        "train_index, test_index = list(kfold.split(X))[best_fold_index]"
      ],
      "metadata": {
        "id": "hCcMaBUEDFqI"
      },
      "execution_count": 198,
      "outputs": []
    },
    {
      "cell_type": "code",
      "source": [
        "X_train, X_test = X.iloc[train_index], X.iloc[test_index]\n",
        "Y_train, Y_test = Y.iloc[train_index], Y.iloc[test_index]"
      ],
      "metadata": {
        "id": "vjrMjRsLDHf0"
      },
      "execution_count": 200,
      "outputs": []
    },
    {
      "cell_type": "code",
      "source": [
        "model.fit(X_train, Y_train)"
      ],
      "metadata": {
        "id": "SAfGLRoLDIwy",
        "colab": {
          "base_uri": "https://localhost:8080/",
          "height": 200
        },
        "outputId": "42be4077-1847-4624-a947-0f2a4fe1a86b"
      },
      "execution_count": 201,
      "outputs": [
        {
          "output_type": "stream",
          "name": "stdout",
          "text": [
            "[LightGBM] [Info] Number of positive: 79758, number of negative: 80242\n",
            "[LightGBM] [Info] Auto-choosing col-wise multi-threading, the overhead of testing was 0.046007 seconds.\n",
            "You can set `force_col_wise=true` to remove the overhead.\n",
            "[LightGBM] [Info] Total Bins 2399\n",
            "[LightGBM] [Info] Number of data points in the train set: 160000, number of used features: 15\n",
            "[LightGBM] [Info] [binary:BoostFromScore]: pavg=0.498487 -> initscore=-0.006050\n",
            "[LightGBM] [Info] Start training from score -0.006050\n"
          ]
        },
        {
          "output_type": "execute_result",
          "data": {
            "text/plain": [
              "LGBMClassifier()"
            ],
            "text/html": [
              "<style>#sk-container-id-6 {color: black;background-color: white;}#sk-container-id-6 pre{padding: 0;}#sk-container-id-6 div.sk-toggleable {background-color: white;}#sk-container-id-6 label.sk-toggleable__label {cursor: pointer;display: block;width: 100%;margin-bottom: 0;padding: 0.3em;box-sizing: border-box;text-align: center;}#sk-container-id-6 label.sk-toggleable__label-arrow:before {content: \"▸\";float: left;margin-right: 0.25em;color: #696969;}#sk-container-id-6 label.sk-toggleable__label-arrow:hover:before {color: black;}#sk-container-id-6 div.sk-estimator:hover label.sk-toggleable__label-arrow:before {color: black;}#sk-container-id-6 div.sk-toggleable__content {max-height: 0;max-width: 0;overflow: hidden;text-align: left;background-color: #f0f8ff;}#sk-container-id-6 div.sk-toggleable__content pre {margin: 0.2em;color: black;border-radius: 0.25em;background-color: #f0f8ff;}#sk-container-id-6 input.sk-toggleable__control:checked~div.sk-toggleable__content {max-height: 200px;max-width: 100%;overflow: auto;}#sk-container-id-6 input.sk-toggleable__control:checked~label.sk-toggleable__label-arrow:before {content: \"▾\";}#sk-container-id-6 div.sk-estimator input.sk-toggleable__control:checked~label.sk-toggleable__label {background-color: #d4ebff;}#sk-container-id-6 div.sk-label input.sk-toggleable__control:checked~label.sk-toggleable__label {background-color: #d4ebff;}#sk-container-id-6 input.sk-hidden--visually {border: 0;clip: rect(1px 1px 1px 1px);clip: rect(1px, 1px, 1px, 1px);height: 1px;margin: -1px;overflow: hidden;padding: 0;position: absolute;width: 1px;}#sk-container-id-6 div.sk-estimator {font-family: monospace;background-color: #f0f8ff;border: 1px dotted black;border-radius: 0.25em;box-sizing: border-box;margin-bottom: 0.5em;}#sk-container-id-6 div.sk-estimator:hover {background-color: #d4ebff;}#sk-container-id-6 div.sk-parallel-item::after {content: \"\";width: 100%;border-bottom: 1px solid gray;flex-grow: 1;}#sk-container-id-6 div.sk-label:hover label.sk-toggleable__label {background-color: #d4ebff;}#sk-container-id-6 div.sk-serial::before {content: \"\";position: absolute;border-left: 1px solid gray;box-sizing: border-box;top: 0;bottom: 0;left: 50%;z-index: 0;}#sk-container-id-6 div.sk-serial {display: flex;flex-direction: column;align-items: center;background-color: white;padding-right: 0.2em;padding-left: 0.2em;position: relative;}#sk-container-id-6 div.sk-item {position: relative;z-index: 1;}#sk-container-id-6 div.sk-parallel {display: flex;align-items: stretch;justify-content: center;background-color: white;position: relative;}#sk-container-id-6 div.sk-item::before, #sk-container-id-6 div.sk-parallel-item::before {content: \"\";position: absolute;border-left: 1px solid gray;box-sizing: border-box;top: 0;bottom: 0;left: 50%;z-index: -1;}#sk-container-id-6 div.sk-parallel-item {display: flex;flex-direction: column;z-index: 1;position: relative;background-color: white;}#sk-container-id-6 div.sk-parallel-item:first-child::after {align-self: flex-end;width: 50%;}#sk-container-id-6 div.sk-parallel-item:last-child::after {align-self: flex-start;width: 50%;}#sk-container-id-6 div.sk-parallel-item:only-child::after {width: 0;}#sk-container-id-6 div.sk-dashed-wrapped {border: 1px dashed gray;margin: 0 0.4em 0.5em 0.4em;box-sizing: border-box;padding-bottom: 0.4em;background-color: white;}#sk-container-id-6 div.sk-label label {font-family: monospace;font-weight: bold;display: inline-block;line-height: 1.2em;}#sk-container-id-6 div.sk-label-container {text-align: center;}#sk-container-id-6 div.sk-container {/* jupyter's `normalize.less` sets `[hidden] { display: none; }` but bootstrap.min.css set `[hidden] { display: none !important; }` so we also need the `!important` here to be able to override the default hidden behavior on the sphinx rendered scikit-learn.org. See: https://github.com/scikit-learn/scikit-learn/issues/21755 */display: inline-block !important;position: relative;}#sk-container-id-6 div.sk-text-repr-fallback {display: none;}</style><div id=\"sk-container-id-6\" class=\"sk-top-container\"><div class=\"sk-text-repr-fallback\"><pre>LGBMClassifier()</pre><b>In a Jupyter environment, please rerun this cell to show the HTML representation or trust the notebook. <br />On GitHub, the HTML representation is unable to render, please try loading this page with nbviewer.org.</b></div><div class=\"sk-container\" hidden><div class=\"sk-item\"><div class=\"sk-estimator sk-toggleable\"><input class=\"sk-toggleable__control sk-hidden--visually\" id=\"sk-estimator-id-6\" type=\"checkbox\" checked><label for=\"sk-estimator-id-6\" class=\"sk-toggleable__label sk-toggleable__label-arrow\">LGBMClassifier</label><div class=\"sk-toggleable__content\"><pre>LGBMClassifier()</pre></div></div></div></div></div>"
            ]
          },
          "metadata": {},
          "execution_count": 201
        }
      ]
    },
    {
      "cell_type": "code",
      "source": [
        "model_testing1(model)"
      ],
      "metadata": {
        "id": "Qqx9V49WDKHh",
        "colab": {
          "base_uri": "https://localhost:8080/"
        },
        "outputId": "96b34558-b2df-4b44-c433-1b42d90684b0"
      },
      "execution_count": 202,
      "outputs": [
        {
          "output_type": "stream",
          "name": "stdout",
          "text": [
            "Accuracy Score on UnderSampled Test Data:  0.976125\n",
            "\n",
            "Confussion Matrix  of UnderSampled Test Data:\n",
            "  [[19418   340]\n",
            " [  615 19627]] \n",
            "\n",
            "classification_report of UnderSampled Test Data: \n",
            "\n",
            "               precision    recall  f1-score   support\n",
            "\n",
            "           0       0.97      0.98      0.98     19758\n",
            "           1       0.98      0.97      0.98     20242\n",
            "\n",
            "    accuracy                           0.98     40000\n",
            "   macro avg       0.98      0.98      0.98     40000\n",
            "weighted avg       0.98      0.98      0.98     40000\n",
            "\n"
          ]
        }
      ]
    },
    {
      "cell_type": "code",
      "source": [
        "model_testing11(model)"
      ],
      "metadata": {
        "id": "-oTxc1HCDKaQ",
        "colab": {
          "base_uri": "https://localhost:8080/"
        },
        "outputId": "dcd03b37-e49f-4897-aac2-daf466080e54"
      },
      "execution_count": 203,
      "outputs": [
        {
          "output_type": "stream",
          "name": "stdout",
          "text": [
            "Accuracy Score on UnderSampled Train Data:  0.97695\n",
            "\n",
            "Confussion Matrix  of UnderSampled Train Data:\n",
            "  [[78882  1360]\n",
            " [ 2328 77430]] \n",
            "\n",
            "classification_report of UnderSampled Train Data: \n",
            "\n",
            "               precision    recall  f1-score   support\n",
            "\n",
            "           0       0.97      0.98      0.98     80242\n",
            "           1       0.98      0.97      0.98     79758\n",
            "\n",
            "    accuracy                           0.98    160000\n",
            "   macro avg       0.98      0.98      0.98    160000\n",
            "weighted avg       0.98      0.98      0.98    160000\n",
            "\n"
          ]
        }
      ]
    },
    {
      "cell_type": "markdown",
      "source": [
        "##FINAL EVALUATION"
      ],
      "metadata": {
        "id": "Hzof0tMxrjBm"
      }
    },
    {
      "cell_type": "code",
      "source": [
        "import matplotlib.pyplot as plt\n"
      ],
      "metadata": {
        "id": "DLXrINEFpJ3R"
      },
      "execution_count": 221,
      "outputs": []
    },
    {
      "cell_type": "code",
      "source": [
        "plt.figure(figsize=(10, 5))\n",
        "plt.ylim(0.8, 1.0)\n",
        "plt.bar(accuracy.keys(), accuracy.values())\n",
        "plt.title('Accuracy')\n",
        "\n",
        "plt.tight_layout()\n",
        "plt.show()"
      ],
      "metadata": {
        "colab": {
          "base_uri": "https://localhost:8080/",
          "height": 507
        },
        "id": "kJ5bk95JpKQz",
        "outputId": "98499b67-db2f-4065-994d-155070997ba8"
      },
      "execution_count": 264,
      "outputs": [
        {
          "output_type": "display_data",
          "data": {
            "text/plain": [
              "<Figure size 1000x500 with 1 Axes>"
            ],
            "image/png": "[encoded data removed]"
          },
          "metadata": {}
        }
      ]
    },
    {
      "cell_type": "code",
      "source": [
        "plt.figure(figsize=(10, 5))\n",
        "plt.ylim(0.8, 1.0)\n",
        "plt.bar(precision.keys(), precision.values())\n",
        "plt.title('Precision')\n",
        "\n",
        "plt.tight_layout()\n",
        "plt.show()"
      ],
      "metadata": {
        "colab": {
          "base_uri": "https://localhost:8080/",
          "height": 507
        },
        "id": "NJ4-I1h2u12s",
        "outputId": "29041bf7-9261-4a56-ae54-8e0c9daa1b6e"
      },
      "execution_count": 248,
      "outputs": [
        {
          "output_type": "display_data",
          "data": {
            "text/plain": [
              "<Figure size 1000x500 with 1 Axes>"
            ],
            "image/png": "[encoded data removed]"
          },
          "metadata": {}
        }
      ]
    },
    {
      "cell_type": "code",
      "source": [
        "plt.figure(figsize=(10, 5))\n",
        "plt.ylim(0.7, 1.0)\n",
        "plt.bar(recal.keys(), recal.values())\n",
        "plt.title('Recall')\n",
        "plt.tight_layout()\n",
        "plt.show()"
      ],
      "metadata": {
        "colab": {
          "base_uri": "https://localhost:8080/",
          "height": 507
        },
        "id": "v-MtffKtu2Z1",
        "outputId": "d321f20a-61da-4d13-8089-0d00bc712f1f"
      },
      "execution_count": 247,
      "outputs": [
        {
          "output_type": "display_data",
          "data": {
            "text/plain": [
              "<Figure size 1000x500 with 1 Axes>"
            ],
            "image/png": "[encoded data removed]"
          },
          "metadata": {}
        }
      ]
    },
    {
      "cell_type": "code",
      "source": [
        "plt.figure(figsize=(10, 5))\n",
        "plt.ylim(0.8, 1.0)\n",
        "plt.bar(f1_score.keys(), f1_score.values())\n",
        "plt.title('F1-score')\n",
        "\n",
        "plt.tight_layout()\n",
        "plt.show()"
      ],
      "metadata": {
        "colab": {
          "base_uri": "https://localhost:8080/",
          "height": 507
        },
        "id": "PuBHBAPku2t5",
        "outputId": "67545752-445a-444c-a8ee-788615de43b2"
      },
      "execution_count": 246,
      "outputs": [
        {
          "output_type": "display_data",
          "data": {
            "text/plain": [
              "<Figure size 1000x500 with 1 Axes>"
            ],
            "image/png": "[encoded data removed]"
          },
          "metadata": {}
        }
      ]
    }
  ],
  "metadata": {
    "colab": {
      "toc_visible": true,
      "provenance": [],
      "include_colab_link": true
    },
    "kernelspec": {
      "display_name": "Python 3",
      "name": "python3"
    },
    "language_info": {
      "name": "python"
    }
  },
  "nbformat": 4,
  "nbformat_minor": 0
}