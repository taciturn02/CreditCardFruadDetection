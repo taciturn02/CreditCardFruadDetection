{
  "cells": [
    {
      "cell_type": "markdown",
      "metadata": {
        "id": "view-in-github",
        "colab_type": "text"
      },
      "source": [
        "<a href=\"https://colab.research.google.com/github/taciturn02/CreditCardFruadDetection/blob/main/ML_MODELS2.ipynb\" target=\"_parent\"><img src=\"https://colab.research.google.com/assets/colab-badge.svg\" alt=\"Open In Colab\"/></a>"
      ]
    },
    {
      "cell_type": "code",
      "execution_count": null,
      "metadata": {
        "id": "af6ytPke5kNc"
      },
      "outputs": [],
      "source": [
        "from google.colab import drive"
      ]
    },
    {
      "cell_type": "code",
      "execution_count": null,
      "metadata": {
        "colab": {
          "base_uri": "https://localhost:8080/"
        },
        "id": "CHLz3LRP5prS",
        "outputId": "4915fbfb-1ccd-4604-af42-420fde5f4923"
      },
      "outputs": [
        {
          "output_type": "stream",
          "name": "stdout",
          "text": [
            "Mounted at /content/drive\n"
          ]
        }
      ],
      "source": [
        "drive.mount('/content/drive')"
      ]
    },
    {
      "cell_type": "code",
      "execution_count": null,
      "metadata": {
        "id": "g5ADbImS5rSZ"
      },
      "outputs": [],
      "source": [
        "import numpy as np\n",
        "import pandas as pd\n",
        "from sklearn.model_selection import train_test_split\n",
        "from sklearn.linear_model import LogisticRegression\n",
        "from sklearn import metrics\n",
        "from sklearn.metrics import accuracy_score, precision_score, recall_score,classification_report,confusion_matrix\n",
        "from sklearn.model_selection import KFold,cross_val_score\n",
        "\n"
      ]
    },
    {
      "cell_type": "code",
      "execution_count": null,
      "metadata": {
        "id": "IgjdfA3I51G0"
      },
      "outputs": [],
      "source": [
        "train_df = pd.read_csv(\"/content/drive/MyDrive/CreditCard_DataSet/randomUndersammpledData.csv\")\n",
        "train_df2 = pd.read_csv(\"/content/drive/MyDrive/CreditCard_DataSet/randomOversampledData.csv\")"
      ]
    },
    {
      "cell_type": "code",
      "execution_count": null,
      "metadata": {
        "colab": {
          "base_uri": "https://localhost:8080/"
        },
        "id": "BOu74PO46VZI",
        "outputId": "2f1252b1-534e-497a-8ce7-ecf20d004049"
      },
      "outputs": [
        {
          "output_type": "stream",
          "name": "stdout",
          "text": [
            "<class 'pandas.core.frame.DataFrame'>\n",
            "RangeIndex: 4290 entries, 0 to 4289\n",
            "Data columns (total 16 columns):\n",
            " #   Column      Non-Null Count  Dtype  \n",
            "---  ------      --------------  -----  \n",
            " 0   merchant    4290 non-null   int64  \n",
            " 1   category    4290 non-null   int64  \n",
            " 2   amt         4290 non-null   float64\n",
            " 3   gender      4290 non-null   int64  \n",
            " 4   zip         4290 non-null   int64  \n",
            " 5   lat         4290 non-null   float64\n",
            " 6   long        4290 non-null   float64\n",
            " 7   city_pop    4290 non-null   int64  \n",
            " 8   job         4290 non-null   int64  \n",
            " 9   merch_lat   4290 non-null   float64\n",
            " 10  merch_long  4290 non-null   float64\n",
            " 11  is_fraud    4290 non-null   int64  \n",
            " 12  hour        4290 non-null   int64  \n",
            " 13  day         4290 non-null   int64  \n",
            " 14  month       4290 non-null   int64  \n",
            " 15  age_cust    4290 non-null   int64  \n",
            "dtypes: float64(5), int64(11)\n",
            "memory usage: 536.4 KB\n",
            "<class 'pandas.core.frame.DataFrame'>\n",
            "RangeIndex: 1107148 entries, 0 to 1107147\n",
            "Data columns (total 16 columns):\n",
            " #   Column      Non-Null Count    Dtype  \n",
            "---  ------      --------------    -----  \n",
            " 0   merchant    1107148 non-null  int64  \n",
            " 1   category    1107148 non-null  int64  \n",
            " 2   amt         1107148 non-null  float64\n",
            " 3   gender      1107148 non-null  int64  \n",
            " 4   zip         1107148 non-null  int64  \n",
            " 5   lat         1107148 non-null  float64\n",
            " 6   long        1107148 non-null  float64\n",
            " 7   city_pop    1107148 non-null  int64  \n",
            " 8   job         1107148 non-null  int64  \n",
            " 9   merch_lat   1107148 non-null  float64\n",
            " 10  merch_long  1107148 non-null  float64\n",
            " 11  is_fraud    1107148 non-null  int64  \n",
            " 12  hour        1107148 non-null  int64  \n",
            " 13  day         1107148 non-null  int64  \n",
            " 14  month       1107148 non-null  int64  \n",
            " 15  age_cust    1107148 non-null  int64  \n",
            "dtypes: float64(5), int64(11)\n",
            "memory usage: 135.2 MB\n"
          ]
        }
      ],
      "source": [
        "train_df.info()\n",
        "train_df2.info()\n"
      ]
    },
    {
      "cell_type": "markdown",
      "metadata": {
        "id": "dfQBiDZCBgAo"
      },
      "source": [
        "Split data into target and features"
      ]
    },
    {
      "cell_type": "code",
      "execution_count": null,
      "metadata": {
        "id": "miajjFtJBfgr"
      },
      "outputs": [],
      "source": [
        "X = train_df.drop(columns='is_fraud', axis=1)\n",
        "Y = train_df['is_fraud']\n",
        "\n",
        "XX = train_df2.drop(columns='is_fraud', axis=1)\n",
        "YY = train_df2['is_fraud']"
      ]
    },
    {
      "cell_type": "code",
      "execution_count": null,
      "metadata": {
        "colab": {
          "base_uri": "https://localhost:8080/",
          "height": 423
        },
        "id": "bz21EdyVByuz",
        "outputId": "b106872d-3b16-4bb6-b86c-89155b0aa296"
      },
      "outputs": [
        {
          "output_type": "execute_result",
          "data": {
            "text/plain": [
              "      merchant  category      amt  gender    zip      lat      long  city_pop  \\\n",
              "0          562         7    21.02       0  26339  39.4125  -80.6352       255   \n",
              "1          344         5   173.36       1  53803  42.5545  -90.3508      1306   \n",
              "2           64         4   204.06       0  24970  37.7418  -80.4626      4575   \n",
              "3          559         2   130.71       0  59448  48.2777 -112.8456       743   \n",
              "4          130         4   224.08       0  33872  27.4703  -81.4872     50835   \n",
              "...        ...       ...      ...     ...    ...      ...       ...       ...   \n",
              "4285       670        12  1041.51       1  38668  34.6323  -89.8855     14462   \n",
              "4286       349        12   868.09       1  38668  34.6323  -89.8855     14462   \n",
              "4287       443        11  1039.42       1  38668  34.6323  -89.8855     14462   \n",
              "4288        29         4   289.27       1  38668  34.6323  -89.8855     14462   \n",
              "4289       281         8   766.38       1  38668  34.6323  -89.8855     14462   \n",
              "\n",
              "      job  merch_lat  merch_long  hour  day  month  age_cust  \n",
              "0      69  39.516636  -80.608654    18    2      8        49  \n",
              "1     367  41.876202  -90.405649    23    5     12        62  \n",
              "2     420  38.470564  -80.007670    10    5      9        29  \n",
              "3     473  48.078191 -113.631976     6    3     10        48  \n",
              "4     171  28.448536  -80.743779     3    5     12        34  \n",
              "...   ...        ...         ...   ...  ...    ...       ...  \n",
              "4285  112  34.573471  -89.911011    22    5     12        61  \n",
              "4286  112  34.091227  -90.390612    22    5     12        61  \n",
              "4287  112  34.628434  -90.284780    22    5     12        61  \n",
              "4288  112  34.746063  -90.401093    23    5     12        61  \n",
              "4289  112  33.771462  -90.651342    23    5     12        61  \n",
              "\n",
              "[4290 rows x 15 columns]"
            ],
            "text/html": [
              "\n",
              "  <div id=\"df-00cd3818-a44e-4d06-86ba-925fc40303ac\" class=\"colab-df-container\">\n",
              "    <div>\n",
              "<style scoped>\n",
              "    .dataframe tbody tr th:only-of-type {\n",
              "        vertical-align: middle;\n",
              "    }\n",
              "\n",
              "    .dataframe tbody tr th {\n",
              "        vertical-align: top;\n",
              "    }\n",
              "\n",
              "    .dataframe thead th {\n",
              "        text-align: right;\n",
              "    }\n",
              "</style>\n",
              "<table border=\"1\" class=\"dataframe\">\n",
              "  <thead>\n",
              "    <tr style=\"text-align: right;\">\n",
              "      <th></th>\n",
              "      <th>merchant</th>\n",
              "      <th>category</th>\n",
              "      <th>amt</th>\n",
              "      <th>gender</th>\n",
              "      <th>zip</th>\n",
              "      <th>lat</th>\n",
              "      <th>long</th>\n",
              "      <th>city_pop</th>\n",
              "      <th>job</th>\n",
              "      <th>merch_lat</th>\n",
              "      <th>merch_long</th>\n",
              "      <th>hour</th>\n",
              "      <th>day</th>\n",
              "      <th>month</th>\n",
              "      <th>age_cust</th>\n",
              "    </tr>\n",
              "  </thead>\n",
              "  <tbody>\n",
              "    <tr>\n",
              "      <th>0</th>\n",
              "      <td>562</td>\n",
              "      <td>7</td>\n",
              "      <td>21.02</td>\n",
              "      <td>0</td>\n",
              "      <td>26339</td>\n",
              "      <td>39.4125</td>\n",
              "      <td>-80.6352</td>\n",
              "      <td>255</td>\n",
              "      <td>69</td>\n",
              "      <td>39.516636</td>\n",
              "      <td>-80.608654</td>\n",
              "      <td>18</td>\n",
              "      <td>2</td>\n",
              "      <td>8</td>\n",
              "      <td>49</td>\n",
              "    </tr>\n",
              "    <tr>\n",
              "      <th>1</th>\n",
              "      <td>344</td>\n",
              "      <td>5</td>\n",
              "      <td>173.36</td>\n",
              "      <td>1</td>\n",
              "      <td>53803</td>\n",
              "      <td>42.5545</td>\n",
              "      <td>-90.3508</td>\n",
              "      <td>1306</td>\n",
              "      <td>367</td>\n",
              "      <td>41.876202</td>\n",
              "      <td>-90.405649</td>\n",
              "      <td>23</td>\n",
              "      <td>5</td>\n",
              "      <td>12</td>\n",
              "      <td>62</td>\n",
              "    </tr>\n",
              "    <tr>\n",
              "      <th>2</th>\n",
              "      <td>64</td>\n",
              "      <td>4</td>\n",
              "      <td>204.06</td>\n",
              "      <td>0</td>\n",
              "      <td>24970</td>\n",
              "      <td>37.7418</td>\n",
              "      <td>-80.4626</td>\n",
              "      <td>4575</td>\n",
              "      <td>420</td>\n",
              "      <td>38.470564</td>\n",
              "      <td>-80.007670</td>\n",
              "      <td>10</td>\n",
              "      <td>5</td>\n",
              "      <td>9</td>\n",
              "      <td>29</td>\n",
              "    </tr>\n",
              "    <tr>\n",
              "      <th>3</th>\n",
              "      <td>559</td>\n",
              "      <td>2</td>\n",
              "      <td>130.71</td>\n",
              "      <td>0</td>\n",
              "      <td>59448</td>\n",
              "      <td>48.2777</td>\n",
              "      <td>-112.8456</td>\n",
              "      <td>743</td>\n",
              "      <td>473</td>\n",
              "      <td>48.078191</td>\n",
              "      <td>-113.631976</td>\n",
              "      <td>6</td>\n",
              "      <td>3</td>\n",
              "      <td>10</td>\n",
              "      <td>48</td>\n",
              "    </tr>\n",
              "    <tr>\n",
              "      <th>4</th>\n",
              "      <td>130</td>\n",
              "      <td>4</td>\n",
              "      <td>224.08</td>\n",
              "      <td>0</td>\n",
              "      <td>33872</td>\n",
              "      <td>27.4703</td>\n",
              "      <td>-81.4872</td>\n",
              "      <td>50835</td>\n",
              "      <td>171</td>\n",
              "      <td>28.448536</td>\n",
              "      <td>-80.743779</td>\n",
              "      <td>3</td>\n",
              "      <td>5</td>\n",
              "      <td>12</td>\n",
              "      <td>34</td>\n",
              "    </tr>\n",
              "    <tr>\n",
              "      <th>...</th>\n",
              "      <td>...</td>\n",
              "      <td>...</td>\n",
              "      <td>...</td>\n",
              "      <td>...</td>\n",
              "      <td>...</td>\n",
              "      <td>...</td>\n",
              "      <td>...</td>\n",
              "      <td>...</td>\n",
              "      <td>...</td>\n",
              "      <td>...</td>\n",
              "      <td>...</td>\n",
              "      <td>...</td>\n",
              "      <td>...</td>\n",
              "      <td>...</td>\n",
              "      <td>...</td>\n",
              "    </tr>\n",
              "    <tr>\n",
              "      <th>4285</th>\n",
              "      <td>670</td>\n",
              "      <td>12</td>\n",
              "      <td>1041.51</td>\n",
              "      <td>1</td>\n",
              "      <td>38668</td>\n",
              "      <td>34.6323</td>\n",
              "      <td>-89.8855</td>\n",
              "      <td>14462</td>\n",
              "      <td>112</td>\n",
              "      <td>34.573471</td>\n",
              "      <td>-89.911011</td>\n",
              "      <td>22</td>\n",
              "      <td>5</td>\n",
              "      <td>12</td>\n",
              "      <td>61</td>\n",
              "    </tr>\n",
              "    <tr>\n",
              "      <th>4286</th>\n",
              "      <td>349</td>\n",
              "      <td>12</td>\n",
              "      <td>868.09</td>\n",
              "      <td>1</td>\n",
              "      <td>38668</td>\n",
              "      <td>34.6323</td>\n",
              "      <td>-89.8855</td>\n",
              "      <td>14462</td>\n",
              "      <td>112</td>\n",
              "      <td>34.091227</td>\n",
              "      <td>-90.390612</td>\n",
              "      <td>22</td>\n",
              "      <td>5</td>\n",
              "      <td>12</td>\n",
              "      <td>61</td>\n",
              "    </tr>\n",
              "    <tr>\n",
              "      <th>4287</th>\n",
              "      <td>443</td>\n",
              "      <td>11</td>\n",
              "      <td>1039.42</td>\n",
              "      <td>1</td>\n",
              "      <td>38668</td>\n",
              "      <td>34.6323</td>\n",
              "      <td>-89.8855</td>\n",
              "      <td>14462</td>\n",
              "      <td>112</td>\n",
              "      <td>34.628434</td>\n",
              "      <td>-90.284780</td>\n",
              "      <td>22</td>\n",
              "      <td>5</td>\n",
              "      <td>12</td>\n",
              "      <td>61</td>\n",
              "    </tr>\n",
              "    <tr>\n",
              "      <th>4288</th>\n",
              "      <td>29</td>\n",
              "      <td>4</td>\n",
              "      <td>289.27</td>\n",
              "      <td>1</td>\n",
              "      <td>38668</td>\n",
              "      <td>34.6323</td>\n",
              "      <td>-89.8855</td>\n",
              "      <td>14462</td>\n",
              "      <td>112</td>\n",
              "      <td>34.746063</td>\n",
              "      <td>-90.401093</td>\n",
              "      <td>23</td>\n",
              "      <td>5</td>\n",
              "      <td>12</td>\n",
              "      <td>61</td>\n",
              "    </tr>\n",
              "    <tr>\n",
              "      <th>4289</th>\n",
              "      <td>281</td>\n",
              "      <td>8</td>\n",
              "      <td>766.38</td>\n",
              "      <td>1</td>\n",
              "      <td>38668</td>\n",
              "      <td>34.6323</td>\n",
              "      <td>-89.8855</td>\n",
              "      <td>14462</td>\n",
              "      <td>112</td>\n",
              "      <td>33.771462</td>\n",
              "      <td>-90.651342</td>\n",
              "      <td>23</td>\n",
              "      <td>5</td>\n",
              "      <td>12</td>\n",
              "      <td>61</td>\n",
              "    </tr>\n",
              "  </tbody>\n",
              "</table>\n",
              "<p>4290 rows × 15 columns</p>\n",
              "</div>\n",
              "    <div class=\"colab-df-buttons\">\n",
              "\n",
              "  <div class=\"colab-df-container\">\n",
              "    <button class=\"colab-df-convert\" onclick=\"convertToInteractive('df-00cd3818-a44e-4d06-86ba-925fc40303ac')\"\n",
              "            title=\"Convert this dataframe to an interactive table.\"\n",
              "            style=\"display:none;\">\n",
              "\n",
              "  <svg xmlns=\"http://www.w3.org/2000/svg\" height=\"24px\" viewBox=\"0 -960 960 960\">\n",
              "    <path d=\"M120-120v-720h720v720H120Zm60-500h600v-160H180v160Zm220 220h160v-160H400v160Zm0 220h160v-160H400v160ZM180-400h160v-160H180v160Zm440 0h160v-160H620v160ZM180-180h160v-160H180v160Zm440 0h160v-160H620v160Z\"/>\n",
              "  </svg>\n",
              "    </button>\n",
              "\n",
              "  <style>\n",
              "    .colab-df-container {\n",
              "      display:flex;\n",
              "      gap: 12px;\n",
              "    }\n",
              "\n",
              "    .colab-df-convert {\n",
              "      background-color: #E8F0FE;\n",
              "      border: none;\n",
              "      border-radius: 50%;\n",
              "      cursor: pointer;\n",
              "      display: none;\n",
              "      fill: #1967D2;\n",
              "      height: 32px;\n",
              "      padding: 0 0 0 0;\n",
              "      width: 32px;\n",
              "    }\n",
              "\n",
              "    .colab-df-convert:hover {\n",
              "      background-color: #E2EBFA;\n",
              "      box-shadow: 0px 1px 2px rgba(60, 64, 67, 0.3), 0px 1px 3px 1px rgba(60, 64, 67, 0.15);\n",
              "      fill: #174EA6;\n",
              "    }\n",
              "\n",
              "    .colab-df-buttons div {\n",
              "      margin-bottom: 4px;\n",
              "    }\n",
              "\n",
              "    [theme=dark] .colab-df-convert {\n",
              "      background-color: #3B4455;\n",
              "      fill: #D2E3FC;\n",
              "    }\n",
              "\n",
              "    [theme=dark] .colab-df-convert:hover {\n",
              "      background-color: #434B5C;\n",
              "      box-shadow: 0px 1px 3px 1px rgba(0, 0, 0, 0.15);\n",
              "      filter: drop-shadow(0px 1px 2px rgba(0, 0, 0, 0.3));\n",
              "      fill: #FFFFFF;\n",
              "    }\n",
              "  </style>\n",
              "\n",
              "    <script>\n",
              "      const buttonEl =\n",
              "        document.querySelector('#df-00cd3818-a44e-4d06-86ba-925fc40303ac button.colab-df-convert');\n",
              "      buttonEl.style.display =\n",
              "        google.colab.kernel.accessAllowed ? 'block' : 'none';\n",
              "\n",
              "      async function convertToInteractive(key) {\n",
              "        const element = document.querySelector('#df-00cd3818-a44e-4d06-86ba-925fc40303ac');\n",
              "        const dataTable =\n",
              "          await google.colab.kernel.invokeFunction('convertToInteractive',\n",
              "                                                    [key], {});\n",
              "        if (!dataTable) return;\n",
              "\n",
              "        const docLinkHtml = 'Like what you see? Visit the ' +\n",
              "          '<a target=\"_blank\" href=https://colab.research.google.com/notebooks/data_table.ipynb>data table notebook</a>'\n",
              "          + ' to learn more about interactive tables.';\n",
              "        element.innerHTML = '';\n",
              "        dataTable['output_type'] = 'display_data';\n",
              "        await google.colab.output.renderOutput(dataTable, element);\n",
              "        const docLink = document.createElement('div');\n",
              "        docLink.innerHTML = docLinkHtml;\n",
              "        element.appendChild(docLink);\n",
              "      }\n",
              "    </script>\n",
              "  </div>\n",
              "\n",
              "\n",
              "<div id=\"df-72e38221-360e-47ab-a325-1466f677e842\">\n",
              "  <button class=\"colab-df-quickchart\" onclick=\"quickchart('df-72e38221-360e-47ab-a325-1466f677e842')\"\n",
              "            title=\"Suggest charts\"\n",
              "            style=\"display:none;\">\n",
              "\n",
              "<svg xmlns=\"http://www.w3.org/2000/svg\" height=\"24px\"viewBox=\"0 0 24 24\"\n",
              "     width=\"24px\">\n",
              "    <g>\n",
              "        <path d=\"M19 3H5c-1.1 0-2 .9-2 2v14c0 1.1.9 2 2 2h14c1.1 0 2-.9 2-2V5c0-1.1-.9-2-2-2zM9 17H7v-7h2v7zm4 0h-2V7h2v10zm4 0h-2v-4h2v4z\"/>\n",
              "    </g>\n",
              "</svg>\n",
              "  </button>\n",
              "\n",
              "<style>\n",
              "  .colab-df-quickchart {\n",
              "      --bg-color: #E8F0FE;\n",
              "      --fill-color: #1967D2;\n",
              "      --hover-bg-color: #E2EBFA;\n",
              "      --hover-fill-color: #174EA6;\n",
              "      --disabled-fill-color: #AAA;\n",
              "      --disabled-bg-color: #DDD;\n",
              "  }\n",
              "\n",
              "  [theme=dark] .colab-df-quickchart {\n",
              "      --bg-color: #3B4455;\n",
              "      --fill-color: #D2E3FC;\n",
              "      --hover-bg-color: #434B5C;\n",
              "      --hover-fill-color: #FFFFFF;\n",
              "      --disabled-bg-color: #3B4455;\n",
              "      --disabled-fill-color: #666;\n",
              "  }\n",
              "\n",
              "  .colab-df-quickchart {\n",
              "    background-color: var(--bg-color);\n",
              "    border: none;\n",
              "    border-radius: 50%;\n",
              "    cursor: pointer;\n",
              "    display: none;\n",
              "    fill: var(--fill-color);\n",
              "    height: 32px;\n",
              "    padding: 0;\n",
              "    width: 32px;\n",
              "  }\n",
              "\n",
              "  .colab-df-quickchart:hover {\n",
              "    background-color: var(--hover-bg-color);\n",
              "    box-shadow: 0 1px 2px rgba(60, 64, 67, 0.3), 0 1px 3px 1px rgba(60, 64, 67, 0.15);\n",
              "    fill: var(--button-hover-fill-color);\n",
              "  }\n",
              "\n",
              "  .colab-df-quickchart-complete:disabled,\n",
              "  .colab-df-quickchart-complete:disabled:hover {\n",
              "    background-color: var(--disabled-bg-color);\n",
              "    fill: var(--disabled-fill-color);\n",
              "    box-shadow: none;\n",
              "  }\n",
              "\n",
              "  .colab-df-spinner {\n",
              "    border: 2px solid var(--fill-color);\n",
              "    border-color: transparent;\n",
              "    border-bottom-color: var(--fill-color);\n",
              "    animation:\n",
              "      spin 1s steps(1) infinite;\n",
              "  }\n",
              "\n",
              "  @keyframes spin {\n",
              "    0% {\n",
              "      border-color: transparent;\n",
              "      border-bottom-color: var(--fill-color);\n",
              "      border-left-color: var(--fill-color);\n",
              "    }\n",
              "    20% {\n",
              "      border-color: transparent;\n",
              "      border-left-color: var(--fill-color);\n",
              "      border-top-color: var(--fill-color);\n",
              "    }\n",
              "    30% {\n",
              "      border-color: transparent;\n",
              "      border-left-color: var(--fill-color);\n",
              "      border-top-color: var(--fill-color);\n",
              "      border-right-color: var(--fill-color);\n",
              "    }\n",
              "    40% {\n",
              "      border-color: transparent;\n",
              "      border-right-color: var(--fill-color);\n",
              "      border-top-color: var(--fill-color);\n",
              "    }\n",
              "    60% {\n",
              "      border-color: transparent;\n",
              "      border-right-color: var(--fill-color);\n",
              "    }\n",
              "    80% {\n",
              "      border-color: transparent;\n",
              "      border-right-color: var(--fill-color);\n",
              "      border-bottom-color: var(--fill-color);\n",
              "    }\n",
              "    90% {\n",
              "      border-color: transparent;\n",
              "      border-bottom-color: var(--fill-color);\n",
              "    }\n",
              "  }\n",
              "</style>\n",
              "\n",
              "  <script>\n",
              "    async function quickchart(key) {\n",
              "      const quickchartButtonEl =\n",
              "        document.querySelector('#' + key + ' button');\n",
              "      quickchartButtonEl.disabled = true;  // To prevent multiple clicks.\n",
              "      quickchartButtonEl.classList.add('colab-df-spinner');\n",
              "      try {\n",
              "        const charts = await google.colab.kernel.invokeFunction(\n",
              "            'suggestCharts', [key], {});\n",
              "      } catch (error) {\n",
              "        console.error('Error during call to suggestCharts:', error);\n",
              "      }\n",
              "      quickchartButtonEl.classList.remove('colab-df-spinner');\n",
              "      quickchartButtonEl.classList.add('colab-df-quickchart-complete');\n",
              "    }\n",
              "    (() => {\n",
              "      let quickchartButtonEl =\n",
              "        document.querySelector('#df-72e38221-360e-47ab-a325-1466f677e842 button');\n",
              "      quickchartButtonEl.style.display =\n",
              "        google.colab.kernel.accessAllowed ? 'block' : 'none';\n",
              "    })();\n",
              "  </script>\n",
              "</div>\n",
              "\n",
              "  <div id=\"id_211808c5-3e73-4138-9b0e-d51ca4d10285\">\n",
              "    <style>\n",
              "      .colab-df-generate {\n",
              "        background-color: #E8F0FE;\n",
              "        border: none;\n",
              "        border-radius: 50%;\n",
              "        cursor: pointer;\n",
              "        display: none;\n",
              "        fill: #1967D2;\n",
              "        height: 32px;\n",
              "        padding: 0 0 0 0;\n",
              "        width: 32px;\n",
              "      }\n",
              "\n",
              "      .colab-df-generate:hover {\n",
              "        background-color: #E2EBFA;\n",
              "        box-shadow: 0px 1px 2px rgba(60, 64, 67, 0.3), 0px 1px 3px 1px rgba(60, 64, 67, 0.15);\n",
              "        fill: #174EA6;\n",
              "      }\n",
              "\n",
              "      [theme=dark] .colab-df-generate {\n",
              "        background-color: #3B4455;\n",
              "        fill: #D2E3FC;\n",
              "      }\n",
              "\n",
              "      [theme=dark] .colab-df-generate:hover {\n",
              "        background-color: #434B5C;\n",
              "        box-shadow: 0px 1px 3px 1px rgba(0, 0, 0, 0.15);\n",
              "        filter: drop-shadow(0px 1px 2px rgba(0, 0, 0, 0.3));\n",
              "        fill: #FFFFFF;\n",
              "      }\n",
              "    </style>\n",
              "    <button class=\"colab-df-generate\" onclick=\"generateWithVariable('X')\"\n",
              "            title=\"Generate code using this dataframe.\"\n",
              "            style=\"display:none;\">\n",
              "\n",
              "  <svg xmlns=\"http://www.w3.org/2000/svg\" height=\"24px\"viewBox=\"0 0 24 24\"\n",
              "       width=\"24px\">\n",
              "    <path d=\"M7,19H8.4L18.45,9,17,7.55,7,17.6ZM5,21V16.75L18.45,3.32a2,2,0,0,1,2.83,0l1.4,1.43a1.91,1.91,0,0,1,.58,1.4,1.91,1.91,0,0,1-.58,1.4L9.25,21ZM18.45,9,17,7.55Zm-12,3A5.31,5.31,0,0,0,4.9,8.1,5.31,5.31,0,0,0,1,6.5,5.31,5.31,0,0,0,4.9,4.9,5.31,5.31,0,0,0,6.5,1,5.31,5.31,0,0,0,8.1,4.9,5.31,5.31,0,0,0,12,6.5,5.46,5.46,0,0,0,6.5,12Z\"/>\n",
              "  </svg>\n",
              "    </button>\n",
              "    <script>\n",
              "      (() => {\n",
              "      const buttonEl =\n",
              "        document.querySelector('#id_211808c5-3e73-4138-9b0e-d51ca4d10285 button.colab-df-generate');\n",
              "      buttonEl.style.display =\n",
              "        google.colab.kernel.accessAllowed ? 'block' : 'none';\n",
              "\n",
              "      buttonEl.onclick = () => {\n",
              "        google.colab.notebook.generateWithVariable('X');\n",
              "      }\n",
              "      })();\n",
              "    </script>\n",
              "  </div>\n",
              "\n",
              "    </div>\n",
              "  </div>\n"
            ],
            "application/vnd.google.colaboratory.intrinsic+json": {
              "type": "dataframe",
              "variable_name": "X",
              "summary": "{\n  \"name\": \"X\",\n  \"rows\": 4290,\n  \"fields\": [\n    {\n      \"column\": \"merchant\",\n      \"properties\": {\n        \"dtype\": \"number\",\n        \"std\": 197,\n        \"min\": 0,\n        \"max\": 692,\n        \"num_unique_values\": 679,\n        \"samples\": [\n          521,\n          470,\n          668\n        ],\n        \"semantic_type\": \"\",\n        \"description\": \"\"\n      }\n    },\n    {\n      \"column\": \"category\",\n      \"properties\": {\n        \"dtype\": \"number\",\n        \"std\": 3,\n        \"min\": 0,\n        \"max\": 13,\n        \"num_unique_values\": 14,\n        \"samples\": [\n          3,\n          8,\n          7\n        ],\n        \"semantic_type\": \"\",\n        \"description\": \"\"\n      }\n    },\n    {\n      \"column\": \"amt\",\n      \"properties\": {\n        \"dtype\": \"number\",\n        \"std\": 369.465477009723,\n        \"min\": 1.0,\n        \"max\": 2227.37,\n        \"num_unique_values\": 3870,\n        \"samples\": [\n          954.08,\n          186.24,\n          305.37\n        ],\n        \"semantic_type\": \"\",\n        \"description\": \"\"\n      }\n    },\n    {\n      \"column\": \"gender\",\n      \"properties\": {\n        \"dtype\": \"number\",\n        \"std\": 0,\n        \"min\": 0,\n        \"max\": 1,\n        \"num_unique_values\": 2,\n        \"samples\": [\n          1,\n          0\n        ],\n        \"semantic_type\": \"\",\n        \"description\": \"\"\n      }\n    },\n    {\n      \"column\": \"zip\",\n      \"properties\": {\n        \"dtype\": \"number\",\n        \"std\": 26838,\n        \"min\": 1257,\n        \"max\": 99921,\n        \"num_unique_values\": 804,\n        \"samples\": [\n          6024,\n          31632\n        ],\n        \"semantic_type\": \"\",\n        \"description\": \"\"\n      }\n    },\n    {\n      \"column\": \"lat\",\n      \"properties\": {\n        \"dtype\": \"number\",\n        \"std\": 5.052503948046909,\n        \"min\": 20.0271,\n        \"max\": 55.4732,\n        \"num_unique_values\": 804,\n        \"samples\": [\n          42.0158,\n          30.9416\n        ],\n        \"semantic_type\": \"\",\n        \"description\": \"\"\n      }\n    },\n    {\n      \"column\": \"long\",\n      \"properties\": {\n        \"dtype\": \"number\",\n        \"std\": 13.780334897638093,\n        \"min\": -155.488,\n        \"max\": -67.9503,\n        \"num_unique_values\": 802,\n        \"samples\": [\n          -73.2913,\n          -74.6178\n        ],\n        \"semantic_type\": \"\",\n        \"description\": \"\"\n      }\n    },\n    {\n      \"column\": \"city_pop\",\n      \"properties\": {\n        \"dtype\": \"number\",\n        \"std\": 255797,\n        \"min\": 23,\n        \"max\": 2906700,\n        \"num_unique_values\": 745,\n        \"samples\": [\n          1293,\n          31515\n        ],\n        \"semantic_type\": \"\",\n        \"description\": \"\"\n      }\n    },\n    {\n      \"column\": \"job\",\n      \"properties\": {\n        \"dtype\": \"number\",\n        \"std\": 141,\n        \"min\": 0,\n        \"max\": 476,\n        \"num_unique_values\": 449,\n        \"samples\": [\n          232,\n          459\n        ],\n        \"semantic_type\": \"\",\n        \"description\": \"\"\n      }\n    },\n    {\n      \"column\": \"merch_lat\",\n      \"properties\": {\n        \"dtype\": \"number\",\n        \"std\": 5.063457301157381,\n        \"min\": 19.161782,\n        \"max\": 56.214113,\n        \"num_unique_values\": 4290,\n        \"samples\": [\n          35.672329,\n          43.207375\n        ],\n        \"semantic_type\": \"\",\n        \"description\": \"\"\n      }\n    },\n    {\n      \"column\": \"merch_long\",\n      \"properties\": {\n        \"dtype\": \"number\",\n        \"std\": 13.791052868135015,\n        \"min\": -156.480766,\n        \"max\": -66.96074499999999,\n        \"num_unique_values\": 4290,\n        \"samples\": [\n          -106.219095,\n          -76.483014\n        ],\n        \"semantic_type\": \"\",\n        \"description\": \"\"\n      }\n    },\n    {\n      \"column\": \"hour\",\n      \"properties\": {\n        \"dtype\": \"number\",\n        \"std\": 8,\n        \"min\": 0,\n        \"max\": 23,\n        \"num_unique_values\": 24,\n        \"samples\": [\n          1,\n          16\n        ],\n        \"semantic_type\": \"\",\n        \"description\": \"\"\n      }\n    },\n    {\n      \"column\": \"day\",\n      \"properties\": {\n        \"dtype\": \"number\",\n        \"std\": 1,\n        \"min\": 0,\n        \"max\": 6,\n        \"num_unique_values\": 7,\n        \"samples\": [\n          2,\n          5\n        ],\n        \"semantic_type\": \"\",\n        \"description\": \"\"\n      }\n    },\n    {\n      \"column\": \"month\",\n      \"properties\": {\n        \"dtype\": \"number\",\n        \"std\": 1,\n        \"min\": 6,\n        \"max\": 12,\n        \"num_unique_values\": 7,\n        \"samples\": [\n          8,\n          12\n        ],\n        \"semantic_type\": \"\",\n        \"description\": \"\"\n      }\n    },\n    {\n      \"column\": \"age_cust\",\n      \"properties\": {\n        \"dtype\": \"number\",\n        \"std\": 17,\n        \"min\": 15,\n        \"max\": 96,\n        \"num_unique_values\": 81,\n        \"samples\": [\n          64,\n          49\n        ],\n        \"semantic_type\": \"\",\n        \"description\": \"\"\n      }\n    }\n  ]\n}"
            }
          },
          "metadata": {},
          "execution_count": 8
        }
      ],
      "source": [
        "X"
      ]
    },
    {
      "cell_type": "code",
      "execution_count": null,
      "metadata": {
        "colab": {
          "base_uri": "https://localhost:8080/"
        },
        "id": "Pr3YxtozB0U4",
        "outputId": "32b1f916-f578-486b-f24b-44594a822066"
      },
      "outputs": [
        {
          "output_type": "stream",
          "name": "stdout",
          "text": [
            "0       0\n",
            "1       0\n",
            "2       0\n",
            "3       0\n",
            "4       0\n",
            "       ..\n",
            "4285    1\n",
            "4286    1\n",
            "4287    1\n",
            "4288    1\n",
            "4289    1\n",
            "Name: is_fraud, Length: 4290, dtype: int64\n",
            "0          1\n",
            "1          1\n",
            "2          1\n",
            "3          1\n",
            "4          1\n",
            "          ..\n",
            "1107143    0\n",
            "1107144    0\n",
            "1107145    0\n",
            "1107146    0\n",
            "1107147    0\n",
            "Name: is_fraud, Length: 1107148, dtype: int64\n"
          ]
        }
      ],
      "source": [
        "print(Y)\n",
        "print(YY)"
      ]
    },
    {
      "cell_type": "markdown",
      "source": [
        "Initalize K-Fold Cross Validation"
      ],
      "metadata": {
        "id": "f8hL3QBO01hA"
      }
    },
    {
      "cell_type": "code",
      "source": [
        "kfold = KFold(n_splits=5, shuffle=True, random_state=42)\n"
      ],
      "metadata": {
        "id": "_INbm4g9001_"
      },
      "execution_count": null,
      "outputs": []
    },
    {
      "cell_type": "code",
      "source": [
        "metrics = {\n",
        "    'accuracy': accuracy_score,\n",
        "    'precision': precision_score,\n",
        "    'f1_macro' : f1_score,\n",
        "    'recall': recall_score,\n",
        "    'roc_auc': roc_auc_score,\n",
        "\n",
        "}"
      ],
      "metadata": {
        "id": "dcv5QLt83err",
        "colab": {
          "base_uri": "https://localhost:8080/",
          "height": 219
        },
        "outputId": "8980152f-0f86-40b2-bb34-8325a024c3e6"
      },
      "execution_count": null,
      "outputs": [
        {
          "output_type": "error",
          "ename": "NameError",
          "evalue": "name 'f1_score' is not defined",
          "traceback": [
            "\u001b[0;31m---------------------------------------------------------------------------\u001b[0m",
            "\u001b[0;31mNameError\u001b[0m                                 Traceback (most recent call last)",
            "\u001b[0;32m<ipython-input-11-bf3086537eed>\u001b[0m in \u001b[0;36m<cell line: 2>\u001b[0;34m()\u001b[0m\n\u001b[1;32m      2\u001b[0m     \u001b[0;34m'accuracy'\u001b[0m\u001b[0;34m:\u001b[0m \u001b[0maccuracy_score\u001b[0m\u001b[0;34m,\u001b[0m\u001b[0;34m\u001b[0m\u001b[0;34m\u001b[0m\u001b[0m\n\u001b[1;32m      3\u001b[0m     \u001b[0;34m'precision'\u001b[0m\u001b[0;34m:\u001b[0m \u001b[0mprecision_score\u001b[0m\u001b[0;34m,\u001b[0m\u001b[0;34m\u001b[0m\u001b[0;34m\u001b[0m\u001b[0m\n\u001b[0;32m----> 4\u001b[0;31m     \u001b[0;34m'f1_macro'\u001b[0m \u001b[0;34m:\u001b[0m \u001b[0mf1_score\u001b[0m\u001b[0;34m,\u001b[0m\u001b[0;34m\u001b[0m\u001b[0;34m\u001b[0m\u001b[0m\n\u001b[0m\u001b[1;32m      5\u001b[0m     \u001b[0;34m'recall'\u001b[0m\u001b[0;34m:\u001b[0m \u001b[0mrecall_score\u001b[0m\u001b[0;34m,\u001b[0m\u001b[0;34m\u001b[0m\u001b[0;34m\u001b[0m\u001b[0m\n\u001b[1;32m      6\u001b[0m     \u001b[0;34m'roc_auc'\u001b[0m\u001b[0;34m:\u001b[0m \u001b[0mroc_auc_score\u001b[0m\u001b[0;34m,\u001b[0m\u001b[0;34m\u001b[0m\u001b[0;34m\u001b[0m\u001b[0m\n",
            "\u001b[0;31mNameError\u001b[0m: name 'f1_score' is not defined"
          ]
        }
      ]
    },
    {
      "cell_type": "code",
      "source": [
        "def model_testing1(estimator):\n",
        "    ## Prediction on data\n",
        "    y_preds = estimator.predict(X_test)\n",
        "\n",
        "    ##Print accuracy score\n",
        "    print(\"Accuracy Score on UnderSampled Test Data: \",accuracy_score(Y_test,y_preds))\n",
        "\n",
        "    ## Print classification report\n",
        "    print(\"\\nConfussion Matrix  of UnderSampled Test Data:\\n \" ,confusion_matrix(Y_test ,y_preds),\"\\n\")\n",
        "\n",
        "    ## Check confusion matrix\n",
        "    print(\"classification_report of UnderSampled Test Data: \\n\\n\",classification_report(Y_test ,y_preds))\n"
      ],
      "metadata": {
        "id": "zNoEcJVO4qX7"
      },
      "execution_count": null,
      "outputs": []
    },
    {
      "cell_type": "code",
      "source": [
        "def model_testing11(estimator):\n",
        "    ## Prediction on data\n",
        "    y_preds = estimator.predict(X_train)\n",
        "\n",
        "    ##Print accuracy score\n",
        "    print(\"Accuracy Score on UnderSampled Train Data: \",accuracy_score(Y_train,y_preds))\n",
        "\n",
        "    ## Print classification report\n",
        "    print(\"\\nConfussion Matrix  of UnderSampled Train Data:\\n \" ,confusion_matrix(Y_train ,y_preds),\"\\n\")\n",
        "\n",
        "    ## Check confusion matrix\n",
        "    print(\"classification_report of UnderSampled Train Data: \\n\\n\",classification_report(Y_train ,y_preds))"
      ],
      "metadata": {
        "id": "jkME1m1k4q_v"
      },
      "execution_count": null,
      "outputs": []
    },
    {
      "cell_type": "markdown",
      "metadata": {
        "id": "GoSDeVjrQ6fn"
      },
      "source": [
        "##LOGISTIC REGRESSION"
      ]
    },
    {
      "cell_type": "code",
      "source": [
        "model = LogisticRegression()\n"
      ],
      "metadata": {
        "id": "eDBacxF_1ai6"
      },
      "execution_count": null,
      "outputs": []
    },
    {
      "cell_type": "code",
      "source": [
        "evaluation_results = {}\n",
        "for metric_name, metric_func in metrics.items():\n",
        "    scores = cross_val_score(model, X, Y, cv=kfold, scoring=metric_name)\n",
        "    evaluation_results[metric_name] = scores.mean()"
      ],
      "metadata": {
        "id": "6iVSug713jPp"
      },
      "execution_count": null,
      "outputs": []
    },
    {
      "cell_type": "markdown",
      "metadata": {
        "id": "1_hXv-H6SNfu"
      },
      "source": [
        "MODEL EVALUATION"
      ]
    },
    {
      "cell_type": "code",
      "source": [
        "for metric_name, score in evaluation_results.items():\n",
        "    print(f\"Mean_{metric_name.capitalize()}: {score}\\n\")"
      ],
      "metadata": {
        "id": "ZT2C_g3R3yrJ"
      },
      "execution_count": null,
      "outputs": []
    },
    {
      "cell_type": "markdown",
      "source": [
        "Printing Metrics for the best Fold\n",
        "\n",
        "\n"
      ],
      "metadata": {
        "id": "YFnh9DCf34At"
      }
    },
    {
      "cell_type": "code",
      "source": [
        "accuracy_scores = cross_val_score(model, X, Y, cv=kfold, scoring='accuracy')\n",
        "best_fold_index = np.argmax(accuracy_scores)\n"
      ],
      "metadata": {
        "id": "PjlNmccD37J0"
      },
      "execution_count": null,
      "outputs": []
    },
    {
      "cell_type": "markdown",
      "source": [
        " Get the train and test indices for the best fold"
      ],
      "metadata": {
        "id": "WJ5XXTYO4Few"
      }
    },
    {
      "cell_type": "code",
      "source": [
        "train_index, test_index = list(kfold.split(X))[best_fold_index]\n"
      ],
      "metadata": {
        "id": "YWXDH5io4C_L"
      },
      "execution_count": null,
      "outputs": []
    },
    {
      "cell_type": "markdown",
      "source": [
        " Split the data into train and test sets for the best fold\n"
      ],
      "metadata": {
        "id": "USTux1Zx4I5E"
      }
    },
    {
      "cell_type": "code",
      "source": [
        "X_train, X_test = X.iloc[train_index], X.iloc[test_index]\n",
        "Y_train, Y_test = Y.iloc[train_index], Y.iloc[test_index]"
      ],
      "metadata": {
        "id": "-SO30OCG4G5Y"
      },
      "execution_count": null,
      "outputs": []
    },
    {
      "cell_type": "code",
      "source": [
        "model.fit(X_train, Y_train)"
      ],
      "metadata": {
        "id": "HQoRMptu4Dhg"
      },
      "execution_count": null,
      "outputs": []
    },
    {
      "cell_type": "code",
      "source": [
        "model_testing1(model)\n"
      ],
      "metadata": {
        "id": "be-3yg3s33LO"
      },
      "execution_count": null,
      "outputs": []
    },
    {
      "cell_type": "code",
      "source": [
        "model_testing11(model)"
      ],
      "metadata": {
        "id": "lJRkgtlk5PXh"
      },
      "execution_count": null,
      "outputs": []
    },
    {
      "cell_type": "markdown",
      "metadata": {
        "id": "EvMLDjWT6YZr"
      },
      "source": [
        "##DECISION TREE MODEL"
      ]
    },
    {
      "cell_type": "code",
      "execution_count": null,
      "metadata": {
        "id": "nwjRtmDFkFl3"
      },
      "outputs": [],
      "source": [
        "from sklearn.tree import DecisionTreeClassifier\n"
      ]
    },
    {
      "cell_type": "code",
      "source": [
        "\n",
        "model = DecisionTreeClassifier(criterion = 'entropy',max_depth = 6, random_state=42)"
      ],
      "metadata": {
        "id": "9zdMA8qo8xTR"
      },
      "execution_count": null,
      "outputs": []
    },
    {
      "cell_type": "code",
      "source": [
        "evaluation_results = {}\n",
        "for metric_name, metric_func in metrics.items():\n",
        "    scores = cross_val_score(model, X, Y, cv=kfold, scoring=metric_name)\n",
        "    evaluation_results[metric_name] = scores.mean()"
      ],
      "metadata": {
        "id": "QUQb7Y_q826Y"
      },
      "execution_count": null,
      "outputs": []
    },
    {
      "cell_type": "markdown",
      "source": [
        "Model Evaluation"
      ],
      "metadata": {
        "id": "-fn9UinX9Ady"
      }
    },
    {
      "cell_type": "code",
      "source": [
        "for metric_name, score in evaluation_results.items():\n",
        "    print(f\"Mean_{metric_name.capitalize()}: {score}\\n\")"
      ],
      "metadata": {
        "id": "VRW4pg3S80Iw"
      },
      "execution_count": null,
      "outputs": []
    },
    {
      "cell_type": "markdown",
      "metadata": {
        "id": "vI4m_n09Wg8R"
      },
      "source": [
        "Printing metrices for the best fold"
      ]
    },
    {
      "cell_type": "code",
      "source": [
        "accuracy_scores = cross_val_score(model, X, Y, cv=kfold, scoring='accuracy')\n",
        "best_fold_index = np.argmax(accuracy_scores)"
      ],
      "metadata": {
        "id": "KxNv97IW9KAu"
      },
      "execution_count": null,
      "outputs": []
    },
    {
      "cell_type": "markdown",
      "source": [
        "Get the train and test indices for the best fold"
      ],
      "metadata": {
        "id": "O1dmaSoT9o8n"
      }
    },
    {
      "cell_type": "code",
      "source": [
        "train_index, test_index = list(kfold.split(X))[best_fold_index]"
      ],
      "metadata": {
        "id": "lJlhDssL9NTH"
      },
      "execution_count": null,
      "outputs": []
    },
    {
      "cell_type": "markdown",
      "source": [
        "Split the data into train and test sets for the best fold"
      ],
      "metadata": {
        "id": "Uf_yZYAO9mmH"
      }
    },
    {
      "cell_type": "code",
      "source": [
        "X_train, X_test = X.iloc[train_index], X.iloc[test_index]\n",
        "Y_train, Y_test = Y.iloc[train_index], Y.iloc[test_index]"
      ],
      "metadata": {
        "id": "7xEZ8qSo9QOp"
      },
      "execution_count": null,
      "outputs": []
    },
    {
      "cell_type": "code",
      "source": [
        "model.fit(X_train, Y_train)"
      ],
      "metadata": {
        "id": "0LUMeJVn9SUv"
      },
      "execution_count": null,
      "outputs": []
    },
    {
      "cell_type": "code",
      "source": [
        "model_testing1(model)"
      ],
      "metadata": {
        "id": "W9rbCLSn9Why"
      },
      "execution_count": null,
      "outputs": []
    },
    {
      "cell_type": "code",
      "source": [
        "model_testing11(model)"
      ],
      "metadata": {
        "id": "YQQjbYmg9YTu"
      },
      "execution_count": null,
      "outputs": []
    },
    {
      "cell_type": "markdown",
      "metadata": {
        "id": "FCAHJoTR8QI7"
      },
      "source": [
        "##RANDOM FOREST MODEL"
      ]
    },
    {
      "cell_type": "code",
      "source": [
        "from sklearn.ensemble import RandomForestClassifier"
      ],
      "metadata": {
        "id": "0msl-WI7-dKc"
      },
      "execution_count": null,
      "outputs": []
    },
    {
      "cell_type": "code",
      "source": [
        "model = RandomForestClassifier(criterion = 'entropy',max_depth=10 random_state=42)\n"
      ],
      "metadata": {
        "id": "QKceQ-VB-tQV"
      },
      "execution_count": null,
      "outputs": []
    },
    {
      "cell_type": "code",
      "source": [
        "evaluation_results = {}\n",
        "for metric_name, metric_func in metrics.items():\n",
        "    scores = cross_val_score(model, X, Y, cv=kfold, scoring=metric_name)\n",
        "    evaluation_results[metric_name] = scores.mean()"
      ],
      "metadata": {
        "id": "r-X_NIfj-wht"
      },
      "execution_count": null,
      "outputs": []
    },
    {
      "cell_type": "code",
      "source": [
        "for metric_name, score in evaluation_results.items():\n",
        "    print(f\"Mean_{metric_name.capitalize()}: {score}\\n\")"
      ],
      "metadata": {
        "id": "KmyHpoPQ-zCX"
      },
      "execution_count": null,
      "outputs": []
    },
    {
      "cell_type": "markdown",
      "source": [
        "Printing metrices for the best fold"
      ],
      "metadata": {
        "id": "x6EPnqGd-4FD"
      }
    },
    {
      "cell_type": "code",
      "source": [
        "accuracy_scores = cross_val_score(model, X, Y, cv=kfold, scoring='accuracy')\n",
        "best_fold_index = np.argmax(accuracy_scores)"
      ],
      "metadata": {
        "id": "YZMCtFRR-1j1"
      },
      "execution_count": null,
      "outputs": []
    },
    {
      "cell_type": "markdown",
      "source": [
        "Get the train and test indices for the best fold"
      ],
      "metadata": {
        "id": "Ra3eoEIr-9nA"
      }
    },
    {
      "cell_type": "code",
      "source": [
        "train_index, test_index = list(kfold.split(X))[best_fold_index]"
      ],
      "metadata": {
        "id": "N1Qen8OP-7Ra"
      },
      "execution_count": null,
      "outputs": []
    },
    {
      "cell_type": "markdown",
      "source": [
        "Split the data into train and test sets for the best fold"
      ],
      "metadata": {
        "id": "zI6FSbiZ_BMm"
      }
    },
    {
      "cell_type": "code",
      "source": [
        "X_train, X_test = X.iloc[train_index], X.iloc[test_index]\n",
        "Y_train, Y_test = Y.iloc[train_index], Y.iloc[test_index]"
      ],
      "metadata": {
        "id": "vpZ5e3Oh_Eyw"
      },
      "execution_count": null,
      "outputs": []
    },
    {
      "cell_type": "code",
      "source": [
        "model.fit(X_train, Y_train)"
      ],
      "metadata": {
        "id": "KW3UjgL9_G9E"
      },
      "execution_count": null,
      "outputs": []
    },
    {
      "cell_type": "code",
      "source": [
        "model_testing1(model)"
      ],
      "metadata": {
        "id": "zj27QWoh_ImD"
      },
      "execution_count": null,
      "outputs": []
    },
    {
      "cell_type": "code",
      "source": [
        "model_testing11(model)"
      ],
      "metadata": {
        "id": "Ro5dDD-G_KKR"
      },
      "execution_count": null,
      "outputs": []
    },
    {
      "cell_type": "markdown",
      "source": [
        "##XGBOOST CLASSIFIER MODEL"
      ],
      "metadata": {
        "id": "PefqkjEpCQmo"
      }
    },
    {
      "cell_type": "markdown",
      "source": [
        "Initializie XGBoost Classifier\n",
        "\n"
      ],
      "metadata": {
        "id": "ChlO0nKYBSID"
      }
    },
    {
      "cell_type": "code",
      "source": [
        "model = xgb.XGBClassifier()\n"
      ],
      "metadata": {
        "id": "3yHDyu1BBQlZ"
      },
      "execution_count": null,
      "outputs": []
    },
    {
      "cell_type": "code",
      "source": [
        "evaluation_results = {}\n",
        "for metric_name, metric_func in metrics.items():\n",
        "    scores = cross_val_score(model, X, Y, cv=kfold, scoring=metric_name)\n",
        "    evaluation_results[metric_name] = scores.mean()"
      ],
      "metadata": {
        "id": "ChTlXVpTBVdp"
      },
      "execution_count": null,
      "outputs": []
    },
    {
      "cell_type": "code",
      "source": [
        "for metric_name, score in evaluation_results.items():\n",
        "    print(f\"Mean_{metric_name.capitalize()}: {score}\\n\")"
      ],
      "metadata": {
        "id": "iZUPP83eBZDS"
      },
      "execution_count": null,
      "outputs": []
    },
    {
      "cell_type": "code",
      "source": [
        "accuracy_scores = cross_val_score(model, X, Y, cv=kfold, scoring='accuracy')\n",
        "best_fold_index = np.argmax(accuracy_scores)"
      ],
      "metadata": {
        "id": "yMqnT-IYBkur"
      },
      "execution_count": null,
      "outputs": []
    },
    {
      "cell_type": "code",
      "source": [
        "train_index, test_index = list(kfold.split(X))[best_fold_index]"
      ],
      "metadata": {
        "id": "Kd3mb6CZBlG3"
      },
      "execution_count": null,
      "outputs": []
    },
    {
      "cell_type": "code",
      "source": [
        "X_train, X_test = X.iloc[train_index], X.iloc[test_index]\n",
        "Y_train, Y_test = Y.iloc[train_index], Y.iloc[test_index]"
      ],
      "metadata": {
        "id": "V6nCIFQbBnKH"
      },
      "execution_count": null,
      "outputs": []
    },
    {
      "cell_type": "code",
      "source": [
        "model.fit(X_train, Y_train)"
      ],
      "metadata": {
        "id": "uZ9CWAWXBuhw"
      },
      "execution_count": null,
      "outputs": []
    },
    {
      "cell_type": "code",
      "source": [
        "model_testing1(model)"
      ],
      "metadata": {
        "id": "ENdvUdADBwU0"
      },
      "execution_count": null,
      "outputs": []
    },
    {
      "cell_type": "code",
      "source": [
        "model_testing11(model)"
      ],
      "metadata": {
        "id": "LUySFUu4B0S_"
      },
      "execution_count": null,
      "outputs": []
    },
    {
      "cell_type": "markdown",
      "source": [
        "##LIGHT GBM CLASSIFIER MODEL"
      ],
      "metadata": {
        "id": "PPDExHBGCllj"
      }
    },
    {
      "cell_type": "code",
      "source": [
        "import lightgbm as lgb"
      ],
      "metadata": {
        "id": "GVhVhf_gCuwy"
      },
      "execution_count": null,
      "outputs": []
    },
    {
      "cell_type": "code",
      "source": [
        "model = lgb.LGBMClassifier()"
      ],
      "metadata": {
        "id": "YzgXQfvBCvoO"
      },
      "execution_count": null,
      "outputs": []
    },
    {
      "cell_type": "code",
      "source": [
        "evaluation_results = {}\n",
        "for metric_name, metric_func in metrics.items():\n",
        "    scores = cross_val_score(model, X, Y, cv=kfold, scoring=metric_name)\n",
        "    evaluation_results[metric_name] = scores.mean()"
      ],
      "metadata": {
        "id": "_kbxlJgFCrGq"
      },
      "execution_count": null,
      "outputs": []
    },
    {
      "cell_type": "code",
      "source": [
        "for metric_name, score in evaluation_results.items():\n",
        "    print(f\"Mean_{metric_name.capitalize()}: {score}\\n\")"
      ],
      "metadata": {
        "id": "bAZV8ZMYCyxS"
      },
      "execution_count": null,
      "outputs": []
    },
    {
      "cell_type": "code",
      "source": [
        "accuracy_scores = cross_val_score(model, X, Y, cv=kfold, scoring='accuracy')\n",
        "best_fold_index = np.argmax(accuracy_scores)"
      ],
      "metadata": {
        "id": "DP-jbolSC_rz"
      },
      "execution_count": null,
      "outputs": []
    },
    {
      "cell_type": "code",
      "source": [
        "train_index, test_index = list(kfold.split(X))[best_fold_index]"
      ],
      "metadata": {
        "id": "hCcMaBUEDFqI"
      },
      "execution_count": null,
      "outputs": []
    },
    {
      "cell_type": "code",
      "source": [
        "X_train, X_test = X.iloc[train_index], X.iloc[test_index]\n",
        "Y_train, Y_test = Y.iloc[train_index], Y.iloc[test_index]"
      ],
      "metadata": {
        "id": "vjrMjRsLDHf0"
      },
      "execution_count": null,
      "outputs": []
    },
    {
      "cell_type": "code",
      "source": [
        "model.fit(X_train, Y_train)"
      ],
      "metadata": {
        "id": "SAfGLRoLDIwy"
      },
      "execution_count": null,
      "outputs": []
    },
    {
      "cell_type": "code",
      "source": [
        "model_testing1(model)"
      ],
      "metadata": {
        "id": "Qqx9V49WDKHh"
      },
      "execution_count": null,
      "outputs": []
    },
    {
      "cell_type": "code",
      "source": [
        "model_testing11(model)"
      ],
      "metadata": {
        "id": "-oTxc1HCDKaQ"
      },
      "execution_count": null,
      "outputs": []
    }
  ],
  "metadata": {
    "colab": {
      "toc_visible": true,
      "provenance": [],
      "include_colab_link": true
    },
    "kernelspec": {
      "display_name": "Python 3",
      "name": "python3"
    },
    "language_info": {
      "name": "python"
    }
  },
  "nbformat": 4,
  "nbformat_minor": 0
}