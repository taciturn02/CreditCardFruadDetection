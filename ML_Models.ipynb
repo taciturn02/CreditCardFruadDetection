{
  "nbformat": 4,
  "nbformat_minor": 0,
  "metadata": {
    "colab": {
      "provenance": [],
      "toc_visible": true,
      "authorship_tag": "ABX9TyPfqPcslTSAQ66mCqZXL5TH",
      "include_colab_link": true
    },
    "kernelspec": {
      "name": "python3",
      "display_name": "Python 3"
    },
    "language_info": {
      "name": "python"
    }
  },
  "cells": [
    {
      "cell_type": "markdown",
      "metadata": {
        "id": "view-in-github",
        "colab_type": "text"
      },
      "source": [
        "<a href=\"https://colab.research.google.com/github/taciturn02/CreditCardFruadDetection/blob/main/creditCard_fraudDetection.ipynb\" target=\"_parent\"><img src=\"https://colab.research.google.com/assets/colab-badge.svg\" alt=\"Open In Colab\"/></a>"
      ]
    },
    {
      "cell_type": "code",
      "execution_count": 1,
      "metadata": {
        "id": "af6ytPke5kNc"
      },
      "outputs": [],
      "source": [
        "from google.colab import drive"
      ]
    },
    {
      "cell_type": "code",
      "source": [
        "drive.mount('/content/drive')"
      ],
      "metadata": {
        "colab": {
          "base_uri": "https://localhost:8080/"
        },
        "id": "CHLz3LRP5prS",
        "outputId": "0a25757c-2fe0-41a2-999c-9c3b91faa279"
      },
      "execution_count": 2,
      "outputs": [
        {
          "output_type": "stream",
          "name": "stdout",
          "text": [
            "Mounted at /content/drive\n"
          ]
        }
      ]
    },
    {
      "cell_type": "code",
      "source": [
        "import numpy as np\n",
        "import pandas as pd\n",
        "from sklearn.model_selection import train_test_split\n",
        "from sklearn.linear_model import LogisticRegression\n",
        "from sklearn.metrics import accuracy_score\n"
      ],
      "metadata": {
        "id": "g5ADbImS5rSZ"
      },
      "execution_count": 3,
      "outputs": []
    },
    {
      "cell_type": "code",
      "source": [
        "train_df = pd.read_csv(\"/content/drive/MyDrive/CreditCard_DataSet/randomUndersammpledData.csv\")\n",
        "train_df2 = pd.read_csv(\"/content/drive/MyDrive/CreditCard_DataSet/randomOversampledData.csv\")"
      ],
      "metadata": {
        "id": "IgjdfA3I51G0"
      },
      "execution_count": 4,
      "outputs": []
    },
    {
      "cell_type": "code",
      "source": [
        "train_df.info()\n",
        "train_df2.info()\n"
      ],
      "metadata": {
        "colab": {
          "base_uri": "https://localhost:8080/"
        },
        "id": "BOu74PO46VZI",
        "outputId": "c02a2feb-0038-4162-f267-2538231d5d30"
      },
      "execution_count": 5,
      "outputs": [
        {
          "output_type": "stream",
          "name": "stdout",
          "text": [
            "<class 'pandas.core.frame.DataFrame'>\n",
            "RangeIndex: 4290 entries, 0 to 4289\n",
            "Data columns (total 14 columns):\n",
            " #   Column      Non-Null Count  Dtype  \n",
            "---  ------      --------------  -----  \n",
            " 0   merchant    4290 non-null   int64  \n",
            " 1   category    4290 non-null   int64  \n",
            " 2   amt         4290 non-null   float64\n",
            " 3   gender      4290 non-null   int64  \n",
            " 4   lat         4290 non-null   float64\n",
            " 5   long        4290 non-null   float64\n",
            " 6   city_pop    4290 non-null   int64  \n",
            " 7   merch_lat   4290 non-null   float64\n",
            " 8   merch_long  4290 non-null   float64\n",
            " 9   is_fraud    4290 non-null   int64  \n",
            " 10  hour        4290 non-null   int64  \n",
            " 11  day         4290 non-null   int64  \n",
            " 12  month       4290 non-null   int64  \n",
            " 13  age_cust    4290 non-null   int64  \n",
            "dtypes: float64(5), int64(9)\n",
            "memory usage: 469.3 KB\n",
            "<class 'pandas.core.frame.DataFrame'>\n",
            "RangeIndex: 1107148 entries, 0 to 1107147\n",
            "Data columns (total 14 columns):\n",
            " #   Column      Non-Null Count    Dtype  \n",
            "---  ------      --------------    -----  \n",
            " 0   merchant    1107148 non-null  int64  \n",
            " 1   category    1107148 non-null  int64  \n",
            " 2   amt         1107148 non-null  float64\n",
            " 3   gender      1107148 non-null  int64  \n",
            " 4   lat         1107148 non-null  float64\n",
            " 5   long        1107148 non-null  float64\n",
            " 6   city_pop    1107148 non-null  int64  \n",
            " 7   merch_lat   1107148 non-null  float64\n",
            " 8   merch_long  1107148 non-null  float64\n",
            " 9   is_fraud    1107148 non-null  int64  \n",
            " 10  hour        1107148 non-null  int64  \n",
            " 11  day         1107148 non-null  int64  \n",
            " 12  month       1107148 non-null  int64  \n",
            " 13  age_cust    1107148 non-null  int64  \n",
            "dtypes: float64(5), int64(9)\n",
            "memory usage: 118.3 MB\n"
          ]
        }
      ]
    },
    {
      "cell_type": "markdown",
      "source": [
        "Split data into target and features"
      ],
      "metadata": {
        "id": "dfQBiDZCBgAo"
      }
    },
    {
      "cell_type": "code",
      "source": [
        "X = train_df.drop(columns='is_fraud', axis=1)\n",
        "Y = train_df['is_fraud']\n",
        "\n",
        "XX = train_df2.drop(columns='is_fraud', axis=1)\n",
        "YY = train_df2['is_fraud']"
      ],
      "metadata": {
        "id": "miajjFtJBfgr"
      },
      "execution_count": 6,
      "outputs": []
    },
    {
      "cell_type": "code",
      "source": [
        "print(X)\n",
        "print(XX)"
      ],
      "metadata": {
        "colab": {
          "base_uri": "https://localhost:8080/"
        },
        "id": "bz21EdyVByuz",
        "outputId": "ff573604-b557-46a4-93aa-ca521809780e"
      },
      "execution_count": 7,
      "outputs": [
        {
          "output_type": "stream",
          "name": "stdout",
          "text": [
            "      merchant  category      amt  gender      lat      long  city_pop  \\\n",
            "0          593        11    25.01       0  38.4549 -122.2564     94014   \n",
            "1          680         6    28.34       0  40.7320  -73.1000      4056   \n",
            "2          481         6    82.90       1  39.4584 -106.3851       277   \n",
            "3          285         2    72.01       1  35.6665  -97.4798    116001   \n",
            "4          170         1     4.43       0  41.1826  -92.3097      1583   \n",
            "...        ...       ...      ...     ...      ...       ...       ...   \n",
            "4285       670        12  1041.51       1  34.6323  -89.8855     14462   \n",
            "4286       349        12   868.09       1  34.6323  -89.8855     14462   \n",
            "4287       443        11  1039.42       1  34.6323  -89.8855     14462   \n",
            "4288        29         4   289.27       1  34.6323  -89.8855     14462   \n",
            "4289       281         8   766.38       1  34.6323  -89.8855     14462   \n",
            "\n",
            "      merch_lat  merch_long  hour  day  month  age_cust  \n",
            "0     38.827746 -122.743534    15    2     12        35  \n",
            "1     41.298928  -72.776423    12    5     12        30  \n",
            "2     39.496406 -105.914738    13    5      7        35  \n",
            "3     35.759990  -97.193946     4    3      7        27  \n",
            "4     42.046189  -91.901328    14    2     11        21  \n",
            "...         ...         ...   ...  ...    ...       ...  \n",
            "4285  34.573471  -89.911011    22    5     12        61  \n",
            "4286  34.091227  -90.390612    22    5     12        61  \n",
            "4287  34.628434  -90.284780    22    5     12        61  \n",
            "4288  34.746063  -90.401093    23    5     12        61  \n",
            "4289  33.771462  -90.651342    23    5     12        61  \n",
            "\n",
            "[4290 rows x 13 columns]\n",
            "         merchant  category     amt  gender      lat      long  city_pop  \\\n",
            "0             243         2    9.45       0  34.9572  -81.9916       530   \n",
            "1             687        11  958.05       1  47.0874  -93.9196      2097   \n",
            "2             370         1   93.87       0  33.6401 -116.5567      1661   \n",
            "3             448         8  650.68       0  31.3826  -81.4312      5989   \n",
            "4              20         4  319.80       0  31.6489  -82.1982      1324   \n",
            "...           ...       ...     ...     ...      ...       ...       ...   \n",
            "1107143       507         5   43.77       1  40.4931  -91.8912       519   \n",
            "1107144       264         7  111.84       1  29.0393  -95.4401     28739   \n",
            "1107145       496         7   86.88       0  46.1966 -118.9017      3684   \n",
            "1107146        75        13    7.99       1  44.6255 -116.4493       129   \n",
            "1107147       125         0   38.13       1  35.6665  -97.4798    116001   \n",
            "\n",
            "         merch_lat  merch_long  hour  day  month  age_cust  \n",
            "0        34.985724  -82.762592     0    3     10        31  \n",
            "1        46.292061  -94.024468    22    2      7        33  \n",
            "2        34.333350 -117.518070    23    3     10        32  \n",
            "3        31.781767  -81.753613    22    6     10        53  \n",
            "4        30.743302  -82.207894     3    4      9        94  \n",
            "...            ...         ...   ...  ...    ...       ...  \n",
            "1107143  39.946837  -91.333331    23    4     12        54  \n",
            "1107144  29.661049  -96.186633    23    4     12        21  \n",
            "1107145  46.658340 -119.715054    23    4     12        39  \n",
            "1107146  44.470525 -117.080888    23    4     12        55  \n",
            "1107147  36.210097  -97.036372    23    4     12        27  \n",
            "\n",
            "[1107148 rows x 13 columns]\n"
          ]
        }
      ]
    },
    {
      "cell_type": "code",
      "source": [
        "print(Y)\n",
        "print(YY)"
      ],
      "metadata": {
        "colab": {
          "base_uri": "https://localhost:8080/"
        },
        "id": "Pr3YxtozB0U4",
        "outputId": "92b94118-b98b-4a21-85c1-7239bff8fddf"
      },
      "execution_count": 8,
      "outputs": [
        {
          "output_type": "stream",
          "name": "stdout",
          "text": [
            "0       0\n",
            "1       0\n",
            "2       0\n",
            "3       0\n",
            "4       0\n",
            "       ..\n",
            "4285    1\n",
            "4286    1\n",
            "4287    1\n",
            "4288    1\n",
            "4289    1\n",
            "Name: is_fraud, Length: 4290, dtype: int64\n",
            "0          1\n",
            "1          1\n",
            "2          1\n",
            "3          1\n",
            "4          1\n",
            "          ..\n",
            "1107143    0\n",
            "1107144    0\n",
            "1107145    0\n",
            "1107146    0\n",
            "1107147    0\n",
            "Name: is_fraud, Length: 1107148, dtype: int64\n"
          ]
        }
      ]
    },
    {
      "cell_type": "markdown",
      "source": [
        "Split Data into training data and testing data"
      ],
      "metadata": {
        "id": "787o3o1DB4dx"
      }
    },
    {
      "cell_type": "code",
      "source": [
        "X_train, X_test, Y_train, Y_test = train_test_split(X, Y, test_size=0.40, stratify=Y, random_state=42)\n",
        "XX_train, XX_test, YY_train, YY_test = train_test_split(XX, YY, test_size=0.40, stratify=YY, random_state=42)"
      ],
      "metadata": {
        "id": "rFpYNEmNB7Vn"
      },
      "execution_count": 9,
      "outputs": []
    },
    {
      "cell_type": "markdown",
      "source": [],
      "metadata": {
        "id": "3uZ5XOKfL1ru"
      }
    },
    {
      "cell_type": "code",
      "source": [
        "print(X.shape, X_train.shape, X_test.shape)\n",
        "print(XX.shape, XX_train.shape, XX_test.shape)"
      ],
      "metadata": {
        "colab": {
          "base_uri": "https://localhost:8080/"
        },
        "id": "XHnwCsIdB2kp",
        "outputId": "f8e94b32-a2ef-430f-ba21-670c3131254f"
      },
      "execution_count": 10,
      "outputs": [
        {
          "output_type": "stream",
          "name": "stdout",
          "text": [
            "(4290, 13) (2574, 13) (1716, 13)\n",
            "(1107148, 13) (664288, 13) (442860, 13)\n"
          ]
        }
      ]
    },
    {
      "cell_type": "markdown",
      "source": [
        "##MODEL TRAINING"
      ],
      "metadata": {
        "id": "rH2i2yflCOQU"
      }
    },
    {
      "cell_type": "code",
      "source": [
        "model = LogisticRegression()"
      ],
      "metadata": {
        "id": "rfwo6R9YCS5y"
      },
      "execution_count": 11,
      "outputs": []
    },
    {
      "cell_type": "code",
      "source": [
        "model.fit(X_train, Y_train)\n",
        "model.fit(XX_train, YY_train)"
      ],
      "metadata": {
        "colab": {
          "base_uri": "https://localhost:8080/",
          "height": 75
        },
        "id": "Ifu28Q4cCUV5",
        "outputId": "cf2b7f81-1b9e-40e9-8758-3cf88021c176"
      },
      "execution_count": 12,
      "outputs": [
        {
          "output_type": "execute_result",
          "data": {
            "text/plain": [
              "LogisticRegression()"
            ],
            "text/html": [
              "<style>#sk-container-id-1 {color: black;background-color: white;}#sk-container-id-1 pre{padding: 0;}#sk-container-id-1 div.sk-toggleable {background-color: white;}#sk-container-id-1 label.sk-toggleable__label {cursor: pointer;display: block;width: 100%;margin-bottom: 0;padding: 0.3em;box-sizing: border-box;text-align: center;}#sk-container-id-1 label.sk-toggleable__label-arrow:before {content: \"▸\";float: left;margin-right: 0.25em;color: #696969;}#sk-container-id-1 label.sk-toggleable__label-arrow:hover:before {color: black;}#sk-container-id-1 div.sk-estimator:hover label.sk-toggleable__label-arrow:before {color: black;}#sk-container-id-1 div.sk-toggleable__content {max-height: 0;max-width: 0;overflow: hidden;text-align: left;background-color: #f0f8ff;}#sk-container-id-1 div.sk-toggleable__content pre {margin: 0.2em;color: black;border-radius: 0.25em;background-color: #f0f8ff;}#sk-container-id-1 input.sk-toggleable__control:checked~div.sk-toggleable__content {max-height: 200px;max-width: 100%;overflow: auto;}#sk-container-id-1 input.sk-toggleable__control:checked~label.sk-toggleable__label-arrow:before {content: \"▾\";}#sk-container-id-1 div.sk-estimator input.sk-toggleable__control:checked~label.sk-toggleable__label {background-color: #d4ebff;}#sk-container-id-1 div.sk-label input.sk-toggleable__control:checked~label.sk-toggleable__label {background-color: #d4ebff;}#sk-container-id-1 input.sk-hidden--visually {border: 0;clip: rect(1px 1px 1px 1px);clip: rect(1px, 1px, 1px, 1px);height: 1px;margin: -1px;overflow: hidden;padding: 0;position: absolute;width: 1px;}#sk-container-id-1 div.sk-estimator {font-family: monospace;background-color: #f0f8ff;border: 1px dotted black;border-radius: 0.25em;box-sizing: border-box;margin-bottom: 0.5em;}#sk-container-id-1 div.sk-estimator:hover {background-color: #d4ebff;}#sk-container-id-1 div.sk-parallel-item::after {content: \"\";width: 100%;border-bottom: 1px solid gray;flex-grow: 1;}#sk-container-id-1 div.sk-label:hover label.sk-toggleable__label {background-color: #d4ebff;}#sk-container-id-1 div.sk-serial::before {content: \"\";position: absolute;border-left: 1px solid gray;box-sizing: border-box;top: 0;bottom: 0;left: 50%;z-index: 0;}#sk-container-id-1 div.sk-serial {display: flex;flex-direction: column;align-items: center;background-color: white;padding-right: 0.2em;padding-left: 0.2em;position: relative;}#sk-container-id-1 div.sk-item {position: relative;z-index: 1;}#sk-container-id-1 div.sk-parallel {display: flex;align-items: stretch;justify-content: center;background-color: white;position: relative;}#sk-container-id-1 div.sk-item::before, #sk-container-id-1 div.sk-parallel-item::before {content: \"\";position: absolute;border-left: 1px solid gray;box-sizing: border-box;top: 0;bottom: 0;left: 50%;z-index: -1;}#sk-container-id-1 div.sk-parallel-item {display: flex;flex-direction: column;z-index: 1;position: relative;background-color: white;}#sk-container-id-1 div.sk-parallel-item:first-child::after {align-self: flex-end;width: 50%;}#sk-container-id-1 div.sk-parallel-item:last-child::after {align-self: flex-start;width: 50%;}#sk-container-id-1 div.sk-parallel-item:only-child::after {width: 0;}#sk-container-id-1 div.sk-dashed-wrapped {border: 1px dashed gray;margin: 0 0.4em 0.5em 0.4em;box-sizing: border-box;padding-bottom: 0.4em;background-color: white;}#sk-container-id-1 div.sk-label label {font-family: monospace;font-weight: bold;display: inline-block;line-height: 1.2em;}#sk-container-id-1 div.sk-label-container {text-align: center;}#sk-container-id-1 div.sk-container {/* jupyter's `normalize.less` sets `[hidden] { display: none; }` but bootstrap.min.css set `[hidden] { display: none !important; }` so we also need the `!important` here to be able to override the default hidden behavior on the sphinx rendered scikit-learn.org. See: https://github.com/scikit-learn/scikit-learn/issues/21755 */display: inline-block !important;position: relative;}#sk-container-id-1 div.sk-text-repr-fallback {display: none;}</style><div id=\"sk-container-id-1\" class=\"sk-top-container\"><div class=\"sk-text-repr-fallback\"><pre>LogisticRegression()</pre><b>In a Jupyter environment, please rerun this cell to show the HTML representation or trust the notebook. <br />On GitHub, the HTML representation is unable to render, please try loading this page with nbviewer.org.</b></div><div class=\"sk-container\" hidden><div class=\"sk-item\"><div class=\"sk-estimator sk-toggleable\"><input class=\"sk-toggleable__control sk-hidden--visually\" id=\"sk-estimator-id-1\" type=\"checkbox\" checked><label for=\"sk-estimator-id-1\" class=\"sk-toggleable__label sk-toggleable__label-arrow\">LogisticRegression</label><div class=\"sk-toggleable__content\"><pre>LogisticRegression()</pre></div></div></div></div></div>"
            ]
          },
          "metadata": {},
          "execution_count": 12
        }
      ]
    },
    {
      "cell_type": "markdown",
      "source": [
        "MODEL EVALUATION"
      ],
      "metadata": {
        "id": "Ccnp6wxdCa7y"
      }
    },
    {
      "cell_type": "code",
      "source": [
        "X_train_prediction = model.predict(X_train)\n",
        "training_data_accuracy = accuracy_score(X_train_prediction, Y_train)"
      ],
      "metadata": {
        "id": "ZGBy2zFmCYB2"
      },
      "execution_count": 13,
      "outputs": []
    },
    {
      "cell_type": "code",
      "source": [
        "print('Accuracy on Training  Undersampled  Data: ', training_data_accuracy)"
      ],
      "metadata": {
        "colab": {
          "base_uri": "https://localhost:8080/"
        },
        "id": "auNG61EpCgb6",
        "outputId": "5374cee4-025e-4435-cdef-0e2376c86e3f"
      },
      "execution_count": 14,
      "outputs": [
        {
          "output_type": "stream",
          "name": "stdout",
          "text": [
            "Accuracy on Training  Undersampled  Data:  0.8566433566433567\n"
          ]
        }
      ]
    },
    {
      "cell_type": "code",
      "source": [
        "X_test_prediction = model.predict(X_test)\n",
        "test_data_accuracy = accuracy_score(X_test_prediction, Y_test)"
      ],
      "metadata": {
        "id": "Unvk04yBCj3r"
      },
      "execution_count": 15,
      "outputs": []
    },
    {
      "cell_type": "code",
      "source": [
        "print('Accuracy score on Test UnderSampled Data : ', test_data_accuracy)"
      ],
      "metadata": {
        "colab": {
          "base_uri": "https://localhost:8080/"
        },
        "id": "6doNMiK_ClkR",
        "outputId": "4de435cb-b9f1-4999-a2f5-228f41792388"
      },
      "execution_count": 16,
      "outputs": [
        {
          "output_type": "stream",
          "name": "stdout",
          "text": [
            "Accuracy score on Test UnderSampled Data :  0.8432400932400932\n"
          ]
        }
      ]
    },
    {
      "cell_type": "code",
      "source": [
        "XX_train_prediction = model.predict(XX_train)\n",
        "training_data_accuracy = accuracy_score(XX_train_prediction, YY_train)"
      ],
      "metadata": {
        "id": "MPMMnlhC5PCy"
      },
      "execution_count": 17,
      "outputs": []
    },
    {
      "cell_type": "code",
      "source": [
        "print('Accuracy on Training  OverSampled  Data: ', training_data_accuracy)"
      ],
      "metadata": {
        "colab": {
          "base_uri": "https://localhost:8080/"
        },
        "id": "gzu1CqpE5UUC",
        "outputId": "2a3f02a3-eb51-4c6d-d3f9-495e9098e5d3"
      },
      "execution_count": 18,
      "outputs": [
        {
          "output_type": "stream",
          "name": "stdout",
          "text": [
            "Accuracy on Training  OverSampled  Data:  0.8501403005925141\n"
          ]
        }
      ]
    },
    {
      "cell_type": "code",
      "source": [
        "XX_test_prediction = model.predict(XX_test)\n",
        "test_data_accuracy = accuracy_score(XX_test_prediction, YY_test)"
      ],
      "metadata": {
        "id": "7WT81U1v5WrG"
      },
      "execution_count": 19,
      "outputs": []
    },
    {
      "cell_type": "code",
      "source": [
        "print('Accuracy score on Test Oversampled Data : ', test_data_accuracy)"
      ],
      "metadata": {
        "colab": {
          "base_uri": "https://localhost:8080/"
        },
        "id": "v5cT4Z5E5cSd",
        "outputId": "6862292b-3fcc-4ccf-f35e-e0c881f0a56f"
      },
      "execution_count": 20,
      "outputs": [
        {
          "output_type": "stream",
          "name": "stdout",
          "text": [
            "Accuracy score on Test Oversampled Data :  0.8505419319875356\n"
          ]
        }
      ]
    },
    {
      "cell_type": "markdown",
      "source": [
        "##DECISION TREE MODEL"
      ],
      "metadata": {
        "id": "EvMLDjWT6YZr"
      }
    },
    {
      "cell_type": "code",
      "source": [
        "from sklearn.ensemble import RandomForestClassifier\n",
        "from sklearn.tree import DecisionTreeClassifier\n",
        "from sklearn.metrics import accuracy_score,classification_report,confusion_matrix\n"
      ],
      "metadata": {
        "id": "nwjRtmDFkFl3"
      },
      "execution_count": 21,
      "outputs": []
    },
    {
      "cell_type": "code",
      "source": [
        "def model_testing1(estimator):\n",
        "    ## Prediction on data\n",
        "    y_preds = estimator.predict(X_test)\n",
        "\n",
        "    ##Print accuracy score\n",
        "    print(\"Accuracy Score on UnderSampled Test Data: \",accuracy_score(Y_test,y_preds))\n",
        "\n",
        "    ## Print classification report\n",
        "    print(\"\\nConfussion Matrix  of UnderSampled Test Data:\\n \" ,confusion_matrix(Y_test ,y_preds),\"\\n\")\n",
        "\n",
        "    ## Check confusion matrix\n",
        "    print(\"classification_report of UnderSampled Test Data: \\n\\n\",classification_report(Y_test ,y_preds))"
      ],
      "metadata": {
        "id": "4FmdIt4kkuVJ"
      },
      "execution_count": 22,
      "outputs": []
    },
    {
      "cell_type": "code",
      "source": [
        "def model_testing11(estimator):\n",
        "    ## Prediction on data\n",
        "    y_preds = estimator.predict(X_train)\n",
        "\n",
        "    ##Print accuracy score\n",
        "    print(\"Accuracy Score on UnderSampled Train Data: \",accuracy_score(Y_train,y_preds))\n",
        "\n",
        "    ## Print classification report\n",
        "    print(\"\\nConfussion Matrix  of UnderSampled Train Data:\\n \" ,confusion_matrix(Y_train ,y_preds),\"\\n\")\n",
        "\n",
        "    ## Check confusion matrix\n",
        "    print(\"classification_report of UnderSampled Train Data: \\n\\n\",classification_report(Y_train ,y_preds))"
      ],
      "metadata": {
        "id": "brlkCiobnLYx"
      },
      "execution_count": 23,
      "outputs": []
    },
    {
      "cell_type": "code",
      "source": [
        "dt = DecisionTreeClassifier(criterion = 'entropy',max_depth = 6, random_state=42)\n",
        "dt.fit(X_train ,Y_train)\n",
        "model_testing1(dt)\n"
      ],
      "metadata": {
        "colab": {
          "base_uri": "https://localhost:8080/"
        },
        "id": "DJ7GDNVLkign",
        "outputId": "b47998da-8c3e-432d-fde5-c436fdd426f3"
      },
      "execution_count": 24,
      "outputs": [
        {
          "output_type": "stream",
          "name": "stdout",
          "text": [
            "Accuracy Score on UnderSampled Test Data:  0.9458041958041958\n",
            "\n",
            "Confussion Matrix  of UnderSampled Test Data:\n",
            "  [[824  34]\n",
            " [ 59 799]] \n",
            "\n",
            "classification_report of UnderSampled Test Data: \n",
            "\n",
            "               precision    recall  f1-score   support\n",
            "\n",
            "           0       0.93      0.96      0.95       858\n",
            "           1       0.96      0.93      0.95       858\n",
            "\n",
            "    accuracy                           0.95      1716\n",
            "   macro avg       0.95      0.95      0.95      1716\n",
            "weighted avg       0.95      0.95      0.95      1716\n",
            "\n"
          ]
        }
      ]
    },
    {
      "cell_type": "code",
      "source": [
        "dt = DecisionTreeClassifier(criterion = 'entropy',max_depth = 6, random_state=42)\n",
        "dt.fit(X_train ,Y_train)\n",
        "model_testing11(dt)\n"
      ],
      "metadata": {
        "colab": {
          "base_uri": "https://localhost:8080/"
        },
        "id": "sErTw836ng-j",
        "outputId": "15066c9d-ccc4-4af5-c7d9-74a50b302848"
      },
      "execution_count": 25,
      "outputs": [
        {
          "output_type": "stream",
          "name": "stdout",
          "text": [
            "Accuracy Score on UnderSampled Train Data:  0.958041958041958\n",
            "\n",
            "Confussion Matrix  of UnderSampled Train Data:\n",
            "  [[1241   46]\n",
            " [  62 1225]] \n",
            "\n",
            "classification_report of UnderSampled Train Data: \n",
            "\n",
            "               precision    recall  f1-score   support\n",
            "\n",
            "           0       0.95      0.96      0.96      1287\n",
            "           1       0.96      0.95      0.96      1287\n",
            "\n",
            "    accuracy                           0.96      2574\n",
            "   macro avg       0.96      0.96      0.96      2574\n",
            "weighted avg       0.96      0.96      0.96      2574\n",
            "\n"
          ]
        }
      ]
    },
    {
      "cell_type": "code",
      "source": [
        "def model_testing2(estimator):\n",
        "    ## Prediction on data\n",
        "    y_preds = estimator.predict(XX_test)\n",
        "\n",
        "    ##Print accuracy score\n",
        "    print(\"Accuracy Score on OverSampled Test Data: \",accuracy_score(YY_test,y_preds))\n",
        "\n",
        "    ## Print classification report\n",
        "    print(\"\\nConfussion Matrix  of OverSampled Test Data:\\n \" ,confusion_matrix(YY_test ,y_preds),\"\\n\")\n",
        "\n",
        "    ## Check confusion matrix\n",
        "    print(\"classification_report of OverSampled Test Data: \\n\\n\",classification_report(YY_test ,y_preds))"
      ],
      "metadata": {
        "id": "Mu34dtrA6rq7"
      },
      "execution_count": 26,
      "outputs": []
    },
    {
      "cell_type": "code",
      "source": [
        "def model_testing22(estimator):\n",
        "    ## Prediction on data\n",
        "    y_preds = estimator.predict(XX_train)\n",
        "\n",
        "    ##Print accuracy score\n",
        "    print(\"Accuracy Score on OverSampled Train Data: \",accuracy_score(YY_train,y_preds))\n",
        "\n",
        "    ## Print classification report\n",
        "    print(\"\\nConfussion Matrix  of OverSampled Train Data:\\n \" ,confusion_matrix(YY_train ,y_preds),\"\\n\")\n",
        "\n",
        "    ## Check confusion matrix\n",
        "    print(\"classification_report of OverSampled Train Data: \\n\\n\",classification_report(YY_train ,y_preds))"
      ],
      "metadata": {
        "id": "hY3T6ijQnmxl"
      },
      "execution_count": 27,
      "outputs": []
    },
    {
      "cell_type": "code",
      "source": [
        "dt = DecisionTreeClassifier(criterion = 'entropy', max_depth = 6, random_state=42)\n",
        "dt.fit(XX_train ,YY_train)\n",
        "model_testing2(dt)\n"
      ],
      "metadata": {
        "colab": {
          "base_uri": "https://localhost:8080/"
        },
        "id": "Lw7zy_UK60Z1",
        "outputId": "3a66d385-fefb-4853-e3dc-cada6834cf85"
      },
      "execution_count": 28,
      "outputs": [
        {
          "output_type": "stream",
          "name": "stdout",
          "text": [
            "Accuracy Score on OverSampled Test Data:  0.9551099670324708\n",
            "\n",
            "Confussion Matrix  of OverSampled Test Data:\n",
            "  [[213380   8050]\n",
            " [ 11830 209600]] \n",
            "\n",
            "classification_report of OverSampled Test Data: \n",
            "\n",
            "               precision    recall  f1-score   support\n",
            "\n",
            "           0       0.95      0.96      0.96    221430\n",
            "           1       0.96      0.95      0.95    221430\n",
            "\n",
            "    accuracy                           0.96    442860\n",
            "   macro avg       0.96      0.96      0.96    442860\n",
            "weighted avg       0.96      0.96      0.96    442860\n",
            "\n"
          ]
        }
      ]
    },
    {
      "cell_type": "code",
      "source": [
        "dt = DecisionTreeClassifier(criterion = 'entropy', max_depth = 6, random_state=42)\n",
        "dt.fit(XX_train ,YY_train)\n",
        "model_testing22(dt)\n"
      ],
      "metadata": {
        "colab": {
          "base_uri": "https://localhost:8080/"
        },
        "id": "VTQeFI-7nvBM",
        "outputId": "0a06d323-7169-4f52-eb65-8da2170b28a4"
      },
      "execution_count": 29,
      "outputs": [
        {
          "output_type": "stream",
          "name": "stdout",
          "text": [
            "Accuracy Score on OverSampled Train Data:  0.954825316730093\n",
            "\n",
            "Confussion Matrix  of OverSampled Train Data:\n",
            "  [[320056  12088]\n",
            " [ 17921 314223]] \n",
            "\n",
            "classification_report of OverSampled Train Data: \n",
            "\n",
            "               precision    recall  f1-score   support\n",
            "\n",
            "           0       0.95      0.96      0.96    332144\n",
            "           1       0.96      0.95      0.95    332144\n",
            "\n",
            "    accuracy                           0.95    664288\n",
            "   macro avg       0.95      0.95      0.95    664288\n",
            "weighted avg       0.95      0.95      0.95    664288\n",
            "\n"
          ]
        }
      ]
    },
    {
      "cell_type": "markdown",
      "source": [
        "##RANDOM FOREST MODEL"
      ],
      "metadata": {
        "id": "FCAHJoTR8QI7"
      }
    },
    {
      "cell_type": "code",
      "source": [
        "from sklearn.ensemble import RandomForestClassifier\n",
        "classifier = RandomForestClassifier(criterion = 'entropy',max_depth = 8, random_state=42)\n",
        "classifier.fit(X_train,Y_train)"
      ],
      "metadata": {
        "colab": {
          "base_uri": "https://localhost:8080/",
          "height": 75
        },
        "id": "QDi0AJFW8ScT",
        "outputId": "92590527-0494-44f9-8ef7-f1ba902cfa6a"
      },
      "execution_count": 30,
      "outputs": [
        {
          "output_type": "execute_result",
          "data": {
            "text/plain": [
              "RandomForestClassifier(criterion='entropy', max_depth=8, random_state=42)"
            ],
            "text/html": [
              "<style>#sk-container-id-2 {color: black;background-color: white;}#sk-container-id-2 pre{padding: 0;}#sk-container-id-2 div.sk-toggleable {background-color: white;}#sk-container-id-2 label.sk-toggleable__label {cursor: pointer;display: block;width: 100%;margin-bottom: 0;padding: 0.3em;box-sizing: border-box;text-align: center;}#sk-container-id-2 label.sk-toggleable__label-arrow:before {content: \"▸\";float: left;margin-right: 0.25em;color: #696969;}#sk-container-id-2 label.sk-toggleable__label-arrow:hover:before {color: black;}#sk-container-id-2 div.sk-estimator:hover label.sk-toggleable__label-arrow:before {color: black;}#sk-container-id-2 div.sk-toggleable__content {max-height: 0;max-width: 0;overflow: hidden;text-align: left;background-color: #f0f8ff;}#sk-container-id-2 div.sk-toggleable__content pre {margin: 0.2em;color: black;border-radius: 0.25em;background-color: #f0f8ff;}#sk-container-id-2 input.sk-toggleable__control:checked~div.sk-toggleable__content {max-height: 200px;max-width: 100%;overflow: auto;}#sk-container-id-2 input.sk-toggleable__control:checked~label.sk-toggleable__label-arrow:before {content: \"▾\";}#sk-container-id-2 div.sk-estimator input.sk-toggleable__control:checked~label.sk-toggleable__label {background-color: #d4ebff;}#sk-container-id-2 div.sk-label input.sk-toggleable__control:checked~label.sk-toggleable__label {background-color: #d4ebff;}#sk-container-id-2 input.sk-hidden--visually {border: 0;clip: rect(1px 1px 1px 1px);clip: rect(1px, 1px, 1px, 1px);height: 1px;margin: -1px;overflow: hidden;padding: 0;position: absolute;width: 1px;}#sk-container-id-2 div.sk-estimator {font-family: monospace;background-color: #f0f8ff;border: 1px dotted black;border-radius: 0.25em;box-sizing: border-box;margin-bottom: 0.5em;}#sk-container-id-2 div.sk-estimator:hover {background-color: #d4ebff;}#sk-container-id-2 div.sk-parallel-item::after {content: \"\";width: 100%;border-bottom: 1px solid gray;flex-grow: 1;}#sk-container-id-2 div.sk-label:hover label.sk-toggleable__label {background-color: #d4ebff;}#sk-container-id-2 div.sk-serial::before {content: \"\";position: absolute;border-left: 1px solid gray;box-sizing: border-box;top: 0;bottom: 0;left: 50%;z-index: 0;}#sk-container-id-2 div.sk-serial {display: flex;flex-direction: column;align-items: center;background-color: white;padding-right: 0.2em;padding-left: 0.2em;position: relative;}#sk-container-id-2 div.sk-item {position: relative;z-index: 1;}#sk-container-id-2 div.sk-parallel {display: flex;align-items: stretch;justify-content: center;background-color: white;position: relative;}#sk-container-id-2 div.sk-item::before, #sk-container-id-2 div.sk-parallel-item::before {content: \"\";position: absolute;border-left: 1px solid gray;box-sizing: border-box;top: 0;bottom: 0;left: 50%;z-index: -1;}#sk-container-id-2 div.sk-parallel-item {display: flex;flex-direction: column;z-index: 1;position: relative;background-color: white;}#sk-container-id-2 div.sk-parallel-item:first-child::after {align-self: flex-end;width: 50%;}#sk-container-id-2 div.sk-parallel-item:last-child::after {align-self: flex-start;width: 50%;}#sk-container-id-2 div.sk-parallel-item:only-child::after {width: 0;}#sk-container-id-2 div.sk-dashed-wrapped {border: 1px dashed gray;margin: 0 0.4em 0.5em 0.4em;box-sizing: border-box;padding-bottom: 0.4em;background-color: white;}#sk-container-id-2 div.sk-label label {font-family: monospace;font-weight: bold;display: inline-block;line-height: 1.2em;}#sk-container-id-2 div.sk-label-container {text-align: center;}#sk-container-id-2 div.sk-container {/* jupyter's `normalize.less` sets `[hidden] { display: none; }` but bootstrap.min.css set `[hidden] { display: none !important; }` so we also need the `!important` here to be able to override the default hidden behavior on the sphinx rendered scikit-learn.org. See: https://github.com/scikit-learn/scikit-learn/issues/21755 */display: inline-block !important;position: relative;}#sk-container-id-2 div.sk-text-repr-fallback {display: none;}</style><div id=\"sk-container-id-2\" class=\"sk-top-container\"><div class=\"sk-text-repr-fallback\"><pre>RandomForestClassifier(criterion=&#x27;entropy&#x27;, max_depth=8, random_state=42)</pre><b>In a Jupyter environment, please rerun this cell to show the HTML representation or trust the notebook. <br />On GitHub, the HTML representation is unable to render, please try loading this page with nbviewer.org.</b></div><div class=\"sk-container\" hidden><div class=\"sk-item\"><div class=\"sk-estimator sk-toggleable\"><input class=\"sk-toggleable__control sk-hidden--visually\" id=\"sk-estimator-id-2\" type=\"checkbox\" checked><label for=\"sk-estimator-id-2\" class=\"sk-toggleable__label sk-toggleable__label-arrow\">RandomForestClassifier</label><div class=\"sk-toggleable__content\"><pre>RandomForestClassifier(criterion=&#x27;entropy&#x27;, max_depth=8, random_state=42)</pre></div></div></div></div></div>"
            ]
          },
          "metadata": {},
          "execution_count": 30
        }
      ]
    },
    {
      "cell_type": "code",
      "source": [
        "model_testing1(classifier)\n"
      ],
      "metadata": {
        "colab": {
          "base_uri": "https://localhost:8080/"
        },
        "id": "Ve1CWwu09DUi",
        "outputId": "4d432868-33de-401f-cc40-a444d9191d5a"
      },
      "execution_count": 31,
      "outputs": [
        {
          "output_type": "stream",
          "name": "stdout",
          "text": [
            "Accuracy Score on UnderSampled Test Data:  0.9487179487179487\n",
            "\n",
            "Confussion Matrix  of UnderSampled Test Data:\n",
            "  [[838  20]\n",
            " [ 68 790]] \n",
            "\n",
            "classification_report of UnderSampled Test Data: \n",
            "\n",
            "               precision    recall  f1-score   support\n",
            "\n",
            "           0       0.92      0.98      0.95       858\n",
            "           1       0.98      0.92      0.95       858\n",
            "\n",
            "    accuracy                           0.95      1716\n",
            "   macro avg       0.95      0.95      0.95      1716\n",
            "weighted avg       0.95      0.95      0.95      1716\n",
            "\n"
          ]
        }
      ]
    },
    {
      "cell_type": "code",
      "source": [
        "model_testing11(classifier)"
      ],
      "metadata": {
        "colab": {
          "base_uri": "https://localhost:8080/"
        },
        "id": "MjjSyKKksk33",
        "outputId": "2e2829e8-6df3-43a5-df8e-30c956e16600"
      },
      "execution_count": 32,
      "outputs": [
        {
          "output_type": "stream",
          "name": "stdout",
          "text": [
            "Accuracy Score on UnderSampled Train Data:  0.9766899766899767\n",
            "\n",
            "Confussion Matrix  of UnderSampled Train Data:\n",
            "  [[1283    4]\n",
            " [  56 1231]] \n",
            "\n",
            "classification_report of UnderSampled Train Data: \n",
            "\n",
            "               precision    recall  f1-score   support\n",
            "\n",
            "           0       0.96      1.00      0.98      1287\n",
            "           1       1.00      0.96      0.98      1287\n",
            "\n",
            "    accuracy                           0.98      2574\n",
            "   macro avg       0.98      0.98      0.98      2574\n",
            "weighted avg       0.98      0.98      0.98      2574\n",
            "\n"
          ]
        }
      ]
    },
    {
      "cell_type": "code",
      "source": [
        "classifier.fit(XX_train,YY_train)"
      ],
      "metadata": {
        "colab": {
          "base_uri": "https://localhost:8080/",
          "height": 75
        },
        "id": "l60dXFfd9gjp",
        "outputId": "9b86885f-2713-42ba-b651-a3d7e7abe3c2"
      },
      "execution_count": 33,
      "outputs": [
        {
          "output_type": "execute_result",
          "data": {
            "text/plain": [
              "RandomForestClassifier(criterion='entropy', max_depth=8, random_state=42)"
            ],
            "text/html": [
              "<style>#sk-container-id-3 {color: black;background-color: white;}#sk-container-id-3 pre{padding: 0;}#sk-container-id-3 div.sk-toggleable {background-color: white;}#sk-container-id-3 label.sk-toggleable__label {cursor: pointer;display: block;width: 100%;margin-bottom: 0;padding: 0.3em;box-sizing: border-box;text-align: center;}#sk-container-id-3 label.sk-toggleable__label-arrow:before {content: \"▸\";float: left;margin-right: 0.25em;color: #696969;}#sk-container-id-3 label.sk-toggleable__label-arrow:hover:before {color: black;}#sk-container-id-3 div.sk-estimator:hover label.sk-toggleable__label-arrow:before {color: black;}#sk-container-id-3 div.sk-toggleable__content {max-height: 0;max-width: 0;overflow: hidden;text-align: left;background-color: #f0f8ff;}#sk-container-id-3 div.sk-toggleable__content pre {margin: 0.2em;color: black;border-radius: 0.25em;background-color: #f0f8ff;}#sk-container-id-3 input.sk-toggleable__control:checked~div.sk-toggleable__content {max-height: 200px;max-width: 100%;overflow: auto;}#sk-container-id-3 input.sk-toggleable__control:checked~label.sk-toggleable__label-arrow:before {content: \"▾\";}#sk-container-id-3 div.sk-estimator input.sk-toggleable__control:checked~label.sk-toggleable__label {background-color: #d4ebff;}#sk-container-id-3 div.sk-label input.sk-toggleable__control:checked~label.sk-toggleable__label {background-color: #d4ebff;}#sk-container-id-3 input.sk-hidden--visually {border: 0;clip: rect(1px 1px 1px 1px);clip: rect(1px, 1px, 1px, 1px);height: 1px;margin: -1px;overflow: hidden;padding: 0;position: absolute;width: 1px;}#sk-container-id-3 div.sk-estimator {font-family: monospace;background-color: #f0f8ff;border: 1px dotted black;border-radius: 0.25em;box-sizing: border-box;margin-bottom: 0.5em;}#sk-container-id-3 div.sk-estimator:hover {background-color: #d4ebff;}#sk-container-id-3 div.sk-parallel-item::after {content: \"\";width: 100%;border-bottom: 1px solid gray;flex-grow: 1;}#sk-container-id-3 div.sk-label:hover label.sk-toggleable__label {background-color: #d4ebff;}#sk-container-id-3 div.sk-serial::before {content: \"\";position: absolute;border-left: 1px solid gray;box-sizing: border-box;top: 0;bottom: 0;left: 50%;z-index: 0;}#sk-container-id-3 div.sk-serial {display: flex;flex-direction: column;align-items: center;background-color: white;padding-right: 0.2em;padding-left: 0.2em;position: relative;}#sk-container-id-3 div.sk-item {position: relative;z-index: 1;}#sk-container-id-3 div.sk-parallel {display: flex;align-items: stretch;justify-content: center;background-color: white;position: relative;}#sk-container-id-3 div.sk-item::before, #sk-container-id-3 div.sk-parallel-item::before {content: \"\";position: absolute;border-left: 1px solid gray;box-sizing: border-box;top: 0;bottom: 0;left: 50%;z-index: -1;}#sk-container-id-3 div.sk-parallel-item {display: flex;flex-direction: column;z-index: 1;position: relative;background-color: white;}#sk-container-id-3 div.sk-parallel-item:first-child::after {align-self: flex-end;width: 50%;}#sk-container-id-3 div.sk-parallel-item:last-child::after {align-self: flex-start;width: 50%;}#sk-container-id-3 div.sk-parallel-item:only-child::after {width: 0;}#sk-container-id-3 div.sk-dashed-wrapped {border: 1px dashed gray;margin: 0 0.4em 0.5em 0.4em;box-sizing: border-box;padding-bottom: 0.4em;background-color: white;}#sk-container-id-3 div.sk-label label {font-family: monospace;font-weight: bold;display: inline-block;line-height: 1.2em;}#sk-container-id-3 div.sk-label-container {text-align: center;}#sk-container-id-3 div.sk-container {/* jupyter's `normalize.less` sets `[hidden] { display: none; }` but bootstrap.min.css set `[hidden] { display: none !important; }` so we also need the `!important` here to be able to override the default hidden behavior on the sphinx rendered scikit-learn.org. See: https://github.com/scikit-learn/scikit-learn/issues/21755 */display: inline-block !important;position: relative;}#sk-container-id-3 div.sk-text-repr-fallback {display: none;}</style><div id=\"sk-container-id-3\" class=\"sk-top-container\"><div class=\"sk-text-repr-fallback\"><pre>RandomForestClassifier(criterion=&#x27;entropy&#x27;, max_depth=8, random_state=42)</pre><b>In a Jupyter environment, please rerun this cell to show the HTML representation or trust the notebook. <br />On GitHub, the HTML representation is unable to render, please try loading this page with nbviewer.org.</b></div><div class=\"sk-container\" hidden><div class=\"sk-item\"><div class=\"sk-estimator sk-toggleable\"><input class=\"sk-toggleable__control sk-hidden--visually\" id=\"sk-estimator-id-3\" type=\"checkbox\" checked><label for=\"sk-estimator-id-3\" class=\"sk-toggleable__label sk-toggleable__label-arrow\">RandomForestClassifier</label><div class=\"sk-toggleable__content\"><pre>RandomForestClassifier(criterion=&#x27;entropy&#x27;, max_depth=8, random_state=42)</pre></div></div></div></div></div>"
            ]
          },
          "metadata": {},
          "execution_count": 33
        }
      ]
    },
    {
      "cell_type": "code",
      "source": [
        "model_testing2(classifier)\n",
        "classifier.score(XX_test ,YY_test)"
      ],
      "metadata": {
        "colab": {
          "base_uri": "https://localhost:8080/"
        },
        "id": "xxJuiX-O9lhW",
        "outputId": "78243ab7-2278-4567-8149-223b9caafd74"
      },
      "execution_count": 34,
      "outputs": [
        {
          "output_type": "stream",
          "name": "stdout",
          "text": [
            "Accuracy Score on OverSampled Test Data:  0.963476042090051\n",
            "\n",
            "Confussion Matrix  of OverSampled Test Data:\n",
            "  [[216613   4817]\n",
            " [ 11358 210072]] \n",
            "\n",
            "classification_report of OverSampled Test Data: \n",
            "\n",
            "               precision    recall  f1-score   support\n",
            "\n",
            "           0       0.95      0.98      0.96    221430\n",
            "           1       0.98      0.95      0.96    221430\n",
            "\n",
            "    accuracy                           0.96    442860\n",
            "   macro avg       0.96      0.96      0.96    442860\n",
            "weighted avg       0.96      0.96      0.96    442860\n",
            "\n"
          ]
        },
        {
          "output_type": "execute_result",
          "data": {
            "text/plain": [
              "0.963476042090051"
            ]
          },
          "metadata": {},
          "execution_count": 34
        }
      ]
    },
    {
      "cell_type": "code",
      "source": [
        "model_testing22(classifier)\n"
      ],
      "metadata": {
        "id": "bm1E_KGHsKL9",
        "outputId": "acdc7e19-49e2-460b-e94a-01cd4b65ba97",
        "colab": {
          "base_uri": "https://localhost:8080/"
        }
      },
      "execution_count": 35,
      "outputs": [
        {
          "output_type": "stream",
          "name": "stdout",
          "text": [
            "Accuracy Score on OverSampled Train Data:  0.9633953947685341\n",
            "\n",
            "Confussion Matrix  of OverSampled Train Data:\n",
            "  [[325018   7126]\n",
            " [ 17190 314954]] \n",
            "\n",
            "classification_report of OverSampled Train Data: \n",
            "\n",
            "               precision    recall  f1-score   support\n",
            "\n",
            "           0       0.95      0.98      0.96    332144\n",
            "           1       0.98      0.95      0.96    332144\n",
            "\n",
            "    accuracy                           0.96    664288\n",
            "   macro avg       0.96      0.96      0.96    664288\n",
            "weighted avg       0.96      0.96      0.96    664288\n",
            "\n"
          ]
        }
      ]
    }
  ]
}
